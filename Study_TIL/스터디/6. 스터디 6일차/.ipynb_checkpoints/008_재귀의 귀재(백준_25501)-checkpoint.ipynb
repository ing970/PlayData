{
 "cells": [
  {
   "cell_type": "markdown",
   "id": "7ca39a81",
   "metadata": {},
   "source": [
    "# 008. 재귀의 귀재 (25501번)\n"
   ]
  },
  {
   "cell_type": "markdown",
   "id": "ff7dfb58",
   "metadata": {},
   "source": [
    "- 백준 \n",
    "\n",
    "https://www.acmicpc.net/problem/10870"
   ]
  },
  {
   "cell_type": "markdown",
   "id": "5c1a0e47",
   "metadata": {},
   "source": [
    "# 문제\n",
    "정휘는 후배들이 재귀 함수를 잘 다루는 재귀의 귀재인지 알아보기 위해 재귀 함수와 관련된 문제를 출제하기로 했다.\n",
    "\n",
    "팰린드롬이란, 앞에서부터 읽었을 때와 뒤에서부터 읽었을 때가 같은 문자열을 말한다. 팰린드롬의 예시로 AAA, ABBA, ABABA 등이 있고, 팰린드롬이 아닌 문자열의 예시로 ABCA, PALINDROME 등이 있다.\n",
    "\n",
    "어떤 문자열이 팰린드롬인지 판별하는 문제는 재귀 함수를 이용해 쉽게 해결할 수 있다. 아래 코드의 isPalindrome 함수는 주어진 문자열이 팰린드롬이면 1, 팰린드롬이 아니면 0을 반환하는 함수다.\n",
    "정휘는 위에 작성된 isPalindrome 함수를 이용하여 어떤 문자열이 팰린드롬인지 여부를 판단하려고 한다.\n",
    "\n",
    "구체적으로는, 문자열 \n",
    "$S$를 isPalindrome 함수의 인자로 전달하여 팰린드롬 여부를 반환값으로 알아낼 것이다. 더불어 판별하는 과정에서 recursion 함수를 몇 번 호출하는지 셀 것이다.\n",
    "\n",
    "정휘를 따라 여러분도 함수의 반환값과 recursion 함수의 호출 횟수를 구해보자."
   ]
  },
  {
   "cell_type": "code",
   "execution_count": null,
   "id": "0b8a3f76",
   "metadata": {},
   "outputs": [],
   "source": [
    "#include <stdio.h>\n",
    "#include <string.h>\n",
    "\n",
    "int recursion(const char *s, int l, int r){\n",
    "    if(l >= r) return 1;\n",
    "    else if(s[l] != s[r]) return 0;\n",
    "    else return recursion(s, l+1, r-1);\n",
    "}\n",
    "\n",
    "int isPalindrome(const char *s){\n",
    "    return recursion(s, 0, strlen(s)-1);\n",
    "}\n",
    "\n",
    "int main(){\n",
    "    printf(\"ABBA: %d\\n\", isPalindrome(\"ABBA\")); // 1\n",
    "    printf(\"ABC: %d\\n\", isPalindrome(\"ABC\"));   // 0\n",
    "}"
   ]
  },
  {
   "cell_type": "markdown",
   "id": "2f188c6e",
   "metadata": {},
   "source": [
    "# 입력\n",
    "첫째 줄에 테스트케이스의 개수 \n",
    "$T$가 주어진다. (\n",
    "$1 \\leq T \\leq 1\\,000$)\n",
    "\n",
    "둘째 줄부터 \n",
    "$T$개의 줄에 알파벳 대문자로 구성된 문자열 \n",
    "$S$가 주어진다. (\n",
    "$1 \\leq \\vert S\\vert \\leq 1\\,000$)"
   ]
  },
  {
   "cell_type": "markdown",
   "id": "5d5dff3e",
   "metadata": {},
   "source": [
    "# 출력\n",
    "각 테스트케이스마다, isPalindrome 함수의 반환값과 recursion 함수의 호출 횟수를 한 줄에 공백으로 구분하여 출력한다."
   ]
  },
  {
   "cell_type": "markdown",
   "id": "d085102a",
   "metadata": {},
   "source": [
    "# 예제 입력 1"
   ]
  },
  {
   "cell_type": "code",
   "execution_count": null,
   "id": "65c29f85",
   "metadata": {},
   "outputs": [],
   "source": [
    "5\n",
    "AAA\n",
    "ABBA\n",
    "ABABA\n",
    "ABCA\n",
    "PALINDROME"
   ]
  },
  {
   "cell_type": "markdown",
   "id": "caa34886",
   "metadata": {},
   "source": [
    "# 예제 출력1"
   ]
  },
  {
   "cell_type": "code",
   "execution_count": null,
   "id": "34457d9a",
   "metadata": {},
   "outputs": [],
   "source": [
    "1 2\n",
    "1 3\n",
    "1 3\n",
    "0 2\n",
    "0 1"
   ]
  },
  {
   "cell_type": "markdown",
   "id": "90fb693c",
   "metadata": {},
   "source": [
    "# 힌트."
   ]
  },
  {
   "cell_type": "code",
   "execution_count": null,
   "id": "e92a12b3",
   "metadata": {},
   "outputs": [],
   "source": [
    "def recursion(s, l, r):\n",
    "    if l >= r: return 1\n",
    "    elif s[l] != s[r]: return 0\n",
    "    else: return recursion(s, l+1, r-1)\n",
    "\n",
    "def isPalindrome(s):\n",
    "    return recursion(s, 0, len(s)-1)\n",
    "\n",
    "print('ABBA:', isPalindrome('ABBA'))\n",
    "print('ABC:', isPalindrome('ABC'))"
   ]
  },
  {
   "cell_type": "markdown",
   "id": "1d6cb0c5",
   "metadata": {},
   "source": [
    "## solution 1.  "
   ]
  },
  {
   "cell_type": "code",
   "execution_count": null,
   "id": "adb5011a",
   "metadata": {},
   "outputs": [],
   "source": []
  },
  {
   "cell_type": "markdown",
   "id": "94d486ca",
   "metadata": {},
   "source": [
    "## solution 2. 재귀"
   ]
  },
  {
   "cell_type": "code",
   "execution_count": 1,
   "id": "ba6d9470",
   "metadata": {},
   "outputs": [
    {
     "name": "stdout",
     "output_type": "stream",
     "text": [
      "10\n",
      "55\n"
     ]
    }
   ],
   "source": []
  }
 ],
 "metadata": {
  "kernelspec": {
   "display_name": "Python 3 (ipykernel)",
   "language": "python",
   "name": "python3"
  },
  "language_info": {
   "codemirror_mode": {
    "name": "ipython",
    "version": 3
   },
   "file_extension": ".py",
   "mimetype": "text/x-python",
   "name": "python",
   "nbconvert_exporter": "python",
   "pygments_lexer": "ipython3",
   "version": "3.9.13"
  }
 },
 "nbformat": 4,
 "nbformat_minor": 5
}
