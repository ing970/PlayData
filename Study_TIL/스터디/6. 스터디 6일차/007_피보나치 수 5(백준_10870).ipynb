{
 "cells": [
  {
   "cell_type": "markdown",
   "id": "7ca39a81",
   "metadata": {},
   "source": [
    "# 007. 피보나치 (10870번)\n"
   ]
  },
  {
   "cell_type": "markdown",
   "id": "ff7dfb58",
   "metadata": {},
   "source": [
    "- 백준 \n",
    "\n",
    "https://www.acmicpc.net/problem/10870"
   ]
  },
  {
   "cell_type": "markdown",
   "id": "5c1a0e47",
   "metadata": {},
   "source": [
    "피보나치 수는 0과 1로 시작한다. 0번째 피보나치 수는 0이고, 1번째 피보나치 수는 1이다. 그 다음 2번째 부터는 바로 앞 두 피보나치 수의 합이 된다.\n",
    "\n",
    "이를 식으로 써보면 Fn = Fn-1 + Fn-2 (n ≥ 2)가 된다.\n",
    "\n",
    "n=17일때 까지 피보나치 수를 써보면 다음과 같다.\n",
    "\n",
    "0, 1, 1, 2, 3, 5, 8, 13, 21, 34, 55, 89, 144, 233, 377, 610, 987, 1597\n",
    "\n",
    "n이 주어졌을 때, n번째 피보나치 수를 구하는 프로그램을 작성하시오.\n",
    "\n",
    "# 문제\n",
    "0보다 크거나 같은 정수 N이 주어진다. 이때, N!을 출력하는 프로그램을 작성하시오."
   ]
  },
  {
   "cell_type": "markdown",
   "id": "2f188c6e",
   "metadata": {},
   "source": [
    "# 입력\n",
    "첫째 줄에 n이 주어진다. n은 20보다 작거나 같은 자연수 또는 0이다."
   ]
  },
  {
   "cell_type": "markdown",
   "id": "5d5dff3e",
   "metadata": {},
   "source": [
    "# 출력\n",
    "첫째 줄에 n번째 피보나치 수를 출력한다."
   ]
  },
  {
   "cell_type": "markdown",
   "id": "d085102a",
   "metadata": {},
   "source": [
    "# 예제 입력 1"
   ]
  },
  {
   "cell_type": "code",
   "execution_count": null,
   "id": "65c29f85",
   "metadata": {},
   "outputs": [],
   "source": [
    "10"
   ]
  },
  {
   "cell_type": "markdown",
   "id": "caa34886",
   "metadata": {},
   "source": [
    "# 예제 출력1"
   ]
  },
  {
   "cell_type": "code",
   "execution_count": null,
   "id": "34457d9a",
   "metadata": {},
   "outputs": [],
   "source": [
    "55"
   ]
  },
  {
   "cell_type": "markdown",
   "id": "90fb693c",
   "metadata": {},
   "source": [
    "# 힌트."
   ]
  },
  {
   "cell_type": "markdown",
   "id": "1d6cb0c5",
   "metadata": {},
   "source": [
    "## solution 1.  "
   ]
  },
  {
   "cell_type": "code",
   "execution_count": null,
   "id": "adb5011a",
   "metadata": {},
   "outputs": [],
   "source": [
    "n = int(input())\n",
    "\n",
    "l = []\n",
    "\n",
    "fibo = 0\n",
    "for i in range(10):\n",
    "    fibo"
   ]
  },
  {
   "cell_type": "markdown",
   "id": "94d486ca",
   "metadata": {},
   "source": [
    "## solution 2. 재귀"
   ]
  },
  {
   "cell_type": "code",
   "execution_count": null,
   "id": "ba6d9470",
   "metadata": {},
   "outputs": [],
   "source": [
    "def Fibonacci(a):\n",
    "    \n",
    "i = 0\n",
    "j = 1\n",
    "\n",
    "\n",
    "if a > 0:\n",
    "\n",
    "\n",
    "\n",
    "\n",
    "n = int(input())\n",
    "print(Fibonacci(n))"
   ]
  },
  {
   "cell_type": "code",
   "execution_count": null,
   "id": "fef6d0f7",
   "metadata": {},
   "outputs": [],
   "source": []
  },
  {
   "cell_type": "code",
   "execution_count": null,
   "id": "06454df5",
   "metadata": {},
   "outputs": [],
   "source": []
  },
  {
   "cell_type": "code",
   "execution_count": null,
   "id": "d6147774",
   "metadata": {},
   "outputs": [],
   "source": []
  },
  {
   "cell_type": "code",
   "execution_count": null,
   "id": "d4954413",
   "metadata": {},
   "outputs": [],
   "source": []
  }
 ],
 "metadata": {
  "kernelspec": {
   "display_name": "Python 3 (ipykernel)",
   "language": "python",
   "name": "python3"
  },
  "language_info": {
   "codemirror_mode": {
    "name": "ipython",
    "version": 3
   },
   "file_extension": ".py",
   "mimetype": "text/x-python",
   "name": "python",
   "nbconvert_exporter": "python",
   "pygments_lexer": "ipython3",
   "version": "3.9.13"
  }
 },
 "nbformat": 4,
 "nbformat_minor": 5
}
