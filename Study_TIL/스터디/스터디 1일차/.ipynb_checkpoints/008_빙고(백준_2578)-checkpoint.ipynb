{
 "cells": [
  {
   "cell_type": "markdown",
   "id": "7ca39a81",
   "metadata": {},
   "source": [
    "# 008. 빙고 (2578번)\n"
   ]
  },
  {
   "cell_type": "markdown",
   "id": "ff7dfb58",
   "metadata": {},
   "source": [
    "- 백준 \n",
    "\n",
    "https://www.acmicpc.net/problem/2578\n"
   ]
  },
  {
   "cell_type": "markdown",
   "id": "74a8265e",
   "metadata": {},
   "source": [
    "# 문제\n",
    "- 빙고 게임은 다음과 같은 방식으로 이루어진다.\n",
    "\n",
    "먼저 아래와 같이 25개의 칸으로 이루어진 빙고판에 1부터 25까지 자연수를 한 칸에 하나씩 쓴다\n",
    "\n",
    "![bingo_1](../images/bingo_1.png)"
   ]
  },
  {
   "cell_type": "markdown",
   "id": "fc36996c",
   "metadata": {},
   "source": [
    "- 다음은 사회자가 부르는 수를 차례로 지워나간다. 예를 들어 5, 10, 7이 불렸다면 이 세 수를 지운 뒤 빙고판의 모습은 다음과 같다.\n",
    "\n",
    "![bingo_2](../images/bingo_2.png)\n",
    "\n",
    "\n",
    " "
   ]
  },
  {
   "attachments": {},
   "cell_type": "markdown",
   "id": "5c1a0e47",
   "metadata": {},
   "source": [
    "- 차례로 수를 지워가다가 같은 가로줄, 세로줄 또는 대각선 위에 있는 5개의 모든 수가 지워지는 경우 그 줄에 선을 긋는다.\n",
    "\n",
    "![bingo_3](../images/bingo_3.png)\n",
    "\n",
    "\n",
    "이러한 선이 세 개 이상 그어지는 순간 \"빙고\"라고 외치는데, 가장 먼저 외치는 사람이 게임의 승자가 된다.\n",
    "\n",
    "\n",
    "\n",
    "철수는 친구들과 빙고 게임을 하고 있다. 철수가 빙고판에 쓴 수들과 사회자가 부르는 수의 순서가 주어질 때, 사회자가 몇 번째 수를 부른 후 철수가 \"빙고\"를 외치게 되는지를 출력하는 프로그램을 작성하시오."
   ]
  },
  {
   "cell_type": "markdown",
   "id": "22792698",
   "metadata": {},
   "source": [
    "# 입력\n",
    "- 첫째 줄부터 다섯째 줄까지 빙고판에 쓰여진 수가 가장 위 가로줄부터 차례대로 한 줄에 다섯 개씩 빈 칸을 사이에 두고 주어진다. 여섯째 줄부터 열째 줄까지 사회자가 부르는 수가 차례대로 한 줄에 다섯 개씩 빈 칸을 사이에 두고 주어진다. 빙고판에 쓰여진 수와 사회자가 부르는 수는 각각 1부터 25까지의 수가 한 번씩 사용된다."
   ]
  },
  {
   "cell_type": "markdown",
   "id": "f5dd69ff",
   "metadata": {},
   "source": [
    "# 출력\n",
    "- 첫째 줄에 사회자가 몇 번째 수를 부른 후 철수가 \"빙고\"를 외치게 되는지 출력한다."
   ]
  },
  {
   "cell_type": "markdown",
   "id": "1d6cb0c5",
   "metadata": {},
   "source": [
    "## solution 1."
   ]
  },
  {
   "cell_type": "code",
   "execution_count": null,
   "id": "69d2db07",
   "metadata": {
    "scrolled": true
   },
   "outputs": [],
   "source": []
  },
  {
   "cell_type": "markdown",
   "id": "7c61343d",
   "metadata": {},
   "source": [
    "## solution 2."
   ]
  },
  {
   "cell_type": "code",
   "execution_count": 1,
   "id": "2faadb9d",
   "metadata": {},
   "outputs": [
    {
     "name": "stdout",
     "output_type": "stream",
     "text": [
      "11 12 2 24 10\n",
      "16 1 13 3 25\n",
      "6 20 5 21 17\n",
      "19 4 8 14 9\n",
      "22 15 7 23 18\n",
      "5 10 7 16 2\n",
      "4 22 8 17 13\n",
      "3 18 1 6 25\n",
      "12 19 23 14 21\n",
      "11 24 9 20 15\n",
      "15\n"
     ]
    }
   ],
   "source": [
    "# # 수정 전 코드\n",
    "# chulsu = []\n",
    "# answer = []\n",
    "# for i in range(10):\n",
    "#     # 앞 5줄은 chulsu 리스트에, 뒤 5줄은 answer 리스트에 이중 리스트 형식으로 append\n",
    "#     if i <= 4:\n",
    "#         chulsu.append(input().split(' '))\n",
    "#     else:\n",
    "#         answer.append(input().split(' '))\n",
    "# # 이중 리스트를 일차원 리스트 형식으로 변경 -> sum을 이용해 바꿔준다.\n",
    "# chulsu = sum(chulsu, [])\n",
    "# answer = sum(answer, [])\n",
    "# ----------------------------------------\n",
    "\n",
    "# 첫번째 입력받은 문장을 통해 chulsu(철수의 빙고판) 리스트 생성\n",
    "chulsu = input().split(' ')\n",
    "answer = []\n",
    "# chulsu(철수의 빙고판) 리스트의 길이를 통해 빙고판의 가로 세로 예측\n",
    "n = len(chulsu)\n",
    "\n",
    "# 4줄은 chulsu 리스트에, 나머지 5줄은 answer(사회자의 대답)리스트에 추가\n",
    "for i in range(1, n*2):\n",
    "    if i < n:\n",
    "        chulsu += input().split(' ')\n",
    "    else:\n",
    "        answer += input().split(' ')\n",
    "\n",
    "def bingo(same):\n",
    "    \"\"\"\n",
    "    same: list - 사회자가 부른 번호의 빙고판 속 index를 나타내는 리스트\n",
    "    return: 3 빙고 일때 True를 리턴해준다.\n",
    "    \"\"\"\n",
    "    bingo_line = 0\n",
    "    # 세로로 빙고\n",
    "    if (0 in same) & (5 in same) & (10 in same) & (15 in same) & (20 in same):\n",
    "        bingo_line += 1\n",
    "    if (1 in same) & (6 in same) & (11 in same) & (16 in same) & (21 in same):\n",
    "        bingo_line += 1\n",
    "    if (2 in same) & (7 in same) & (12 in same) & (17 in same) & (22 in same):\n",
    "        bingo_line += 1\n",
    "    if (3 in same) & (8 in same) & (13 in same) & (18 in same) & (23 in same):\n",
    "        bingo_line += 1\n",
    "    if (4 in same) & (9 in same) & (14 in same) & (19 in same) & (24 in same):\n",
    "        bingo_line += 1\n",
    "    # 가로로 빙고\n",
    "    if (0 in same) & (1 in same) & (2 in same) & (3 in same) & (4 in same):\n",
    "        bingo_line += 1\n",
    "    if (5 in same) & (6 in same) & (7 in same) & (8 in same) & (9 in same):\n",
    "        bingo_line += 1\n",
    "    if (10 in same) & (11 in same) & (12 in same) & (13 in same) & (14 in same):\n",
    "        bingo_line += 1\n",
    "    if (15 in same) & (16 in same) & (17 in same) & (18 in same) & (19 in same):\n",
    "        bingo_line += 1\n",
    "    if (20 in same) & (21 in same) & (22 in same) & (23 in same) & (24 in same):\n",
    "        bingo_line += 1\n",
    "    #대각선 빙고\n",
    "    if (0 in same) & (6 in same) & (12 in same) & (18 in same) & (24 in same):\n",
    "        bingo_line += 1\n",
    "    if (4 in same) & (8 in same) & (12 in same) & (16 in same) & (20 in same):\n",
    "        bingo_line += 1\n",
    "    \n",
    "    # 3빙고일 때 return True\n",
    "    if bingo_line >= 3:\n",
    "        return True\n",
    "    \n",
    "same = []\n",
    "for i in range(len(chulsu)):\n",
    "    # 사회자가 말한 값을 '철수'의 빙고판에서 위치 찾아 same 리스트에 넣어준다.\n",
    "    same.append(chulsu.index(answer[i]))\n",
    "    # 만약 bingo()에서 True가 return되면 실행 횟수 출력\n",
    "    if bingo(same) == True:\n",
    "        print(i+1)\n",
    "        break"
   ]
  }
 ],
 "metadata": {
  "kernelspec": {
   "display_name": "Python 3 (ipykernel)",
   "language": "python",
   "name": "python3"
  },
  "language_info": {
   "codemirror_mode": {
    "name": "ipython",
    "version": 3
   },
   "file_extension": ".py",
   "mimetype": "text/x-python",
   "name": "python",
   "nbconvert_exporter": "python",
   "pygments_lexer": "ipython3",
   "version": "3.9.13"
  }
 },
 "nbformat": 4,
 "nbformat_minor": 5
}
