{
 "cells": [
  {
   "cell_type": "markdown",
   "id": "7ca39a81",
   "metadata": {},
   "source": [
    "# 006. 덱 (10866번)\n"
   ]
  },
  {
   "cell_type": "markdown",
   "id": "ff7dfb58",
   "metadata": {},
   "source": [
    "- 백준 \n",
    "\n",
    "https://www.acmicpc.net/problem/10866"
   ]
  },
  {
   "cell_type": "markdown",
   "id": "5c1a0e47",
   "metadata": {},
   "source": [
    "# 문제\n",
    "정수를 저장하는 덱(Deque)를 구현한 다음, 입력으로 주어지는 명령을 처리하는 프로그램을 작성하시오.\n",
    "\n",
    "명령은 총 여덟 가지이다.\n",
    "\n",
    "push_front X: 정수 X를 덱의 앞에 넣는다.\n",
    "push_back X: 정수 X를 덱의 뒤에 넣는다.\n",
    "pop_front: 덱의 가장 앞에 있는 수를 빼고, 그 수를 출력한다. 만약, 덱에 들어있는 정수가 없는 경우에는 -1을 출력한다.\n",
    "pop_back: 덱의 가장 뒤에 있는 수를 빼고, 그 수를 출력한다. 만약, 덱에 들어있는 정수가 없는 경우에는 -1을 출력한다.\n",
    "size: 덱에 들어있는 정수의 개수를 출력한다.\n",
    "empty: 덱이 비어있으면 1을, 아니면 0을 출력한다.\n",
    "front: 덱의 가장 앞에 있는 정수를 출력한다. 만약 덱에 들어있는 정수가 없는 경우에는 -1을 출력한다.\n",
    "back: 덱의 가장 뒤에 있는 정수를 출력한다. 만약 덱에 들어있는 정수가 없는 경우에는 -1을 출력한다."
   ]
  },
  {
   "cell_type": "markdown",
   "id": "2f188c6e",
   "metadata": {},
   "source": [
    "# 입력\n",
    "첫째 줄에 주어지는 명령의 수 N (1 ≤ N ≤ 10,000)이 주어진다. 둘째 줄부터 N개의 줄에는 명령이 하나씩 주어진다. 주어지는 정수는 1보다 크거나 같고, 100,000보다 작거나 같다. 문제에 나와있지 않은 명령이 주어지는 경우는 없다."
   ]
  },
  {
   "cell_type": "markdown",
   "id": "5d5dff3e",
   "metadata": {},
   "source": [
    "# 출력\n",
    "출력해야하는 명령이 주어질 때마다, 한 줄에 하나씩 출력한다."
   ]
  },
  {
   "cell_type": "markdown",
   "id": "d085102a",
   "metadata": {},
   "source": [
    "# 예제 입력 1"
   ]
  },
  {
   "cell_type": "markdown",
   "id": "7b09cdd9",
   "metadata": {},
   "source": [
    "15\n",
    "push_back 1\n",
    "push_front 2\n",
    "front\n",
    "back\n",
    "size\n",
    "empty\n",
    "pop_front\n",
    "pop_back\n",
    "pop_front\n",
    "size\n",
    "empty\n",
    "pop_back\n",
    "push_front 3\n",
    "empty\n",
    "front"
   ]
  },
  {
   "cell_type": "markdown",
   "id": "caa34886",
   "metadata": {},
   "source": [
    "# 예제 출력1"
   ]
  },
  {
   "cell_type": "markdown",
   "id": "c2ced4d2",
   "metadata": {},
   "source": [
    "2\n",
    "1\n",
    "2\n",
    "0\n",
    "2\n",
    "1\n",
    "-1\n",
    "0\n",
    "1\n",
    "-1\n",
    "0\n",
    "3"
   ]
  },
  {
   "cell_type": "markdown",
   "id": "1d6cb0c5",
   "metadata": {},
   "source": [
    "## solution 1. => 실패 (시간초과)"
   ]
  },
  {
   "cell_type": "markdown",
   "id": "07e81a8e",
   "metadata": {},
   "source": [
    "- import sys\n",
    "- input = sys.stdin.readline 추가 후 맞음."
   ]
  },
  {
   "cell_type": "code",
   "execution_count": 44,
   "id": "077b4fe5",
   "metadata": {},
   "outputs": [
    {
     "ename": "SyntaxError",
     "evalue": "cannot assign to function call (613508359.py, line 3)",
     "output_type": "error",
     "traceback": [
      "\u001b[0;36m  File \u001b[0;32m\"/var/folders/nc/lry6d8ws417_mblykm_8wpc40000gn/T/ipykernel_72081/613508359.py\"\u001b[0;36m, line \u001b[0;32m3\u001b[0m\n\u001b[0;31m    input() = sys.stdin.readline\u001b[0m\n\u001b[0m    ^\u001b[0m\n\u001b[0;31mSyntaxError\u001b[0m\u001b[0;31m:\u001b[0m cannot assign to function call\n"
     ]
    }
   ],
   "source": [
    "from collections import deque\n",
    "import sys\n",
    "input = sys.stdin.readline\n",
    "n = int(input())\n",
    "deque = []\n",
    "for _ in range(n):\n",
    "    j = str(input()).split()\n",
    "    \n",
    "    if j[0] == 'push_front':\n",
    "        deque.insert(0,j[1]) \n",
    "    elif j[0] == 'push_back':\n",
    "        deque.append(j[1])\n",
    "    elif j[0] == 'pop_front':\n",
    "        if len(deque) == 0:\n",
    "            print(-1)\n",
    "        else:\n",
    "            print(deque.pop(0))     \n",
    "    elif j[0] == 'pop_back':\n",
    "        if len(deque) == 0:\n",
    "            print(-1)\n",
    "        else:\n",
    "            print(deque.pop(-1))    \n",
    "    elif j[0] == 'size':\n",
    "        print(len(deque))\n",
    "    elif j[0] == 'empty':\n",
    "        if len(deque) == 0:\n",
    "            print(1)\n",
    "        else:\n",
    "            print(0)   \n",
    "    elif j[0] == 'front':\n",
    "        if len(deque) == 0:\n",
    "            print(-1)\n",
    "        else:\n",
    "            print(deque[0])   \n",
    "    elif j[0] == 'back':\n",
    "        if len(deque) == 0:\n",
    "            print(-1)\n",
    "        else:\n",
    "            print(deque[-1])"
   ]
  },
  {
   "cell_type": "markdown",
   "id": "94d486ca",
   "metadata": {},
   "source": [
    "## solution 2."
   ]
  },
  {
   "cell_type": "code",
   "execution_count": null,
   "id": "52d6c369",
   "metadata": {},
   "outputs": [],
   "source": []
  },
  {
   "cell_type": "code",
   "execution_count": null,
   "id": "7a8d22db",
   "metadata": {},
   "outputs": [],
   "source": []
  }
 ],
 "metadata": {
  "kernelspec": {
   "display_name": "Python 3 (ipykernel)",
   "language": "python",
   "name": "python3"
  },
  "language_info": {
   "codemirror_mode": {
    "name": "ipython",
    "version": 3
   },
   "file_extension": ".py",
   "mimetype": "text/x-python",
   "name": "python",
   "nbconvert_exporter": "python",
   "pygments_lexer": "ipython3",
   "version": "3.9.13"
  }
 },
 "nbformat": 4,
 "nbformat_minor": 5
}
