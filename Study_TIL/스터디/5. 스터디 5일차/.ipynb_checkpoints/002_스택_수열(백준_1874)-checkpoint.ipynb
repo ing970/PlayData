{
 "cells": [
  {
   "cell_type": "markdown",
   "id": "7ca39a81",
   "metadata": {},
   "source": [
    "# 002. 스택 수열 (1874번)\n"
   ]
  },
  {
   "cell_type": "markdown",
   "id": "ff7dfb58",
   "metadata": {},
   "source": [
    "- 백준 \n",
    "\n",
    "https://www.acmicpc.net/problem/1874"
   ]
  },
  {
   "cell_type": "markdown",
   "id": "5c1a0e47",
   "metadata": {},
   "source": [
    "# 문제\n",
    "스택 (stack)은 기본적인 자료구조 중 하나로, 컴퓨터 프로그램을 작성할 때 자주 이용되는 개념이다. 스택은 자료를 넣는 (push) 입구와 자료를 뽑는 (pop) 입구가 같아 제일 나중에 들어간 자료가 제일 먼저 나오는 (LIFO, Last in First out) 특성을 가지고 있다.\n",
    "\n",
    "1부터 n까지의 수를 스택에 넣었다가 뽑아 늘어놓음으로써, 하나의 수열을 만들 수 있다. 이때, 스택에 push하는 순서는 반드시 오름차순을 지키도록 한다고 하자. 임의의 수열이 주어졌을 때 스택을 이용해 그 수열을 만들 수 있는지 없는지, 있다면 어떤 순서로 push와 pop 연산을 수행해야 하는지를 알아낼 수 있다. 이를 계산하는 프로그램을 작성하라."
   ]
  },
  {
   "cell_type": "markdown",
   "id": "2f188c6e",
   "metadata": {},
   "source": [
    "# 입력\n",
    "- 첫 줄에 n (1 ≤ n ≤ 100,000)이 주어진다. 둘째 줄부터 n개의 줄에는 수열을 이루는 1이상 n이하의 정수가 하나씩 순서대로 주어진다. 물론 같은 정수가 두 번 나오는 일은 없다."
   ]
  },
  {
   "cell_type": "markdown",
   "id": "5d5dff3e",
   "metadata": {},
   "source": [
    "# 출력\n",
    "입력된 수열을 만들기 위해 필요한 연산을 한 줄에 한 개씩 출력한다. push연산은 +로, pop 연산은 -로 표현하도록 한다. 불가능한 경우 NO를 출력한다.\n",
    "\n"
   ]
  },
  {
   "cell_type": "markdown",
   "id": "d085102a",
   "metadata": {},
   "source": [
    "# 예제 입력 1"
   ]
  },
  {
   "cell_type": "code",
   "execution_count": null,
   "id": "9e75d79f",
   "metadata": {},
   "outputs": [],
   "source": [
    "8\n",
    "4\n",
    "3\n",
    "6\n",
    "8\n",
    "7\n",
    "5\n",
    "2\n",
    "1"
   ]
  },
  {
   "cell_type": "code",
   "execution_count": null,
   "id": "19fc7fa3",
   "metadata": {},
   "outputs": [],
   "source": [
    "5\n",
    "1\n",
    "2\n",
    "5\n",
    "3\n",
    "4"
   ]
  },
  {
   "cell_type": "markdown",
   "id": "caa34886",
   "metadata": {},
   "source": [
    "# 예제 출력1"
   ]
  },
  {
   "cell_type": "code",
   "execution_count": null,
   "id": "bf4e36f8",
   "metadata": {},
   "outputs": [],
   "source": [
    "yes\n",
    "yes\n",
    "no\n",
    "no\n",
    "no\n",
    "yes\n",
    "yes"
   ]
  },
  {
   "cell_type": "markdown",
   "id": "90fb693c",
   "metadata": {},
   "source": [
    "# 힌트."
   ]
  },
  {
   "cell_type": "markdown",
   "id": "69aff398",
   "metadata": {},
   "source": [
    "7번째의 \" .\"와 같이 괄호가 하나도 없는 경우도 균형잡힌 문자열로 간주할 수 있다."
   ]
  },
  {
   "cell_type": "markdown",
   "id": "1d6cb0c5",
   "metadata": {},
   "source": [
    "## solution 1. (merge sort)"
   ]
  },
  {
   "cell_type": "code",
   "execution_count": null,
   "id": "5714b461",
   "metadata": {},
   "outputs": [],
   "source": [
    "스택 공간에 '(',')'와 '[',']'들만 넣는다. (0)\n",
    "이프 ')',']' 먼저 들어오면 브레이크 NO (0)\n",
    "'.' 가 들어오면 break (0)\n",
    "입력의 종료가 되었음에도  스택 공간에 ()와 []이 있으면 NO \n",
    "'('와 ')'이 같으면 pop.\n",
    "'['와']'이 같으면 pop\n",
    "입력의 종료시 스택 공간에 아무것도 없으면 YES\n",
    "있으면 NO"
   ]
  },
  {
   "cell_type": "code",
   "execution_count": 3,
   "id": "cfabc15b",
   "metadata": {},
   "outputs": [
    {
     "name": "stdout",
     "output_type": "stream",
     "text": [
      "So when I die (the [first] I will see in (heaven) is a score list).\n",
      "yes\n",
      ".\n"
     ]
    }
   ],
   "source": [
    "while True:\n",
    "    n = input()\n",
    "    stack = []\n",
    "    if n == '.':\n",
    "        break\n",
    "    for i in n:\n",
    "        \n",
    "        if i == '(' or i == '[':\n",
    "            stack.append(i)\n",
    "\n",
    "        elif i == ')':\n",
    "            if len(stack) != 0 and stack[-1] == '(':\n",
    "                stack.pop(-1)\n",
    "            else:\n",
    "                stack.append(i)\n",
    "                break\n",
    "\n",
    "        elif i == ']':\n",
    "            if len(stack) != 0 and stack[-1] == '[':\n",
    "                stack.pop(-1)\n",
    "            else:\n",
    "                stack.append(i)\n",
    "                break\n",
    "\n",
    "    if len(stack) == 0 :\n",
    "        print('yes')\n",
    "    else:\n",
    "        print('no')"
   ]
  },
  {
   "cell_type": "markdown",
   "id": "ddd7e9a0",
   "metadata": {},
   "source": [
    "- 최종적으로 ' . '이 입력되기 전까지 입력되는 값을 구분해주는 코드 완성."
   ]
  },
  {
   "cell_type": "markdown",
   "id": "94d486ca",
   "metadata": {},
   "source": [
    "## solution 2."
   ]
  },
  {
   "cell_type": "markdown",
   "id": "9344736c",
   "metadata": {},
   "source": [
    "# 첫 실패."
   ]
  },
  {
   "cell_type": "markdown",
   "id": "c3406310",
   "metadata": {},
   "source": [
    "- \" ' . '이 입력되면 프로그램이 끝난다\"의 의미를 이해 못하고 코드 짬."
   ]
  },
  {
   "cell_type": "code",
   "execution_count": null,
   "id": "233b3d44",
   "metadata": {},
   "outputs": [],
   "source": [
    "n = input()\n",
    "stack = []\n",
    "for i in n:\n",
    "    if i == '.':\n",
    "        break\n",
    "\n",
    "    elif i == '(' or i == '[':\n",
    "        stack.append(i)\n",
    "\n",
    "    elif i == ')':\n",
    "        if len(stack) != 0 and stack[-1] == '(':\n",
    "            stack.pop(-1)\n",
    "        else:\n",
    "            stack.append(i)\n",
    "            break\n",
    "\n",
    "    elif i == ']':\n",
    "        if len(stack) != 0 and stack[-1] == '[':\n",
    "            stack.pop(-1)\n",
    "        else:\n",
    "            stack.append(i)\n",
    "            break\n",
    "\n",
    "if len(stack) == 0 :\n",
    "    print('yes')\n",
    "else:\n",
    "    print('no')"
   ]
  },
  {
   "cell_type": "markdown",
   "id": "418e39b9",
   "metadata": {},
   "source": [
    "# 두번째 실패."
   ]
  },
  {
   "cell_type": "markdown",
   "id": "9b0aa748",
   "metadata": {},
   "source": [
    "- 첫번째 실패로 while 추가, but 틀림."
   ]
  },
  {
   "cell_type": "code",
   "execution_count": null,
   "id": "510b4dde",
   "metadata": {},
   "outputs": [],
   "source": [
    "n = input()\n",
    "while not (len(n)==1 and n=='.'):\n",
    "    stack = []\n",
    "    for i in n:\n",
    "        if i == '.':\n",
    "            break\n",
    "\n",
    "        elif i == '(' or i == '[':\n",
    "            stack.append(i)\n",
    "\n",
    "        elif i == ')':\n",
    "            if len(stack) != 0 and stack[-1] == '(':\n",
    "                stacㅁk.pop(-1)\n",
    "            else:\n",
    "                stack.append(i)\n",
    "                break\n",
    "\n",
    "        elif i == ']':\n",
    "            if len(stack) != 0 and stack[-1] == '[':\n",
    "                stack.pop(-1)\n",
    "            else:\n",
    "                stack.append(i)\n",
    "                break\n",
    "\n",
    "    if len(stack) == 0 :\n",
    "        print('yes')\n",
    "    else:\n",
    "        print('no')"
   ]
  }
 ],
 "metadata": {
  "kernelspec": {
   "display_name": "Python 3 (ipykernel)",
   "language": "python",
   "name": "python3"
  },
  "language_info": {
   "codemirror_mode": {
    "name": "ipython",
    "version": 3
   },
   "file_extension": ".py",
   "mimetype": "text/x-python",
   "name": "python",
   "nbconvert_exporter": "python",
   "pygments_lexer": "ipython3",
   "version": "3.9.13"
  }
 },
 "nbformat": 4,
 "nbformat_minor": 5
}
