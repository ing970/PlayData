{
 "cells": [
  {
   "cell_type": "markdown",
   "id": "7ca39a81",
   "metadata": {},
   "source": [
    "# 003. 괄호 (9012번)\n"
   ]
  },
  {
   "cell_type": "markdown",
   "id": "ff7dfb58",
   "metadata": {},
   "source": [
    "- 백준 \n",
    "\n",
    "acmicpc.net/problem/9012"
   ]
  },
  {
   "cell_type": "markdown",
   "id": "5c1a0e47",
   "metadata": {},
   "source": [
    "# 문제\n",
    "괄호 문자열(Parenthesis String, PS)은 두 개의 괄호 기호인 ‘(’ 와 ‘)’ 만으로 구성되어 있는 문자열이다. 그 중에서 괄호의 모양이 바르게 구성된 문자열을 올바른 괄호 문자열(Valid PS, VPS)이라고 부른다. 한 쌍의 괄호 기호로 된 “( )” 문자열은 기본 VPS 이라고 부른다. 만일 x 가 VPS 라면 이것을 하나의 괄호에 넣은 새로운 문자열 “(x)”도 VPS 가 된다. 그리고 두 VPS x 와 y를 접합(concatenation)시킨 새로운 문자열 xy도 VPS 가 된다. 예를 들어 “(())()”와 “((()))” 는 VPS 이지만 “(()(”, “(())()))” , 그리고 “(()” 는 모두 VPS 가 아닌 문자열이다. \n",
    "\n",
    "여러분은 입력으로 주어진 괄호 문자열이 VPS 인지 아닌지를 판단해서 그 결과를 YES 와 NO 로 나타내어야 한다. "
   ]
  },
  {
   "cell_type": "markdown",
   "id": "2f188c6e",
   "metadata": {},
   "source": [
    "# 입력\n",
    "- 입력 데이터는 표준 입력을 사용한다. 입력은 T개의 테스트 데이터로 주어진다. 입력의 첫 번째 줄에는 입력 데이터의 수를 나타내는 정수 T가 주어진다. 각 테스트 데이터의 첫째 줄에는 괄호 문자열이 한 줄에 주어진다. 하나의 괄호 문자열의 길이는 2 이상 50 이하이다. "
   ]
  },
  {
   "cell_type": "markdown",
   "id": "5d5dff3e",
   "metadata": {},
   "source": [
    "# 출력\n",
    "- 출력은 표준 출력을 사용한다. 만일 입력 괄호 문자열이 올바른 괄호 문자열(VPS)이면 “YES”, 아니면 “NO”를 한 줄에 하나씩 차례대로 출력해야 한다. "
   ]
  },
  {
   "cell_type": "markdown",
   "id": "d085102a",
   "metadata": {},
   "source": [
    "# 예제 입력 1"
   ]
  },
  {
   "cell_type": "code",
   "execution_count": null,
   "id": "9e75d79f",
   "metadata": {},
   "outputs": [],
   "source": [
    "6\n",
    "(())())\n",
    "(((()())()\n",
    "(()())((()))\n",
    "((()()(()))(((())))()\n",
    "()()()()(()()())()\n",
    "(()((())()("
   ]
  },
  {
   "cell_type": "markdown",
   "id": "caa34886",
   "metadata": {},
   "source": [
    "# 예제 출력1"
   ]
  },
  {
   "cell_type": "code",
   "execution_count": null,
   "id": "bf4e36f8",
   "metadata": {},
   "outputs": [],
   "source": [
    "NO\n",
    "NO\n",
    "YES\n",
    "NO\n",
    "YES\n",
    "NO"
   ]
  },
  {
   "cell_type": "markdown",
   "id": "90fb693c",
   "metadata": {},
   "source": [
    "# 힌트."
   ]
  },
  {
   "cell_type": "markdown",
   "id": "69aff398",
   "metadata": {},
   "source": [
    "7번째의 \" .\"와 같이 괄호가 하나도 없는 경우도 균형잡힌 문자열로 간주할 수 있다."
   ]
  },
  {
   "cell_type": "markdown",
   "id": "1d6cb0c5",
   "metadata": {},
   "source": [
    "## solution 1. (merge sort)"
   ]
  },
  {
   "cell_type": "code",
   "execution_count": null,
   "id": "5714b461",
   "metadata": {},
   "outputs": [],
   "source": [
    "스택 공간에 '(',')'와 '[',']'들만 넣는다. (0)\n",
    "이프 ')',']' 먼저 들어오면 브레이크 NO (0)\n",
    "'.' 가 들어오면 break (0)\n",
    "입력의 종료가 되었음에도  스택 공간에 ()와 []이 있으면 NO \n",
    "'('와 ')'이 같으면 pop.\n",
    "'['와']'이 같으면 pop\n",
    "입력의 종료시 스택 공간에 아무것도 없으면 YES\n",
    "있으면 NO"
   ]
  },
  {
   "cell_type": "code",
   "execution_count": 3,
   "id": "cfabc15b",
   "metadata": {},
   "outputs": [
    {
     "name": "stdout",
     "output_type": "stream",
     "text": [
      "So when I die (the [first] I will see in (heaven) is a score list).\n",
      "yes\n",
      ".\n"
     ]
    }
   ],
   "source": [
    "while True:\n",
    "    n = input()\n",
    "    stack = []\n",
    "    if n == '.':\n",
    "        break\n",
    "    for i in n:\n",
    "        \n",
    "        if i == '(' or i == '[':\n",
    "            stack.append(i)\n",
    "\n",
    "        elif i == ')':\n",
    "            if len(stack) != 0 and stack[-1] == '(':\n",
    "                stack.pop(-1)\n",
    "            else:\n",
    "                stack.append(i)\n",
    "                break\n",
    "\n",
    "        elif i == ']':\n",
    "            if len(stack) != 0 and stack[-1] == '[':\n",
    "                stack.pop(-1)\n",
    "            else:\n",
    "                stack.append(i)\n",
    "                break\n",
    "\n",
    "    if len(stack) == 0 :\n",
    "        print('yes')\n",
    "    else:\n",
    "        print('no')"
   ]
  },
  {
   "cell_type": "markdown",
   "id": "94d486ca",
   "metadata": {},
   "source": [
    "## solution 2."
   ]
  },
  {
   "cell_type": "markdown",
   "id": "9344736c",
   "metadata": {},
   "source": [
    "# 첫 실패."
   ]
  },
  {
   "cell_type": "code",
   "execution_count": null,
   "id": "233b3d44",
   "metadata": {},
   "outputs": [],
   "source": [
    "n = input()\n",
    "stack = []\n",
    "for i in n:\n",
    "    if i == '.':\n",
    "        break\n",
    "\n",
    "    elif i == '(' or i == '[':\n",
    "        stack.append(i)\n",
    "\n",
    "    elif i == ')':\n",
    "        if len(stack) != 0 and stack[-1] == '(':\n",
    "            stack.pop(-1)\n",
    "        else:\n",
    "            stack.append(i)\n",
    "            break\n",
    "\n",
    "    elif i == ']':\n",
    "        if len(stack) != 0 and stack[-1] == '[':\n",
    "            stack.pop(-1)\n",
    "        else:\n",
    "            stack.append(i)\n",
    "            break\n",
    "\n",
    "if len(stack) == 0 :\n",
    "    print('yes')\n",
    "else:\n",
    "    print('no')"
   ]
  },
  {
   "cell_type": "markdown",
   "id": "418e39b9",
   "metadata": {},
   "source": [
    "# 두번째 실패."
   ]
  },
  {
   "cell_type": "code",
   "execution_count": null,
   "id": "510b4dde",
   "metadata": {},
   "outputs": [],
   "source": [
    "n = input()\n",
    "while not (len(n)==1 and n=='.'):\n",
    "    stack = []\n",
    "    for i in n:\n",
    "        if i == '.':\n",
    "            break\n",
    "\n",
    "        elif i == '(' or i == '[':\n",
    "            stack.append(i)\n",
    "\n",
    "        elif i == ')':\n",
    "            if len(stack) != 0 and stack[-1] == '(':\n",
    "                stacㅁk.pop(-1)\n",
    "            else:\n",
    "                stack.append(i)\n",
    "                break\n",
    "\n",
    "        elif i == ']':\n",
    "            if len(stack) != 0 and stack[-1] == '[':\n",
    "                stack.pop(-1)\n",
    "            else:\n",
    "                stack.append(i)\n",
    "                break\n",
    "\n",
    "    if len(stack) == 0 :\n",
    "        print('yes')\n",
    "    else:\n",
    "        print('no')"
   ]
  }
 ],
 "metadata": {
  "kernelspec": {
   "display_name": "Python 3 (ipykernel)",
   "language": "python",
   "name": "python3"
  },
  "language_info": {
   "codemirror_mode": {
    "name": "ipython",
    "version": 3
   },
   "file_extension": ".py",
   "mimetype": "text/x-python",
   "name": "python",
   "nbconvert_exporter": "python",
   "pygments_lexer": "ipython3",
   "version": "3.9.13"
  }
 },
 "nbformat": 4,
 "nbformat_minor": 5
}
