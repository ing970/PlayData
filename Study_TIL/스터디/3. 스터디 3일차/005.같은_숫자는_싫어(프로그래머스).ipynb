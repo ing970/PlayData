{
 "cells": [
  {
   "cell_type": "markdown",
   "id": "0d9e6ec7",
   "metadata": {},
   "source": [
    "# 005. 같은 숫자는 싫어 (LV2)"
   ]
  },
  {
   "cell_type": "markdown",
   "id": "ff7dfb58",
   "metadata": {},
   "source": [
    "- 프로그래머스\n",
    "\n",
    "https://school.programmers.co.kr/learn/courses/30/lessons/12906\n"
   ]
  },
  {
   "cell_type": "markdown",
   "id": "5c1a0e47",
   "metadata": {},
   "source": [
    "# 문제\n",
    "- 배열 arr가 주어집니다. 배열 arr의 각 원소는 숫자 0부터 9까지로 이루어져 있습니다. 이때, 배열 arr에서 연속적으로 나타나는 숫자는 하나만 남기고 전부 제거하려고 합니다. 단, 제거된 후 남은 수들을 반환할 때는 배열 arr의 원소들의 순서를 유지해야 합니다. 예를 들면,\n",
    "\n",
    "arr = [1, 1, 3, 3, 0, 1, 1] 이면 [1, 3, 0, 1] 을 return 합니다.\n",
    "arr = [4, 4, 4, 3, 3] 이면 [4, 3] 을 return 합니다.\n",
    "배열 arr에서 연속적으로 나타나는 숫자는 제거하고 남은 수들을 return 하는 solution 함수를 완성해 주세요.\n",
    "\n"
   ]
  },
  {
   "cell_type": "markdown",
   "id": "7881e0dd",
   "metadata": {},
   "source": [
    "# 제한 사항\n",
    "- 배열 arr의 크기 : 1,000,000 이하의 자연수\n",
    "- 배열 arr의 원소의 크기 : 0보다 크거나 같고 9보다 작거나 같은 정수"
   ]
  },
  {
   "cell_type": "markdown",
   "id": "5d5dff3e",
   "metadata": {},
   "source": [
    "# 출력\n",
    "\n",
    "|s|answer|\n",
    "|-|-|\n",
    "|[1,1,3,3,0,1,1]|[1,3,0,1]|\n",
    "|[4,4,4,3,3]|[4,3]|"
   ]
  },
  {
   "cell_type": "markdown",
   "id": "d4fa5b39",
   "metadata": {},
   "source": [
    "# 입출력 예 설명"
   ]
  },
  {
   "cell_type": "markdown",
   "id": "e3f5a8e0",
   "metadata": {},
   "source": [
    "입출력 예 #1,2\n",
    "\n",
    "문제의 예시와 같습니다."
   ]
  },
  {
   "cell_type": "markdown",
   "id": "1d6cb0c5",
   "metadata": {},
   "source": [
    "## solution 1."
   ]
  },
  {
   "cell_type": "code",
   "execution_count": 19,
   "id": "d3db07e7",
   "metadata": {},
   "outputs": [],
   "source": [
    "def solution(arr):\n",
    "    l = []\n",
    "    l.append(arr[0])\n",
    "    for x in range(1,len(arr)):\n",
    "        if arr[x] != arr[x-1]:\n",
    "            l.append(arr[x])\n",
    "    return l"
   ]
  },
  {
   "cell_type": "code",
   "execution_count": 20,
   "id": "b571917a",
   "metadata": {},
   "outputs": [
    {
     "data": {
      "text/plain": [
       "[1, 3, 0, 1]"
      ]
     },
     "execution_count": 20,
     "metadata": {},
     "output_type": "execute_result"
    }
   ],
   "source": [
    "solution([1,1,3,3,0,1,1])"
   ]
  },
  {
   "cell_type": "markdown",
   "id": "f45fd1d4",
   "metadata": {},
   "source": [
    "## solution 2."
   ]
  },
  {
   "cell_type": "markdown",
   "id": "839c6188",
   "metadata": {},
   "source": [
    "### 괜찮은 다른사람 코드."
   ]
  },
  {
   "cell_type": "code",
   "execution_count": 27,
   "id": "8a3d511b",
   "metadata": {},
   "outputs": [],
   "source": [
    "def no_continuous(s):\n",
    "    a = []\n",
    "    for i in s:\n",
    "        if a[-1:] == [i]: continue\n",
    "        a.append(i)\n",
    "    return a"
   ]
  },
  {
   "cell_type": "code",
   "execution_count": 28,
   "id": "4a95d10d",
   "metadata": {},
   "outputs": [
    {
     "data": {
      "text/plain": [
       "[1, 3, 0, 1]"
      ]
     },
     "execution_count": 28,
     "metadata": {},
     "output_type": "execute_result"
    }
   ],
   "source": [
    "no_continuous([1,1,3,3,0,1,1])"
   ]
  },
  {
   "cell_type": "markdown",
   "id": "9104dbb0",
   "metadata": {},
   "source": [
    "- copy(얕은 복사) : 메모리 공간은 같은걸 사용한다.\n",
    "- deepcopy (깊은복사) : 메모리 공간이 아예 다른 공간이다. // 메모리를 잡아 먹는다."
   ]
  },
  {
   "cell_type": "code",
   "execution_count": null,
   "id": "1a5a69a6",
   "metadata": {},
   "outputs": [],
   "source": []
  },
  {
   "cell_type": "code",
   "execution_count": null,
   "id": "341c554c",
   "metadata": {},
   "outputs": [],
   "source": []
  },
  {
   "cell_type": "code",
   "execution_count": null,
   "id": "30c801ac",
   "metadata": {},
   "outputs": [],
   "source": []
  }
 ],
 "metadata": {
  "kernelspec": {
   "display_name": "Python 3 (ipykernel)",
   "language": "python",
   "name": "python3"
  },
  "language_info": {
   "codemirror_mode": {
    "name": "ipython",
    "version": 3
   },
   "file_extension": ".py",
   "mimetype": "text/x-python",
   "name": "python",
   "nbconvert_exporter": "python",
   "pygments_lexer": "ipython3",
   "version": "3.9.13"
  }
 },
 "nbformat": 4,
 "nbformat_minor": 5
}
