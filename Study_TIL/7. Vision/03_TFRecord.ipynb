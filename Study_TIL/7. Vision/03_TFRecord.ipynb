{
 "cells": [
  {
   "cell_type": "markdown",
   "metadata": {
    "slideshow": {
     "slide_type": "slide"
    }
   },
   "source": [
    "# <span style='background-color:#fff5b1'>TFRecord\n",
    "\n",
    "- Train/Test/Validation Dataset을 하나의 파일로 디스크(HDD)에 저장하는 Tensorflow 파일저장형식.\n",
    "    - Train 시 파일로 저장된 Raw 데이터를 모델에 입력할 때 **데이터 입력, Label parsing**하는 것이 학습 속도를 떨어트리는 원인이 된다.\n",
    "        - <span style='background-color:#fff5b1'>**batch size**</span> 만큼의 이미지 파일을 읽어 들이면 <span style='background-color:#fff5b1'>**batch size**</span> 만큼의 파일 입력작업이 발생한다.\n",
    "        - <span style='background-color:#fff5b1'>**annotation**</span> 파일에서 정답(y)값을 <span style='background-color:#fff5b1'>**parsing**</span> 하는 것도 속도 저하의 원인이 된다.\n",
    "    - Tensorflow에서 학습시 데이터셋을 읽어들이는 속도를 향상시키기 위해 데이터들에 Serialization을 수행해서 <span style='background-color:#fff5b1'>**하나의 파일로 저장할 수 있는**</span> TFRecord 파일 포맷을 제공한다.\n",
    "- https://www.tensorflow.org/tutorials/load_data/tfrecord   \n",
    "> - <span style='background-color:#fff5b1'>**직렬화(Serialization):**</span> 메모리에 저장된 다양한 타입의 값을 디스크(네트워크)에 저장할 수 있는 상태로 변환하는 것.\n",
    "> - <span style='background-color:#fff5b1'>**binary data:**</span> 디스크에 저장되는 0, 1로 구성된 데이터"
   ]
  },
  {
   "cell_type": "markdown",
   "metadata": {
    "slideshow": {
     "slide_type": "fragment"
    }
   },
   "source": [
    "- <span style='background-color:#fff5b1'>**tf.train.Example**</span>\n",
    "    - <span style='background-color:#fff5b1'>**하나의 데이터 포인트를**</span> TFRecord에 <span style='background-color:#fff5b1'>**저장하기 위해 변환하는 타입**</span>. 하나의 데이터포인트를 tf.train.Example 의 객체로 변환해서 직렬화 한 뒤 저장한다."
   ]
  },
  {
   "cell_type": "markdown",
   "metadata": {
    "slideshow": {
     "slide_type": "fragment"
    }
   },
   "source": [
    "- <span style='background-color:#fff5b1'>**tf.train.Feature**</span>\n",
    "    - 하나의 데이터를 구성하는 속성(feature)들을 변환하는 클래스.\n",
    "    - tf.train.Feature는 다음 <span style='background-color:#fff5b1'>**세가지 타입**</span>을 지원한다.\n",
    "        - <span style='background-color:#fff5b1'>**tf.train.BytesList**</span> – string, bytes 타입을 변환\n",
    "        - <span style='background-color:#fff5b1'>**tf.train.FloatList**</span> –  float(float32), double(float64) 타입을 변환\n",
    "        - <span style='background-color:#fff5b1'>**tf.train.Int64List**</span> –  int, uint, bool, enum(상수) 타입을 변환"
   ]
  },
  {
   "cell_type": "markdown",
   "metadata": {
    "slideshow": {
     "slide_type": "fragment"
    }
   },
   "source": [
    "- tf.tran.Example의 형태\n",
    "```python\n",
    "{\n",
    "    \"feature명\":tf.train.Feature타입객체,\n",
    "    \"feature명\":tf.train.Feature타입객체,\n",
    "    ...\n",
    "}\n",
    "```\n"
   ]
  },
  {
   "cell_type": "markdown",
   "metadata": {},
   "source": [
    "- 각각의 name들이 존재하며, 그 name들은 Feature안에 존재한다\n",
    "- 그 Feature들이 모여 Example 파일에 저장\n",
    "- Example 파일이 모여 tf.record 파일에 저장"
   ]
  },
  {
   "cell_type": "code",
   "execution_count": null,
   "metadata": {},
   "outputs": [],
   "source": []
  },
  {
   "cell_type": "code",
   "execution_count": null,
   "metadata": {},
   "outputs": [],
   "source": []
  },
  {
   "cell_type": "markdown",
   "metadata": {
    "slideshow": {
     "slide_type": "slide"
    }
   },
   "source": [
    "## Example 생성 예제\n",
    "- 문자열을 key로 Feature를 값으로 가지는 dictionary를 이용해 생성"
   ]
  },
  {
   "cell_type": "code",
   "execution_count": null,
   "metadata": {},
   "outputs": [],
   "source": []
  },
  {
   "cell_type": "code",
   "execution_count": null,
   "metadata": {},
   "outputs": [],
   "source": []
  },
  {
   "cell_type": "markdown",
   "metadata": {
    "slideshow": {
     "slide_type": "slide"
    }
   },
   "source": [
    "## Feature 직렬화 예제\n",
    "- Feature객체/Example객체.SerializeToString()\n",
    "    - 각 Featuer(Feature객체를 통해 호출), Example의 Feature들(Example객체를 통해 호출)을 파일로 출력할 수 있도록 직렬화(bytes로 변환) 한다.\n",
    "        - Feature객체->bytes 로 변환\n",
    "    - tfrecord 파일로 출력하기 전에 Example의 Feature들은 직렬화 되어야 한다."
   ]
  },
  {
   "cell_type": "code",
   "execution_count": null,
   "metadata": {},
   "outputs": [],
   "source": []
  },
  {
   "cell_type": "code",
   "execution_count": null,
   "metadata": {},
   "outputs": [],
   "source": []
  },
  {
   "cell_type": "markdown",
   "metadata": {
    "slideshow": {
     "slide_type": "slide"
    }
   },
   "source": [
    "# TFRecord 생성 예제"
   ]
  },
  {
   "cell_type": "code",
   "execution_count": null,
   "metadata": {},
   "outputs": [],
   "source": []
  },
  {
   "cell_type": "markdown",
   "metadata": {
    "slideshow": {
     "slide_type": "fragment"
    }
   },
   "source": [
    "## tf.train.Example 생성 및 직렬화(Serialize)\n",
    "1. 각 관측값의 Feature들 하나하나는 위의 함수 중 하나를 사용하여 tf.train.Feature 타입으로 변환(인코딩)한다.\n",
    "2. 1번에서 변환된 Feature들에 이름(key)를 붙여 tf.train.Example객체를 생성한다.\n",
    "3. Example의 SerializeToString() 메소드를 이용해 직렬화 한다. "
   ]
  },
  {
   "cell_type": "code",
   "execution_count": null,
   "metadata": {},
   "outputs": [],
   "source": []
  },
  {
   "cell_type": "markdown",
   "metadata": {
    "slideshow": {
     "slide_type": "slide"
    }
   },
   "source": [
    "## 출력(저장) 처리\n",
    "\n",
    "- \\_bytes_feature() , \\_float_feature() , \\_int64_feature() 중 하나를 사용하여 tf.train.Feature로 각각의 값을 변환한 뒤 tf.train.Example 메시지를 만든다.\n",
    "- serializeToString()을 이용해 binary string 으로 변환한다.\n",
    "- tf.io.TFRecordWriter를 이용해 출력한다."
   ]
  },
  {
   "cell_type": "code",
   "execution_count": null,
   "metadata": {},
   "outputs": [],
   "source": []
  },
  {
   "cell_type": "markdown",
   "metadata": {
    "slideshow": {
     "slide_type": "slide"
    }
   },
   "source": [
    "# 저장된 TFRecord 파일 Loading 및 Dataset 생성\n",
    "- tfrecord 파일로 저장된 직렬화된 데이터를 읽어 들어와서 feature들을 parsing\n",
    "- tf.data.TFRecordDataset를 이용해 읽는다."
   ]
  },
  {
   "cell_type": "code",
   "execution_count": null,
   "metadata": {},
   "outputs": [],
   "source": []
  },
  {
   "cell_type": "code",
   "execution_count": null,
   "metadata": {},
   "outputs": [],
   "source": []
  },
  {
   "cell_type": "code",
   "execution_count": null,
   "metadata": {},
   "outputs": [],
   "source": []
  }
 ],
 "metadata": {
  "kernelspec": {
   "display_name": "Python 3 (ipykernel)",
   "language": "python",
   "name": "python3"
  },
  "language_info": {
   "codemirror_mode": {
    "name": "ipython",
    "version": 3
   },
   "file_extension": ".py",
   "mimetype": "text/x-python",
   "name": "python",
   "nbconvert_exporter": "python",
   "pygments_lexer": "ipython3",
   "version": "3.9.16"
  },
  "toc": {
   "base_numbering": 1,
   "nav_menu": {},
   "number_sections": false,
   "sideBar": true,
   "skip_h1_title": false,
   "title_cell": "Table of Contents",
   "title_sidebar": "Contents",
   "toc_cell": false,
   "toc_position": {},
   "toc_section_display": true,
   "toc_window_display": false
  },
  "varInspector": {
   "cols": {
    "lenName": 16,
    "lenType": 16,
    "lenVar": 40
   },
   "kernels_config": {
    "python": {
     "delete_cmd_postfix": "",
     "delete_cmd_prefix": "del ",
     "library": "var_list.py",
     "varRefreshCmd": "print(var_dic_list())"
    },
    "r": {
     "delete_cmd_postfix": ") ",
     "delete_cmd_prefix": "rm(",
     "library": "var_list.r",
     "varRefreshCmd": "cat(var_dic_list()) "
    }
   },
   "types_to_exclude": [
    "module",
    "function",
    "builtin_function_or_method",
    "instance",
    "_Feature"
   ],
   "window_display": false
  }
 },
 "nbformat": 4,
 "nbformat_minor": 4
}
