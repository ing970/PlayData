{
 "cells": [
  {
   "cell_type": "markdown",
   "id": "0d9e6ec7",
   "metadata": {},
   "source": [
    "# 8. x만큼 간격이 있는 n개의 숫자 (LV1)"
   ]
  },
  {
   "cell_type": "markdown",
   "id": "ff7dfb58",
   "metadata": {},
   "source": [
    "- 프로그래머스\n",
    "\n",
    "https://school.programmers.co.kr/learn/courses/30/lessons/12954#qna\n"
   ]
  },
  {
   "cell_type": "markdown",
   "id": "5c1a0e47",
   "metadata": {},
   "source": [
    "# 문제\n",
    "- 함수 solution은 정수 x와 자연수 n을 입력 받아, x부터 시작해 x씩 증가하는 숫자를 n개 지니는 리스트를 리턴해야 합니다. 다음 제한 조건을 보고, 조건을 만족하는 함수, solution을 완성해주세요."
   ]
  },
  {
   "cell_type": "markdown",
   "id": "7881e0dd",
   "metadata": {},
   "source": [
    "# 제한 사항\n",
    "- x는 -10000000 이상, 10000000 이하인 정수입니다.\n",
    "- n은 1000 이하인 자연수입니다."
   ]
  },
  {
   "cell_type": "markdown",
   "id": "5d5dff3e",
   "metadata": {},
   "source": [
    "# 출력\n",
    "\n",
    "|x|n|answer|\n",
    "|-|-|-|\n",
    "|2|5|[2,4,6,8,10]|\n",
    "|4|3|[4,8,12]|\n",
    "|-4|2|[-4, -8]|"
   ]
  },
  {
   "cell_type": "markdown",
   "id": "d4fa5b39",
   "metadata": {},
   "source": [
    "# 입출력 예 설명"
   ]
  },
  {
   "cell_type": "markdown",
   "id": "e3f5a8e0",
   "metadata": {},
   "source": []
  },
  {
   "cell_type": "markdown",
   "id": "1d6cb0c5",
   "metadata": {},
   "source": [
    "## solution 1."
   ]
  },
  {
   "cell_type": "code",
   "execution_count": 115,
   "id": "d3db07e7",
   "metadata": {},
   "outputs": [],
   "source": [
    "def solution(x, n):\n",
    "    l = []\n",
    "    for i in range(1, n+1):\n",
    "        l.append(i*x)\n",
    "    return l"
   ]
  },
  {
   "cell_type": "code",
   "execution_count": 116,
   "id": "b571917a",
   "metadata": {},
   "outputs": [
    {
     "data": {
      "text/plain": [
       "[-4, -8]"
      ]
     },
     "execution_count": 116,
     "metadata": {},
     "output_type": "execute_result"
    }
   ],
   "source": [
    "solution(-4, 2)"
   ]
  },
  {
   "cell_type": "code",
   "execution_count": 119,
   "id": "c3132e9e",
   "metadata": {},
   "outputs": [],
   "source": [
    "def solution(x, n):\n",
    "    return[i*x for i in range(1,n+1)]"
   ]
  },
  {
   "cell_type": "code",
   "execution_count": 120,
   "id": "fba38c68",
   "metadata": {},
   "outputs": [
    {
     "data": {
      "text/plain": [
       "[-4, -8]"
      ]
     },
     "execution_count": 120,
     "metadata": {},
     "output_type": "execute_result"
    }
   ],
   "source": [
    "solution(-4, 2)"
   ]
  },
  {
   "cell_type": "markdown",
   "id": "f45fd1d4",
   "metadata": {},
   "source": [
    "## solution 2."
   ]
  },
  {
   "cell_type": "markdown",
   "id": "839c6188",
   "metadata": {},
   "source": [
    "### 괜찮은 다른사람 코드."
   ]
  },
  {
   "cell_type": "code",
   "execution_count": null,
   "id": "dd3e2d8d",
   "metadata": {},
   "outputs": [],
   "source": []
  },
  {
   "cell_type": "code",
   "execution_count": null,
   "id": "e8792774",
   "metadata": {},
   "outputs": [],
   "source": []
  }
 ],
 "metadata": {
  "kernelspec": {
   "display_name": "Python 3 (ipykernel)",
   "language": "python",
   "name": "python3"
  },
  "language_info": {
   "codemirror_mode": {
    "name": "ipython",
    "version": 3
   },
   "file_extension": ".py",
   "mimetype": "text/x-python",
   "name": "python",
   "nbconvert_exporter": "python",
   "pygments_lexer": "ipython3",
   "version": "3.9.15"
  }
 },
 "nbformat": 4,
 "nbformat_minor": 5
}
