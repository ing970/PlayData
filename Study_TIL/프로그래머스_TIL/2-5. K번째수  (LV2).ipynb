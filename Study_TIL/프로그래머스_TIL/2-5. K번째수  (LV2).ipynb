{
 "cells": [
  {
   "cell_type": "markdown",
   "id": "0d9e6ec7",
   "metadata": {},
   "source": [
    "# 2-5. K번째수  (LV2)"
   ]
  },
  {
   "cell_type": "markdown",
   "id": "ff7dfb58",
   "metadata": {},
   "source": [
    "- 프로그래머스\n",
    "\n",
    "https://school.programmers.co.kr/learn/courses/30/lessons/42748"
   ]
  },
  {
   "cell_type": "markdown",
   "id": "5c1a0e47",
   "metadata": {},
   "source": [
    "# 문제\n",
    "\n",
    "- 배열 array의 i번째 숫자부터 j번째 숫자까지 자르고 정렬했을 때, k번째에 있는 수를 구하려 합니다.\n",
    "\n",
    "예를 들어 array가 [1, 5, 2, 6, 3, 7, 4], i = 2, j = 5, k = 3이라면\n",
    "\n",
    "1. array의 2번째부터 5번째까지 자르면 [5, 2, 6, 3]입니다.\n",
    "2. 1에서 나온 배열을 정렬하면 [2, 3, 5, 6]입니다.\n",
    "3. 2에서 나온 배열의 3번째 숫자는 5입니다.\n",
    "\n",
    "- 배열 array, [i, j, k]를 원소로 가진 2차원 배열 commands가 매개변수로 주어질 때, commands의 모든 원소에 대해 앞서 설명한 연산을 적용했을 때 나온 결과를 배열에 담아 return 하도록 solution 함수를 작성해주세요."
   ]
  },
  {
   "cell_type": "markdown",
   "id": "7881e0dd",
   "metadata": {},
   "source": [
    "# 제한 사항\n",
    "- array의 길이는 1 이상 100 이하입니다.\n",
    "- array의 각 원소는 1 이상 100 이하입니다.\n",
    "- commands의 길이는 1 이상 50 이하입니다.\n",
    "- commands의 각 원소는 길이가 3입니다."
   ]
  },
  {
   "cell_type": "markdown",
   "id": "5d5dff3e",
   "metadata": {},
   "source": [
    "# 출력\n",
    "\n",
    "|array|commands|return|\n",
    "|-|-|-|\n",
    "|[1, 5, 2, 6, 3, 7, 4]|[[2, 5, 3], [4, 4, 1], [1, 7, 3]]|[5, 6, 3]|\n",
    "\n",
    "<!-- |\"027778888\"|\"*****8888\"|\n",
    " -->\n"
   ]
  },
  {
   "cell_type": "markdown",
   "id": "d4fa5b39",
   "metadata": {},
   "source": [
    "# 입출력 예 설명"
   ]
  },
  {
   "cell_type": "markdown",
   "id": "256695f4",
   "metadata": {},
   "source": [
    "[1, 5, 2, 6, 3, 7, 4]를 2번째부터 5번째까지 자른 후 정렬합니다. [2, 3, 5, 6]의 세 번째 숫자는 5입니다.\n",
    "[1, 5, 2, 6, 3, 7, 4]를 4번째부터 4번째까지 자른 후 정렬합니다. [6]의 첫 번째 숫자는 6입니다.\n",
    "[1, 5, 2, 6, 3, 7, 4]를 1번째부터 7번째까지 자릅니다. [1, 2, 3, 4, 5, 6, 7]의 세 번째 숫자는 3입니다."
   ]
  },
  {
   "cell_type": "markdown",
   "id": "1d6cb0c5",
   "metadata": {},
   "source": [
    "## solution 1."
   ]
  },
  {
   "cell_type": "code",
   "execution_count": 19,
   "id": "7c2453b9",
   "metadata": {},
   "outputs": [],
   "source": [
    "def solution(array, commands):\n",
    "    result = []\n",
    "    for x in range(len(commands)):  \n",
    "        i = commands[x][0]\n",
    "        j = commands[x][1]\n",
    "        k = commands[x][2]\n",
    "        arr = sorted(array[i-1:j])\n",
    "        result.append(arr[k-1])\n",
    "    return result"
   ]
  },
  {
   "cell_type": "code",
   "execution_count": 20,
   "id": "50fcd9c6",
   "metadata": {},
   "outputs": [
    {
     "data": {
      "text/plain": [
       "[5, 6, 3]"
      ]
     },
     "execution_count": 20,
     "metadata": {},
     "output_type": "execute_result"
    }
   ],
   "source": [
    "solution([1, 5, 2, 6, 3, 7, 4],[[2, 5, 3], [4, 4, 1], [1, 7, 3]])"
   ]
  },
  {
   "cell_type": "markdown",
   "id": "f45fd1d4",
   "metadata": {},
   "source": [
    "## solution 2."
   ]
  },
  {
   "cell_type": "markdown",
   "id": "839c6188",
   "metadata": {},
   "source": [
    "### 괜찮은 다른사람 코드."
   ]
  },
  {
   "cell_type": "code",
   "execution_count": 16,
   "id": "e81b9864",
   "metadata": {},
   "outputs": [
    {
     "name": "stdout",
     "output_type": "stream",
     "text": [
      "[1, 2, 3, 4, 5, 6, 7]\n"
     ]
    }
   ],
   "source": [
    "def solution(array, commands):\n",
    "    return list(map(lambda x:sorted(array[x[0]-1:x[1]])[x[2]-1], commands))"
   ]
  },
  {
   "cell_type": "code",
   "execution_count": 21,
   "id": "6b7bb796",
   "metadata": {},
   "outputs": [
    {
     "data": {
      "text/plain": [
       "[5, 6, 3]"
      ]
     },
     "execution_count": 21,
     "metadata": {},
     "output_type": "execute_result"
    }
   ],
   "source": [
    "solution([1, 5, 2, 6, 3, 7, 4],[[2, 5, 3], [4, 4, 1], [1, 7, 3]])"
   ]
  }
 ],
 "metadata": {
  "kernelspec": {
   "display_name": "Python 3 (ipykernel)",
   "language": "python",
   "name": "python3"
  },
  "language_info": {
   "codemirror_mode": {
    "name": "ipython",
    "version": 3
   },
   "file_extension": ".py",
   "mimetype": "text/x-python",
   "name": "python",
   "nbconvert_exporter": "python",
   "pygments_lexer": "ipython3",
   "version": "3.9.13"
  }
 },
 "nbformat": 4,
 "nbformat_minor": 5
}
