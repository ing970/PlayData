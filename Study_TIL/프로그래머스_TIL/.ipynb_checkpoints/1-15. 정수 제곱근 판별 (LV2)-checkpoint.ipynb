{
 "cells": [
  {
   "cell_type": "markdown",
   "id": "0d9e6ec7",
   "metadata": {},
   "source": [
    "# 15. 정수 제곱근 판별 (LV2)"
   ]
  },
  {
   "cell_type": "markdown",
   "id": "ff7dfb58",
   "metadata": {},
   "source": [
    "- 프로그래머스\n",
    "\n",
    "https://school.programmers.co.kr/learn/courses/30/lessons/12934\n"
   ]
  },
  {
   "cell_type": "markdown",
   "id": "5c1a0e47",
   "metadata": {},
   "source": [
    "# 문제\n",
    "- 임의의 양의 정수 n에 대해, n이 어떤 양의 정수 x의 제곱인지 아닌지 판단하려 합니다.\n",
    "n이 양의 정수 x의 제곱이라면 x+1의 제곱을 리턴하고, n이 양의 정수 x의 제곱이 아니라면 -1을 리턴하는 함수를 완성하세요."
   ]
  },
  {
   "cell_type": "markdown",
   "id": "7881e0dd",
   "metadata": {},
   "source": [
    "# 제한 사항\n",
    "- n은 1이상, 50000000000000 이하인 양의 정수입니다."
   ]
  },
  {
   "cell_type": "markdown",
   "id": "5d5dff3e",
   "metadata": {},
   "source": [
    "# 출력\n",
    "\n",
    "|n|return|\n",
    "|-|-|\n",
    "|121|144|\n",
    "|3|-1|\n",
    "\n"
   ]
  },
  {
   "cell_type": "markdown",
   "id": "d4fa5b39",
   "metadata": {},
   "source": [
    "# 입출력 예 설명"
   ]
  },
  {
   "cell_type": "markdown",
   "id": "e3f5a8e0",
   "metadata": {},
   "source": [
    "- 입출력 예#1\n",
    "121은 양의 정수 11의 제곱이므로, (11+1)를 제곱한 144를 리턴합니다.\n",
    "\n",
    "- 입출력 예#2\n",
    "3은 양의 정수의 제곱이 아니므로, -1을 리턴합니다."
   ]
  },
  {
   "cell_type": "markdown",
   "id": "1d6cb0c5",
   "metadata": {},
   "source": [
    "## solution 1."
   ]
  },
  {
   "cell_type": "code",
   "execution_count": 207,
   "id": "d3db07e7",
   "metadata": {},
   "outputs": [],
   "source": [
    "def solution(n):\n",
    "    x = int(n**(1/2))\n",
    "    if n == x**2:\n",
    "        return (x+1)**2\n",
    "    elif n != x**2:\n",
    "        return -1"
   ]
  },
  {
   "cell_type": "code",
   "execution_count": 208,
   "id": "93e0bc13",
   "metadata": {},
   "outputs": [
    {
     "data": {
      "text/plain": [
       "144"
      ]
     },
     "execution_count": 208,
     "metadata": {},
     "output_type": "execute_result"
    }
   ],
   "source": [
    "solution(121)"
   ]
  },
  {
   "cell_type": "markdown",
   "id": "f45fd1d4",
   "metadata": {},
   "source": [
    "## solution 2."
   ]
  },
  {
   "cell_type": "markdown",
   "id": "839c6188",
   "metadata": {},
   "source": [
    "### 괜찮은 다른사람 코드."
   ]
  }
 ],
 "metadata": {
  "kernelspec": {
   "display_name": "Python 3 (ipykernel)",
   "language": "python",
   "name": "python3"
  },
  "language_info": {
   "codemirror_mode": {
    "name": "ipython",
    "version": 3
   },
   "file_extension": ".py",
   "mimetype": "text/x-python",
   "name": "python",
   "nbconvert_exporter": "python",
   "pygments_lexer": "ipython3",
   "version": "3.9.13"
  }
 },
 "nbformat": 4,
 "nbformat_minor": 5
}
