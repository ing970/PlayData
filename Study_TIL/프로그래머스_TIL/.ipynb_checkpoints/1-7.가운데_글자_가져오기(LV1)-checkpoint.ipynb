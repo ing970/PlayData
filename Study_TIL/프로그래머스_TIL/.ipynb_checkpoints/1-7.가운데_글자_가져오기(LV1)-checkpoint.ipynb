{
 "cells": [
  {
   "cell_type": "markdown",
   "id": "0d9e6ec7",
   "metadata": {},
   "source": [
    "# 7. 가운데 글자 가져오기 (LV1)"
   ]
  },
  {
   "cell_type": "markdown",
   "id": "ff7dfb58",
   "metadata": {},
   "source": [
    "- 프로그래머스\n",
    "\n",
    "https://school.programmers.co.kr/learn/courses/30/lessons/12903\n"
   ]
  },
  {
   "cell_type": "markdown",
   "id": "5c1a0e47",
   "metadata": {},
   "source": [
    "# 문제\n",
    "- 단어 s의 가운데 글자를 반환하는 함수, solution을 만들어 보세요. 단어의 길이가 짝수라면 가운데 두글자를 반환하면 됩니다."
   ]
  },
  {
   "cell_type": "markdown",
   "id": "7881e0dd",
   "metadata": {},
   "source": [
    "# 제한 사항\n",
    "- s는 길이가 1 이상, 100이하인 스트링입니다."
   ]
  },
  {
   "cell_type": "markdown",
   "id": "5d5dff3e",
   "metadata": {},
   "source": [
    "# 출력\n",
    "\n",
    "|s|answer|\n",
    "|-|-|\n",
    "|\"abcde\"|\"c\"|\n",
    "|\"qwer\"|\"we\"|"
   ]
  },
  {
   "cell_type": "markdown",
   "id": "d4fa5b39",
   "metadata": {},
   "source": [
    "# 입출력 예 설명"
   ]
  },
  {
   "cell_type": "markdown",
   "id": "e3f5a8e0",
   "metadata": {},
   "source": []
  },
  {
   "cell_type": "markdown",
   "id": "1d6cb0c5",
   "metadata": {},
   "source": [
    "## solution 1."
   ]
  },
  {
   "cell_type": "code",
   "execution_count": 42,
   "id": "d3db07e7",
   "metadata": {},
   "outputs": [],
   "source": [
    "def solution(s):\n",
    "    x = len(s)//2\n",
    "    if len(s) % 2 == 0:\n",
    "        return s[x-1:x+1]\n",
    "    else:\n",
    "        return s[x]\n",
    "    "
   ]
  },
  {
   "cell_type": "code",
   "execution_count": 44,
   "id": "b571917a",
   "metadata": {},
   "outputs": [
    {
     "data": {
      "text/plain": [
       "'rq'"
      ]
     },
     "execution_count": 44,
     "metadata": {},
     "output_type": "execute_result"
    }
   ],
   "source": [
    "solution(\"qwerqwqw\")"
   ]
  },
  {
   "cell_type": "markdown",
   "id": "f45fd1d4",
   "metadata": {},
   "source": [
    "## solution 2."
   ]
  },
  {
   "cell_type": "markdown",
   "id": "839c6188",
   "metadata": {},
   "source": [
    "### 괜찮은 다른사람 코드."
   ]
  },
  {
   "cell_type": "code",
   "execution_count": 49,
   "id": "8a3d511b",
   "metadata": {},
   "outputs": [],
   "source": [
    "def solution(s):\n",
    "    return s[(len(s)-1)//2:len(s)//2+1]"
   ]
  },
  {
   "cell_type": "code",
   "execution_count": 50,
   "id": "4a95d10d",
   "metadata": {},
   "outputs": [
    {
     "data": {
      "text/plain": [
       "'rq'"
      ]
     },
     "execution_count": 50,
     "metadata": {},
     "output_type": "execute_result"
    }
   ],
   "source": [
    "solution(\"qwerqwqw\")"
   ]
  }
 ],
 "metadata": {
  "kernelspec": {
   "display_name": "Python 3 (ipykernel)",
   "language": "python",
   "name": "python3"
  },
  "language_info": {
   "codemirror_mode": {
    "name": "ipython",
    "version": 3
   },
   "file_extension": ".py",
   "mimetype": "text/x-python",
   "name": "python",
   "nbconvert_exporter": "python",
   "pygments_lexer": "ipython3",
   "version": "3.9.13"
  }
 },
 "nbformat": 4,
 "nbformat_minor": 5
}
