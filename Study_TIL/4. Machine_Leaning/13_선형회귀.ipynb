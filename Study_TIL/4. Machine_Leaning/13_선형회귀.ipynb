{
 "cells": [
  {
   "cell_type": "markdown",
   "metadata": {
    "slideshow": {
     "slide_type": "slide"
    }
   },
   "source": [
    "#  <span style='background-color:#fff5b1'>선형회귀 개요\n",
    "\n",
    "선형 회귀(線型回歸, Linear regression)는 종속 변수 y와 한 개 이상의 독립 변수X와의 <span style='background-color:#fff5b1'>**선형 상관 관계를 모델링**</span>하는 회귀분석 기법. [위키백과](https://ko.wikipedia.org/wiki/%EC%84%A0%ED%98%95_%ED%9A%8C%EA%B7%80)"
   ]
  },
  {
   "cell_type": "markdown",
   "metadata": {},
   "source": [
    "- 직선 함수(일차 함수)"
   ]
  },
  {
   "cell_type": "markdown",
   "metadata": {
    "slideshow": {
     "slide_type": "fragment"
    }
   },
   "source": [
    "## 선형회귀 모델\n",
    "- 각 Feature들에 가중치(Weight)를 곱하고 편향(bias)를 더해 예측 결과를 출력한다.\n",
    "- Weight와 bias가 학습 대상 Parameter가 된다.\n",
    "\n",
    "$$\n",
    "\\hat{y_i} = w_1 x_{i1} + w_2 x_{i2}... + w_{p} x_{ip} + b\n",
    "\\\\\n",
    "\\hat{y_i} = \\mathbf{w}^{T} \\cdot \\mathbf{X} \n",
    "$$\n",
    "\n",
    "- $\\hat{y_i}$: 예측값\n",
    "- $x$: 특성(feature-컬럼)\n",
    "- <span style='background-color:#fff5b1'>$w$: 가중치(weight), 회귀계수(regression coefficient). 특성이 $\\hat{y_i}$ 에 얼마나 영향을 주는지 정도</span>\n",
    "- $b$: 절편\n",
    "- $p$: p 번째 특성(feature)/p번째 가중치\n",
    "- $i$: i번째 관측치(sample)"
   ]
  },
  {
   "cell_type": "code",
   "execution_count": null,
   "metadata": {},
   "outputs": [],
   "source": [
    "- 가중치\n",
    "분류는 \n",
    "회귀 mse 가 작아지도록 찾는다"
   ]
  },
  {
   "cell_type": "markdown",
   "metadata": {
    "slideshow": {
     "slide_type": "slide"
    }
   },
   "source": [
    "### Boston DataSet\n",
    "보스톤의 지역별 집값 데이터셋\n",
    "\n",
    " - CRIM\t: 지역별 범죄 발생률\n",
    " - ZN\t: 25,000 평방피트를 초과하는 거주지역의 비율\n",
    " - INDUS: 비상업지역 토지의 비율\n",
    " - CHAS\t: 찰스강에 대한 더미변수(강의 경계에 위치한 경우는 1, 아니면 0)\n",
    " - NOX\t: 일산화질소 농도\n",
    " - RM\t: 주택 1가구당 평균 방의 개수\n",
    " - AGE\t: 1940년 이전에 건축된 소유주택의 비율\n",
    " - DIS\t: 5개의 보스턴 고용센터까지의 접근성 지수\n",
    " - RAD\t: 고속도로까지의 접근성 지수\n",
    " - TAX\t: 10,000 달러 당 재산세율\n",
    " - PTRATIO : 지역별 교사 한명당 학생 비율\n",
    " - B\t: 지역의 흑인 거주 비율\n",
    " - LSTAT: 하위계층의 비율(%)\n",
    " \n",
    " - MEDV\t: Target.  지역의 주택가격 중앙값 (단위: $1,000)\n"
   ]
  },
  {
   "cell_type": "markdown",
   "metadata": {},
   "source": [
    "#### Boston housing dataset loading"
   ]
  },
  {
   "cell_type": "code",
   "execution_count": 133,
   "metadata": {
    "ExecuteTime": {
     "end_time": "2023-02-07T13:09:29.549663Z",
     "start_time": "2023-02-07T13:09:27.371458Z"
    },
    "execution": {
     "iopub.execute_input": "2022-12-13T00:05:41.572738Z",
     "iopub.status.busy": "2022-12-13T00:05:41.572738Z",
     "iopub.status.idle": "2022-12-13T00:05:43.394138Z",
     "shell.execute_reply": "2022-12-13T00:05:43.393840Z",
     "shell.execute_reply.started": "2022-12-13T00:05:41.572738Z"
    },
    "tags": []
   },
   "outputs": [],
   "source": [
    "import pandas as pd\n",
    "import numpy as np\n",
    "\n",
    "data_url = \"http://lib.stat.cmu.edu/datasets/boston\"\n",
    "raw_df = pd.read_csv(data_url, sep=\"\\s+\", skiprows=22, header=None)\n",
    "X = np.hstack([raw_df.values[::2, :], raw_df.values[1::2, :2]])\n",
    "y = raw_df.values[1::2, 2]"
   ]
  },
  {
   "cell_type": "code",
   "execution_count": 134,
   "metadata": {},
   "outputs": [
    {
     "data": {
      "text/plain": [
       "((506, 13), (506,))"
      ]
     },
     "execution_count": 134,
     "metadata": {},
     "output_type": "execute_result"
    }
   ],
   "source": [
    "X.shape, y.shape"
   ]
  },
  {
   "cell_type": "code",
   "execution_count": 135,
   "metadata": {
    "ExecuteTime": {
     "end_time": "2023-02-07T13:09:31.496281Z",
     "start_time": "2023-02-07T13:09:31.464284Z"
    },
    "execution": {
     "iopub.execute_input": "2022-12-13T00:05:44.210091Z",
     "iopub.status.busy": "2022-12-13T00:05:44.209008Z",
     "iopub.status.idle": "2022-12-13T00:05:44.261007Z",
     "shell.execute_reply": "2022-12-13T00:05:44.260075Z",
     "shell.execute_reply.started": "2022-12-13T00:05:44.210091Z"
    },
    "tags": []
   },
   "outputs": [
    {
     "data": {
      "text/html": [
       "<div>\n",
       "<style scoped>\n",
       "    .dataframe tbody tr th:only-of-type {\n",
       "        vertical-align: middle;\n",
       "    }\n",
       "\n",
       "    .dataframe tbody tr th {\n",
       "        vertical-align: top;\n",
       "    }\n",
       "\n",
       "    .dataframe thead th {\n",
       "        text-align: right;\n",
       "    }\n",
       "</style>\n",
       "<table border=\"1\" class=\"dataframe\">\n",
       "  <thead>\n",
       "    <tr style=\"text-align: right;\">\n",
       "      <th></th>\n",
       "      <th>CRIM</th>\n",
       "      <th>ZN</th>\n",
       "      <th>INDUS</th>\n",
       "      <th>CHAS</th>\n",
       "      <th>NOX</th>\n",
       "      <th>RM</th>\n",
       "      <th>AGE</th>\n",
       "      <th>DIS</th>\n",
       "      <th>RAD</th>\n",
       "      <th>TAX</th>\n",
       "      <th>PTRATIO</th>\n",
       "      <th>B</th>\n",
       "      <th>LSTAT</th>\n",
       "      <th>MEDV</th>\n",
       "    </tr>\n",
       "  </thead>\n",
       "  <tbody>\n",
       "    <tr>\n",
       "      <th>0</th>\n",
       "      <td>0.00632</td>\n",
       "      <td>18.0</td>\n",
       "      <td>2.31</td>\n",
       "      <td>0.0</td>\n",
       "      <td>0.538</td>\n",
       "      <td>6.575</td>\n",
       "      <td>65.2</td>\n",
       "      <td>4.0900</td>\n",
       "      <td>1.0</td>\n",
       "      <td>296.0</td>\n",
       "      <td>15.3</td>\n",
       "      <td>396.90</td>\n",
       "      <td>4.98</td>\n",
       "      <td>24.0</td>\n",
       "    </tr>\n",
       "    <tr>\n",
       "      <th>1</th>\n",
       "      <td>0.02731</td>\n",
       "      <td>0.0</td>\n",
       "      <td>7.07</td>\n",
       "      <td>0.0</td>\n",
       "      <td>0.469</td>\n",
       "      <td>6.421</td>\n",
       "      <td>78.9</td>\n",
       "      <td>4.9671</td>\n",
       "      <td>2.0</td>\n",
       "      <td>242.0</td>\n",
       "      <td>17.8</td>\n",
       "      <td>396.90</td>\n",
       "      <td>9.14</td>\n",
       "      <td>21.6</td>\n",
       "    </tr>\n",
       "    <tr>\n",
       "      <th>2</th>\n",
       "      <td>0.02729</td>\n",
       "      <td>0.0</td>\n",
       "      <td>7.07</td>\n",
       "      <td>0.0</td>\n",
       "      <td>0.469</td>\n",
       "      <td>7.185</td>\n",
       "      <td>61.1</td>\n",
       "      <td>4.9671</td>\n",
       "      <td>2.0</td>\n",
       "      <td>242.0</td>\n",
       "      <td>17.8</td>\n",
       "      <td>392.83</td>\n",
       "      <td>4.03</td>\n",
       "      <td>34.7</td>\n",
       "    </tr>\n",
       "    <tr>\n",
       "      <th>3</th>\n",
       "      <td>0.03237</td>\n",
       "      <td>0.0</td>\n",
       "      <td>2.18</td>\n",
       "      <td>0.0</td>\n",
       "      <td>0.458</td>\n",
       "      <td>6.998</td>\n",
       "      <td>45.8</td>\n",
       "      <td>6.0622</td>\n",
       "      <td>3.0</td>\n",
       "      <td>222.0</td>\n",
       "      <td>18.7</td>\n",
       "      <td>394.63</td>\n",
       "      <td>2.94</td>\n",
       "      <td>33.4</td>\n",
       "    </tr>\n",
       "    <tr>\n",
       "      <th>4</th>\n",
       "      <td>0.06905</td>\n",
       "      <td>0.0</td>\n",
       "      <td>2.18</td>\n",
       "      <td>0.0</td>\n",
       "      <td>0.458</td>\n",
       "      <td>7.147</td>\n",
       "      <td>54.2</td>\n",
       "      <td>6.0622</td>\n",
       "      <td>3.0</td>\n",
       "      <td>222.0</td>\n",
       "      <td>18.7</td>\n",
       "      <td>396.90</td>\n",
       "      <td>5.33</td>\n",
       "      <td>36.2</td>\n",
       "    </tr>\n",
       "  </tbody>\n",
       "</table>\n",
       "</div>"
      ],
      "text/plain": [
       "      CRIM    ZN  INDUS  CHAS    NOX     RM   AGE     DIS  RAD    TAX  \\\n",
       "0  0.00632  18.0   2.31   0.0  0.538  6.575  65.2  4.0900  1.0  296.0   \n",
       "1  0.02731   0.0   7.07   0.0  0.469  6.421  78.9  4.9671  2.0  242.0   \n",
       "2  0.02729   0.0   7.07   0.0  0.469  7.185  61.1  4.9671  2.0  242.0   \n",
       "3  0.03237   0.0   2.18   0.0  0.458  6.998  45.8  6.0622  3.0  222.0   \n",
       "4  0.06905   0.0   2.18   0.0  0.458  7.147  54.2  6.0622  3.0  222.0   \n",
       "\n",
       "   PTRATIO       B  LSTAT  MEDV  \n",
       "0     15.3  396.90   4.98  24.0  \n",
       "1     17.8  396.90   9.14  21.6  \n",
       "2     17.8  392.83   4.03  34.7  \n",
       "3     18.7  394.63   2.94  33.4  \n",
       "4     18.7  396.90   5.33  36.2  "
      ]
     },
     "execution_count": 135,
     "metadata": {},
     "output_type": "execute_result"
    }
   ],
   "source": [
    "# dataframe으로 만들기\n",
    "cols = [\"CRIM\",\"ZN\",\"INDUS\",\"CHAS\",\"NOX\",\"RM\",\"AGE\",\"DIS\",\"RAD\",\"TAX\",\"PTRATIO\",\"B\",\"LSTAT\"]\n",
    "df = pd.DataFrame(X, columns=cols)\n",
    "df['MEDV'] = y\n",
    "df.head()"
   ]
  },
  {
   "cell_type": "code",
   "execution_count": 136,
   "metadata": {},
   "outputs": [
    {
     "name": "stdout",
     "output_type": "stream",
     "text": [
      "<class 'pandas.core.frame.DataFrame'>\n",
      "RangeIndex: 506 entries, 0 to 505\n",
      "Data columns (total 14 columns):\n",
      " #   Column   Non-Null Count  Dtype  \n",
      "---  ------   --------------  -----  \n",
      " 0   CRIM     506 non-null    float64\n",
      " 1   ZN       506 non-null    float64\n",
      " 2   INDUS    506 non-null    float64\n",
      " 3   CHAS     506 non-null    float64\n",
      " 4   NOX      506 non-null    float64\n",
      " 5   RM       506 non-null    float64\n",
      " 6   AGE      506 non-null    float64\n",
      " 7   DIS      506 non-null    float64\n",
      " 8   RAD      506 non-null    float64\n",
      " 9   TAX      506 non-null    float64\n",
      " 10  PTRATIO  506 non-null    float64\n",
      " 11  B        506 non-null    float64\n",
      " 12  LSTAT    506 non-null    float64\n",
      " 13  MEDV     506 non-null    float64\n",
      "dtypes: float64(14)\n",
      "memory usage: 55.5 KB\n"
     ]
    }
   ],
   "source": [
    "df.info()"
   ]
  },
  {
   "cell_type": "code",
   "execution_count": 137,
   "metadata": {},
   "outputs": [
    {
     "data": {
      "text/plain": [
       "0.0    471\n",
       "1.0     35\n",
       "Name: CHAS, dtype: int64"
      ]
     },
     "execution_count": 137,
     "metadata": {},
     "output_type": "execute_result"
    }
   ],
   "source": [
    "df['CHAS'].value_counts()"
   ]
  },
  {
   "cell_type": "markdown",
   "metadata": {
    "slideshow": {
     "slide_type": "slide"
    }
   },
   "source": [
    "##  <span style='background-color:#fff5b1'>LinearRegression\n",
    "- 가장 기본적인 선형 회귀 모델\n",
    "- 각 Feauture에 가중합으로 Y값을 추론한다.\n",
    "### 데이터 전처리\n",
    "\n",
    "- **선형회귀 모델사용시 전처리**\n",
    "    - **범주형 Feature**\n",
    "        - : 원핫 인코딩\n",
    "    - **연속형 Feature**\n",
    "        - Feature Scaling을 통해서 각 컬럼들의 값의 단위를 맞춰준다.\n",
    "        - StandardScaler를 사용할 때 성능이 더 잘나오는 경향이 있다."
   ]
  },
  {
   "cell_type": "markdown",
   "metadata": {
    "slideshow": {
     "slide_type": "slide"
    }
   },
   "source": [
    "##### train/test set 나누기"
   ]
  },
  {
   "cell_type": "code",
   "execution_count": 138,
   "metadata": {},
   "outputs": [
    {
     "data": {
      "text/plain": [
       "((404, 13), (102, 13))"
      ]
     },
     "execution_count": 138,
     "metadata": {},
     "output_type": "execute_result"
    }
   ],
   "source": [
    "from sklearn.model_selection import train_test_split\n",
    "\n",
    "X_train, X_test, y_train, y_test = train_test_split(X, y, test_size = 0.2, random_state = 0)\n",
    "X_train.shape, X_test.shape"
   ]
  },
  {
   "cell_type": "markdown",
   "metadata": {
    "slideshow": {
     "slide_type": "slide"
    }
   },
   "source": [
    "##### Feature scaling ====> Todo: 함수화"
   ]
  },
  {
   "cell_type": "code",
   "execution_count": 139,
   "metadata": {
    "ExecuteTime": {
     "end_time": "2022-12-16T05:43:20.067827Z",
     "start_time": "2022-12-16T05:43:20.051167Z"
    },
    "execution": {
     "iopub.execute_input": "2022-12-13T00:54:52.354753Z",
     "iopub.status.busy": "2022-12-13T00:54:52.354753Z",
     "iopub.status.idle": "2022-12-13T00:54:52.363755Z",
     "shell.execute_reply": "2022-12-13T00:54:52.362752Z",
     "shell.execute_reply.started": "2022-12-13T00:54:52.354753Z"
    }
   },
   "outputs": [
    {
     "name": "stdout",
     "output_type": "stream",
     "text": [
      "[0. 1.] [0. 1.]\n"
     ]
    }
   ],
   "source": [
    "# CHAS - 범주형- 은 빼고 Feature Scaling 처리.\n",
    "# X에서 CHAS 값을 조회\n",
    "chas_train, chas_test = X_train[:, 3].reshape(-1, 1), X_test[:, 3].reshape(-1, 1)\n",
    "chas_train.shape\n",
    "print(np.unique(chas_train), np.unique(chas_test))"
   ]
  },
  {
   "cell_type": "code",
   "execution_count": 140,
   "metadata": {
    "scrolled": true
   },
   "outputs": [
    {
     "data": {
      "text/plain": [
       "Index(['CRIM', 'ZN', 'INDUS', 'CHAS', 'NOX', 'RM', 'AGE', 'DIS', 'RAD', 'TAX',\n",
       "       'PTRATIO', 'B', 'LSTAT', 'MEDV'],\n",
       "      dtype='object')"
      ]
     },
     "execution_count": 140,
     "metadata": {},
     "output_type": "execute_result"
    }
   ],
   "source": [
    "# chas 는 3번째에 있다.\n",
    "df.columns "
   ]
  },
  {
   "cell_type": "code",
   "execution_count": 141,
   "metadata": {},
   "outputs": [
    {
     "data": {
      "text/plain": [
       "((404, 12), (102, 12))"
      ]
     },
     "execution_count": 141,
     "metadata": {},
     "output_type": "execute_result"
    }
   ],
   "source": [
    "# X에서 CHAS 피처값을 제거\n",
    "X_train = np.delete(X_train, 3, axis = 1) # (대상 배열, 삭제할 index, axis = 축)\n",
    "X_test = np.delete(X_test, 3, axis = 1)\n",
    "X_train.shape, X_test.shape"
   ]
  },
  {
   "cell_type": "code",
   "execution_count": 142,
   "metadata": {},
   "outputs": [
    {
     "data": {
      "text/plain": [
       "((404, 13), (102, 13))"
      ]
     },
     "execution_count": 142,
     "metadata": {},
     "output_type": "execute_result"
    }
   ],
   "source": [
    "from sklearn.preprocessing import StandardScaler\n",
    "scaler = StandardScaler()\n",
    "X_train_scaled_tmp = scaler.fit_transform(X_train)\n",
    "X_test_scaled_tmp = scaler.transform(X_test)\n",
    "\n",
    "# CHAS 추가\n",
    "X_train_scaled = np.append(X_train_scaled_tmp, chas_train, axis = 1) #(추가 대상 배열, <- 추가할 대상 배열, axis = 추가할 축)\n",
    "X_test_scaled = np.append(X_test_scaled_tmp, chas_test, axis = 1)\n",
    "\n",
    "X_train_scaled.shape, X_test_scaled.shape"
   ]
  },
  {
   "cell_type": "code",
   "execution_count": 143,
   "metadata": {},
   "outputs": [
    {
     "data": {
      "text/plain": [
       "(array([-2.33174316e-16, -6.23813432e-17,  2.69916103e-15, -9.89857261e-16,\n",
       "        -1.47571724e-15,  8.65918998e-16,  2.00884414e-16, -1.18716917e-16,\n",
       "         2.91296140e-17,  1.65098958e-14,  7.99759049e-15, -1.85852434e-15,\n",
       "         6.93069307e-02]),\n",
       " array([1.        , 1.        , 1.        , 1.        , 1.        ,\n",
       "        1.        , 1.        , 1.        , 1.        , 1.        ,\n",
       "        1.        , 1.        , 0.25397535]))"
      ]
     },
     "execution_count": 143,
     "metadata": {},
     "output_type": "execute_result"
    }
   ],
   "source": [
    "X_train_scaled.mean(axis = 0), X_train_scaled.std(axis = 0)"
   ]
  },
  {
   "cell_type": "markdown",
   "metadata": {
    "slideshow": {
     "slide_type": "fragment"
    }
   },
   "source": [
    "##### 모델 생성, 학습"
   ]
  },
  {
   "cell_type": "code",
   "execution_count": 144,
   "metadata": {},
   "outputs": [
    {
     "data": {
      "text/html": [
       "<style>#sk-container-id-8 {color: black;background-color: white;}#sk-container-id-8 pre{padding: 0;}#sk-container-id-8 div.sk-toggleable {background-color: white;}#sk-container-id-8 label.sk-toggleable__label {cursor: pointer;display: block;width: 100%;margin-bottom: 0;padding: 0.3em;box-sizing: border-box;text-align: center;}#sk-container-id-8 label.sk-toggleable__label-arrow:before {content: \"▸\";float: left;margin-right: 0.25em;color: #696969;}#sk-container-id-8 label.sk-toggleable__label-arrow:hover:before {color: black;}#sk-container-id-8 div.sk-estimator:hover label.sk-toggleable__label-arrow:before {color: black;}#sk-container-id-8 div.sk-toggleable__content {max-height: 0;max-width: 0;overflow: hidden;text-align: left;background-color: #f0f8ff;}#sk-container-id-8 div.sk-toggleable__content pre {margin: 0.2em;color: black;border-radius: 0.25em;background-color: #f0f8ff;}#sk-container-id-8 input.sk-toggleable__control:checked~div.sk-toggleable__content {max-height: 200px;max-width: 100%;overflow: auto;}#sk-container-id-8 input.sk-toggleable__control:checked~label.sk-toggleable__label-arrow:before {content: \"▾\";}#sk-container-id-8 div.sk-estimator input.sk-toggleable__control:checked~label.sk-toggleable__label {background-color: #d4ebff;}#sk-container-id-8 div.sk-label input.sk-toggleable__control:checked~label.sk-toggleable__label {background-color: #d4ebff;}#sk-container-id-8 input.sk-hidden--visually {border: 0;clip: rect(1px 1px 1px 1px);clip: rect(1px, 1px, 1px, 1px);height: 1px;margin: -1px;overflow: hidden;padding: 0;position: absolute;width: 1px;}#sk-container-id-8 div.sk-estimator {font-family: monospace;background-color: #f0f8ff;border: 1px dotted black;border-radius: 0.25em;box-sizing: border-box;margin-bottom: 0.5em;}#sk-container-id-8 div.sk-estimator:hover {background-color: #d4ebff;}#sk-container-id-8 div.sk-parallel-item::after {content: \"\";width: 100%;border-bottom: 1px solid gray;flex-grow: 1;}#sk-container-id-8 div.sk-label:hover label.sk-toggleable__label {background-color: #d4ebff;}#sk-container-id-8 div.sk-serial::before {content: \"\";position: absolute;border-left: 1px solid gray;box-sizing: border-box;top: 0;bottom: 0;left: 50%;z-index: 0;}#sk-container-id-8 div.sk-serial {display: flex;flex-direction: column;align-items: center;background-color: white;padding-right: 0.2em;padding-left: 0.2em;position: relative;}#sk-container-id-8 div.sk-item {position: relative;z-index: 1;}#sk-container-id-8 div.sk-parallel {display: flex;align-items: stretch;justify-content: center;background-color: white;position: relative;}#sk-container-id-8 div.sk-item::before, #sk-container-id-8 div.sk-parallel-item::before {content: \"\";position: absolute;border-left: 1px solid gray;box-sizing: border-box;top: 0;bottom: 0;left: 50%;z-index: -1;}#sk-container-id-8 div.sk-parallel-item {display: flex;flex-direction: column;z-index: 1;position: relative;background-color: white;}#sk-container-id-8 div.sk-parallel-item:first-child::after {align-self: flex-end;width: 50%;}#sk-container-id-8 div.sk-parallel-item:last-child::after {align-self: flex-start;width: 50%;}#sk-container-id-8 div.sk-parallel-item:only-child::after {width: 0;}#sk-container-id-8 div.sk-dashed-wrapped {border: 1px dashed gray;margin: 0 0.4em 0.5em 0.4em;box-sizing: border-box;padding-bottom: 0.4em;background-color: white;}#sk-container-id-8 div.sk-label label {font-family: monospace;font-weight: bold;display: inline-block;line-height: 1.2em;}#sk-container-id-8 div.sk-label-container {text-align: center;}#sk-container-id-8 div.sk-container {/* jupyter's `normalize.less` sets `[hidden] { display: none; }` but bootstrap.min.css set `[hidden] { display: none !important; }` so we also need the `!important` here to be able to override the default hidden behavior on the sphinx rendered scikit-learn.org. See: https://github.com/scikit-learn/scikit-learn/issues/21755 */display: inline-block !important;position: relative;}#sk-container-id-8 div.sk-text-repr-fallback {display: none;}</style><div id=\"sk-container-id-8\" class=\"sk-top-container\"><div class=\"sk-text-repr-fallback\"><pre>LinearRegression()</pre><b>In a Jupyter environment, please rerun this cell to show the HTML representation or trust the notebook. <br />On GitHub, the HTML representation is unable to render, please try loading this page with nbviewer.org.</b></div><div class=\"sk-container\" hidden><div class=\"sk-item\"><div class=\"sk-estimator sk-toggleable\"><input class=\"sk-toggleable__control sk-hidden--visually\" id=\"sk-estimator-id-8\" type=\"checkbox\" checked><label for=\"sk-estimator-id-8\" class=\"sk-toggleable__label sk-toggleable__label-arrow\">LinearRegression</label><div class=\"sk-toggleable__content\"><pre>LinearRegression()</pre></div></div></div></div></div>"
      ],
      "text/plain": [
       "LinearRegression()"
      ]
     },
     "execution_count": 144,
     "metadata": {},
     "output_type": "execute_result"
    }
   ],
   "source": [
    "from sklearn.linear_model import LinearRegression\n",
    "\n",
    "lr = LinearRegression()\n",
    "lr.fit(X_train_scaled, y_train)"
   ]
  },
  {
   "cell_type": "code",
   "execution_count": 145,
   "metadata": {},
   "outputs": [
    {
     "data": {
      "text/plain": [
       "(array([-0.97082019,  1.05714873,  0.03831099, -1.8551476 ,  2.57321942,\n",
       "        -0.08761547, -2.88094259,  2.11224542, -1.87533131, -2.29276735,\n",
       "         0.71817947, -3.59245482,  2.34080361]),\n",
       " (13,))"
      ]
     },
     "execution_count": 145,
     "metadata": {},
     "output_type": "execute_result"
    }
   ],
   "source": [
    "# weight, coef - 가중치\n",
    "lr.coef_, lr.coef_.shape"
   ]
  },
  {
   "cell_type": "code",
   "execution_count": 146,
   "metadata": {},
   "outputs": [
    {
     "data": {
      "text/plain": [
       "22.44964727481494"
      ]
     },
     "execution_count": 146,
     "metadata": {},
     "output_type": "execute_result"
    }
   ],
   "source": [
    "# bias(편향) - 절편 => 모든 feature들이 0일때 y의 값.\n",
    "lr.intercept_"
   ]
  },
  {
   "cell_type": "code",
   "execution_count": 147,
   "metadata": {},
   "outputs": [
    {
     "data": {
      "text/plain": [
       "10.107279277574893"
      ]
     },
     "execution_count": 147,
     "metadata": {},
     "output_type": "execute_result"
    }
   ],
   "source": [
    "X_train_scaled[0]@lr.coef_"
   ]
  },
  {
   "cell_type": "code",
   "execution_count": 148,
   "metadata": {
    "scrolled": true
   },
   "outputs": [
    {
     "data": {
      "text/plain": [
       "32.55692655238983"
      ]
     },
     "execution_count": 148,
     "metadata": {},
     "output_type": "execute_result"
    }
   ],
   "source": [
    "X_train_scaled[0]@lr.coef_ + lr.intercept_"
   ]
  },
  {
   "cell_type": "code",
   "execution_count": 149,
   "metadata": {},
   "outputs": [
    {
     "data": {
      "text/plain": [
       "26.7"
      ]
     },
     "execution_count": 149,
     "metadata": {},
     "output_type": "execute_result"
    }
   ],
   "source": [
    "y_train[0]"
   ]
  },
  {
   "cell_type": "code",
   "execution_count": 150,
   "metadata": {},
   "outputs": [
    {
     "data": {
      "text/plain": [
       "array([32.55692655, 21.92709478])"
      ]
     },
     "execution_count": 150,
     "metadata": {},
     "output_type": "execute_result"
    }
   ],
   "source": [
    "lr.predict(X_train_scaled[:2])"
   ]
  },
  {
   "cell_type": "markdown",
   "metadata": {
    "ExecuteTime": {
     "end_time": "2021-11-22T02:53:53.375962Z",
     "start_time": "2021-11-22T02:53:53.353025Z"
    },
    "slideshow": {
     "slide_type": "notes"
    }
   },
   "source": [
    "> ### Coeficient의 부호\n",
    "> - weight가 \n",
    "> - 양수: Feature가 1 증가할때 y(집값)도 weight만큼 증가한다.\n",
    "> - 음수: Feature가 1 증가할때 y(집값)도 weight만큼 감소한다.\n",
    "> - 절대값 기준으로 0에 가까울 수록 집값에 영향을 주지 않고 크면 클수록(0에서 멀어질 수록) 집값에 영향을 많이 주는 Feature 란 의미가 된다."
   ]
  },
  {
   "cell_type": "markdown",
   "metadata": {
    "slideshow": {
     "slide_type": "fragment"
    }
   },
   "source": [
    "##### 평가"
   ]
  },
  {
   "cell_type": "code",
   "execution_count": 151,
   "metadata": {},
   "outputs": [
    {
     "name": "stdout",
     "output_type": "stream",
     "text": [
      "Train set\n",
      "MSE: 19.326, RMSE: 4.396, MAE: 3.103, R2: 0.773\n",
      "==================================================\n",
      "Test set\n",
      "MSE: 33.449, RMSE: 5.784, MAE: 3.843, R2: 0.589\n"
     ]
    }
   ],
   "source": [
    "from metrics import print_metrics_regression as pmr\n",
    "\n",
    "train_pred = lr.predict(X_train_scaled)\n",
    "test_pred = lr.predict(X_test_scaled)\n",
    "pmr(y_train, train_pred, title = 'Train set')\n",
    "print('='*50)\n",
    "pmr(y_test, test_pred, title = 'Test set')"
   ]
  },
  {
   "cell_type": "code",
   "execution_count": 152,
   "metadata": {},
   "outputs": [
    {
     "data": {
      "image/png": "[encoded data removed]",
      "text/plain": [
       "<Figure size 2000x700 with 1 Axes>"
      ]
     },
     "metadata": {},
     "output_type": "display_data"
    }
   ],
   "source": [
    "# 정답, 모델 예측값을 비교하는 그래프\n",
    "import matplotlib.pyplot as plt\n",
    "plt.figure(figsize = (20, 7))\n",
    "x = range(len(y_test))\n",
    "plt.plot(x, y_test, marker = 'x', label = '정답')\n",
    "plt.plot(x, test_pred, marker = 'o', label = '예측값')\n",
    "plt.legend()\n",
    "plt.show()"
   ]
  },
  {
   "cell_type": "code",
   "execution_count": 153,
   "metadata": {},
   "outputs": [
    {
     "ename": "SyntaxError",
     "evalue": "invalid syntax (1409061121.py, line 1)",
     "output_type": "error",
     "traceback": [
      "\u001b[0;36m  Cell \u001b[0;32mIn[153], line 1\u001b[0;36m\u001b[0m\n\u001b[0;31m    - 선형회귀의 선형분리를 하고나면 비선형회귀로 바뀐다.\u001b[0m\n\u001b[0m            ^\u001b[0m\n\u001b[0;31mSyntaxError\u001b[0m\u001b[0;31m:\u001b[0m invalid syntax\n"
     ]
    }
   ],
   "source": [
    "- 선형회귀의 선형분리를 하고나면 비선형회귀로 바뀐다."
   ]
  },
  {
   "cell_type": "markdown",
   "metadata": {
    "slideshow": {
     "slide_type": "slide"
    }
   },
   "source": [
    "#  <span style='background-color:#fff5b1'>다항회귀 (Polynomial Regression)\n",
    "- 전처리방식 중 하나로 Feature가 너무 적어 y의 값들을 다 설명하지 못하여 underfitting이 된 경우 Feature를 늘려준다.\n",
    "- 각 Feature들을 거듭제곱한 것과 Feature들 끼리 곱한 새로운 특성들을 추가한다.\n",
    "    - 파라미터 가중치를 기준으로는 일차식이 되어 선형모델이다. <span style='background-color:#fff5b1'>입력데이터( X )</span>들을 기준으로는 N차식이 되어 비선형 데이터를 추론할 수 있는 모델이 된다.\n",
    "- `PolynomialFeatures` Transformer를 사용해서 변환한다."
   ]
  },
  {
   "cell_type": "markdown",
   "metadata": {
    "slideshow": {
     "slide_type": "slide"
    }
   },
   "source": [
    "## 예제"
   ]
  },
  {
   "cell_type": "markdown",
   "metadata": {
    "slideshow": {
     "slide_type": "fragment"
    }
   },
   "source": [
    "##### 데이터셋 만들기"
   ]
  },
  {
   "cell_type": "code",
   "execution_count": 154,
   "metadata": {
    "ExecuteTime": {
     "end_time": "2023-02-07T13:23:44.707240Z",
     "start_time": "2023-02-07T13:23:44.695238Z"
    },
    "execution": {
     "iopub.execute_input": "2022-12-13T01:56:41.036650Z",
     "iopub.status.busy": "2022-12-13T01:56:41.036650Z",
     "iopub.status.idle": "2022-12-13T01:56:41.047406Z",
     "shell.execute_reply": "2022-12-13T01:56:41.046883Z",
     "shell.execute_reply.started": "2022-12-13T01:56:41.036650Z"
    },
    "tags": []
   },
   "outputs": [
    {
     "name": "stdout",
     "output_type": "stream",
     "text": [
      "(100, 1) (100,)\n"
     ]
    }
   ],
   "source": [
    "import numpy as np\n",
    "import pandas as pd\n",
    "import matplotlib.pyplot as plt\n",
    "\n",
    "np.random.seed(0)\n",
    "\n",
    "# X**2 + X + 2\n",
    "def func(X):\n",
    "    return X**2 + X + 2 + np.random.normal(0,1, size=(X.size, 1))\n",
    "\n",
    "m = 100 # 생성할 데이터 개수.\n",
    "X = 6 * np.random.rand(m, 1) - 3 # rand(): 0 ~ 1 임의의 실수\n",
    "y = func(X)\n",
    "y = y.flatten()\n",
    "\n",
    "print(X.shape, y.shape)"
   ]
  },
  {
   "cell_type": "code",
   "execution_count": 155,
   "metadata": {},
   "outputs": [
    {
     "data": {
      "image/png": "[encoded data removed]",
      "text/plain": [
       "<Figure size 640x480 with 1 Axes>"
      ]
     },
     "metadata": {},
     "output_type": "display_data"
    }
   ],
   "source": [
    "plt.scatter(X, y)\n",
    "plt.show()"
   ]
  },
  {
   "cell_type": "markdown",
   "metadata": {
    "slideshow": {
     "slide_type": "slide"
    }
   },
   "source": [
    "##### 모델생성, 학습"
   ]
  },
  {
   "cell_type": "code",
   "execution_count": 156,
   "metadata": {},
   "outputs": [
    {
     "name": "stdout",
     "output_type": "stream",
     "text": [
      "MSE: 7.729, RMSE: 2.780, MAE: 2.322, R2: 0.191\n"
     ]
    }
   ],
   "source": [
    "lr = LinearRegression()\n",
    "lr.fit(X, y)\n",
    "pred = lr.predict(X)\n",
    "pmr(y, pred)"
   ]
  },
  {
   "cell_type": "code",
   "execution_count": 157,
   "metadata": {},
   "outputs": [
    {
     "data": {
      "image/png": "[encoded data removed]",
      "text/plain": [
       "<Figure size 640x480 with 1 Axes>"
      ]
     },
     "metadata": {},
     "output_type": "display_data"
    }
   ],
   "source": [
    "X_new = np.linspace(-5, 5, 100).reshape(-1, 1)\n",
    "pred_new = lr.predict(X_new)\n",
    "plt.scatter(X, y)\n",
    "plt.plot(X_new, pred_new, color = 'red')\n",
    "plt.show()"
   ]
  },
  {
   "cell_type": "markdown",
   "metadata": {
    "slideshow": {
     "slide_type": "slide"
    }
   },
   "source": [
    "##### PolynomialFeatures를 이용해 다항회귀구현"
   ]
  },
  {
   "cell_type": "code",
   "execution_count": 158,
   "metadata": {},
   "outputs": [
    {
     "name": "stdout",
     "output_type": "stream",
     "text": [
      "(100, 1) (100, 2)\n"
     ]
    }
   ],
   "source": [
    "from sklearn.preprocessing import PolynomialFeatures\n",
    "\n",
    "# 기존 컬럼에 N 제곱한 값을 가지는 컬럼들, 기존 컬럼끼리 곱한 값을 가지는 컬럼들을 추가.\n",
    "pn = PolynomialFeatures(degree =2, # 몇 제곱까지 할지 설정. 3 => X, X**2, X**3\n",
    "                      include_bias = False, # 상수항(모든값이 1로 구성된 feature)를 생성안한다. (default: True)\n",
    "                       )\n",
    "X_poly = pn.fit_transform(X)\n",
    "print(X.shape, X_poly.shape)"
   ]
  },
  {
   "cell_type": "markdown",
   "metadata": {},
   "source": [
    ">|x|x-1|x-2|x-3|x-4|\n",
    ">|-|-|-|-|-|\n",
    ">|1|2|1|4|2|\n",
    ">|1|2|1x1|2x2|1x2||"
   ]
  },
  {
   "cell_type": "code",
   "execution_count": 159,
   "metadata": {
    "scrolled": true
   },
   "outputs": [
    {
     "data": {
      "text/plain": [
       "array([[ 0.29288102,  0.08577929],\n",
       "       [ 1.2911362 ,  1.66703268],\n",
       "       [ 0.61658026,  0.38017121],\n",
       "       [ 0.2692991 ,  0.072522  ],\n",
       "       [-0.4580712 ,  0.20982923]])"
      ]
     },
     "execution_count": 159,
     "metadata": {},
     "output_type": "execute_result"
    }
   ],
   "source": [
    "X_poly[:5]"
   ]
  },
  {
   "cell_type": "code",
   "execution_count": 160,
   "metadata": {},
   "outputs": [
    {
     "data": {
      "text/plain": [
       "array(['x0', 'x0^2'], dtype=object)"
      ]
     },
     "execution_count": 160,
     "metadata": {},
     "output_type": "execute_result"
    }
   ],
   "source": [
    "# 변환한 feature들의 이름(어떻게 만들었는지) 을 조회\n",
    "pn.get_feature_names_out()"
   ]
  },
  {
   "cell_type": "markdown",
   "metadata": {
    "slideshow": {
     "slide_type": "slide"
    }
   },
   "source": [
    "##### LinearRegression 모델을 이용해 평가"
   ]
  },
  {
   "cell_type": "code",
   "execution_count": 161,
   "metadata": {},
   "outputs": [
    {
     "data": {
      "text/html": [
       "<style>#sk-container-id-9 {color: black;background-color: white;}#sk-container-id-9 pre{padding: 0;}#sk-container-id-9 div.sk-toggleable {background-color: white;}#sk-container-id-9 label.sk-toggleable__label {cursor: pointer;display: block;width: 100%;margin-bottom: 0;padding: 0.3em;box-sizing: border-box;text-align: center;}#sk-container-id-9 label.sk-toggleable__label-arrow:before {content: \"▸\";float: left;margin-right: 0.25em;color: #696969;}#sk-container-id-9 label.sk-toggleable__label-arrow:hover:before {color: black;}#sk-container-id-9 div.sk-estimator:hover label.sk-toggleable__label-arrow:before {color: black;}#sk-container-id-9 div.sk-toggleable__content {max-height: 0;max-width: 0;overflow: hidden;text-align: left;background-color: #f0f8ff;}#sk-container-id-9 div.sk-toggleable__content pre {margin: 0.2em;color: black;border-radius: 0.25em;background-color: #f0f8ff;}#sk-container-id-9 input.sk-toggleable__control:checked~div.sk-toggleable__content {max-height: 200px;max-width: 100%;overflow: auto;}#sk-container-id-9 input.sk-toggleable__control:checked~label.sk-toggleable__label-arrow:before {content: \"▾\";}#sk-container-id-9 div.sk-estimator input.sk-toggleable__control:checked~label.sk-toggleable__label {background-color: #d4ebff;}#sk-container-id-9 div.sk-label input.sk-toggleable__control:checked~label.sk-toggleable__label {background-color: #d4ebff;}#sk-container-id-9 input.sk-hidden--visually {border: 0;clip: rect(1px 1px 1px 1px);clip: rect(1px, 1px, 1px, 1px);height: 1px;margin: -1px;overflow: hidden;padding: 0;position: absolute;width: 1px;}#sk-container-id-9 div.sk-estimator {font-family: monospace;background-color: #f0f8ff;border: 1px dotted black;border-radius: 0.25em;box-sizing: border-box;margin-bottom: 0.5em;}#sk-container-id-9 div.sk-estimator:hover {background-color: #d4ebff;}#sk-container-id-9 div.sk-parallel-item::after {content: \"\";width: 100%;border-bottom: 1px solid gray;flex-grow: 1;}#sk-container-id-9 div.sk-label:hover label.sk-toggleable__label {background-color: #d4ebff;}#sk-container-id-9 div.sk-serial::before {content: \"\";position: absolute;border-left: 1px solid gray;box-sizing: border-box;top: 0;bottom: 0;left: 50%;z-index: 0;}#sk-container-id-9 div.sk-serial {display: flex;flex-direction: column;align-items: center;background-color: white;padding-right: 0.2em;padding-left: 0.2em;position: relative;}#sk-container-id-9 div.sk-item {position: relative;z-index: 1;}#sk-container-id-9 div.sk-parallel {display: flex;align-items: stretch;justify-content: center;background-color: white;position: relative;}#sk-container-id-9 div.sk-item::before, #sk-container-id-9 div.sk-parallel-item::before {content: \"\";position: absolute;border-left: 1px solid gray;box-sizing: border-box;top: 0;bottom: 0;left: 50%;z-index: -1;}#sk-container-id-9 div.sk-parallel-item {display: flex;flex-direction: column;z-index: 1;position: relative;background-color: white;}#sk-container-id-9 div.sk-parallel-item:first-child::after {align-self: flex-end;width: 50%;}#sk-container-id-9 div.sk-parallel-item:last-child::after {align-self: flex-start;width: 50%;}#sk-container-id-9 div.sk-parallel-item:only-child::after {width: 0;}#sk-container-id-9 div.sk-dashed-wrapped {border: 1px dashed gray;margin: 0 0.4em 0.5em 0.4em;box-sizing: border-box;padding-bottom: 0.4em;background-color: white;}#sk-container-id-9 div.sk-label label {font-family: monospace;font-weight: bold;display: inline-block;line-height: 1.2em;}#sk-container-id-9 div.sk-label-container {text-align: center;}#sk-container-id-9 div.sk-container {/* jupyter's `normalize.less` sets `[hidden] { display: none; }` but bootstrap.min.css set `[hidden] { display: none !important; }` so we also need the `!important` here to be able to override the default hidden behavior on the sphinx rendered scikit-learn.org. See: https://github.com/scikit-learn/scikit-learn/issues/21755 */display: inline-block !important;position: relative;}#sk-container-id-9 div.sk-text-repr-fallback {display: none;}</style><div id=\"sk-container-id-9\" class=\"sk-top-container\"><div class=\"sk-text-repr-fallback\"><pre>LinearRegression()</pre><b>In a Jupyter environment, please rerun this cell to show the HTML representation or trust the notebook. <br />On GitHub, the HTML representation is unable to render, please try loading this page with nbviewer.org.</b></div><div class=\"sk-container\" hidden><div class=\"sk-item\"><div class=\"sk-estimator sk-toggleable\"><input class=\"sk-toggleable__control sk-hidden--visually\" id=\"sk-estimator-id-9\" type=\"checkbox\" checked><label for=\"sk-estimator-id-9\" class=\"sk-toggleable__label sk-toggleable__label-arrow\">LinearRegression</label><div class=\"sk-toggleable__content\"><pre>LinearRegression()</pre></div></div></div></div></div>"
      ],
      "text/plain": [
       "LinearRegression()"
      ]
     },
     "execution_count": 161,
     "metadata": {},
     "output_type": "execute_result"
    }
   ],
   "source": [
    "lr2 = LinearRegression()\n",
    "lr2.fit(X_poly, y)"
   ]
  },
  {
   "cell_type": "code",
   "execution_count": 162,
   "metadata": {},
   "outputs": [
    {
     "name": "stdout",
     "output_type": "stream",
     "text": [
      "변환후\n",
      "MSE: 0.974, RMSE: 0.987, MAE: 0.828, R2: 0.898\n",
      "---------------------\n",
      "변환전\n",
      "MSE: 7.729, RMSE: 2.780, MAE: 2.322, R2: 0.191\n"
     ]
    }
   ],
   "source": [
    "# 평가\n",
    "pred2 = lr2.predict(X_poly)\n",
    "pmr(y, pred2, title = '변환후')\n",
    "print('---------------------')\n",
    "pmr(y, pred, title = '변환전')"
   ]
  },
  {
   "cell_type": "code",
   "execution_count": 163,
   "metadata": {},
   "outputs": [
    {
     "data": {
      "text/plain": [
       "array([0.97906552, 0.94978823])"
      ]
     },
     "execution_count": 163,
     "metadata": {},
     "output_type": "execute_result"
    }
   ],
   "source": [
    "lr2.coef_"
   ]
  },
  {
   "cell_type": "code",
   "execution_count": 164,
   "metadata": {
    "scrolled": true
   },
   "outputs": [
    {
     "data": {
      "text/plain": [
       "2.3405007562628866"
      ]
     },
     "execution_count": 164,
     "metadata": {},
     "output_type": "execute_result"
    }
   ],
   "source": [
    "lr2.intercept_"
   ]
  },
  {
   "cell_type": "markdown",
   "metadata": {
    "slideshow": {
     "slide_type": "slide"
    }
   },
   "source": [
    "##### 시각화"
   ]
  },
  {
   "cell_type": "code",
   "execution_count": 165,
   "metadata": {},
   "outputs": [
    {
     "data": {
      "image/png": "[encoded data removed]",
      "text/plain": [
       "<Figure size 640x480 with 1 Axes>"
      ]
     },
     "metadata": {},
     "output_type": "display_data"
    }
   ],
   "source": [
    "X_new = np.linspace(-4, 4, 100).reshape(-1, 1)\n",
    "X_new_poly = pn.transform(X_new) # 변환처리\n",
    "y_new = lr2.predict(X_new_poly)\n",
    "\n",
    "plt.scatter(X, y)\n",
    "plt.plot(X_new, y_new, color = 'red')\n",
    "plt.show()"
   ]
  },
  {
   "cell_type": "markdown",
   "metadata": {
    "slideshow": {
     "slide_type": "slide"
    }
   },
   "source": [
    "##  <span style='background-color:#fff5b1'>degree를 크게\n",
    "- Feature가 너무 많으면 Overfitting 문제가 생긴다."
   ]
  },
  {
   "cell_type": "code",
   "execution_count": 166,
   "metadata": {},
   "outputs": [
    {
     "name": "stdout",
     "output_type": "stream",
     "text": [
      "(100, 1) (100, 35)\n"
     ]
    },
    {
     "data": {
      "text/plain": [
       "array(['x0', 'x0^2', 'x0^3', 'x0^4', 'x0^5', 'x0^6', 'x0^7', 'x0^8',\n",
       "       'x0^9', 'x0^10', 'x0^11', 'x0^12', 'x0^13', 'x0^14', 'x0^15',\n",
       "       'x0^16', 'x0^17', 'x0^18', 'x0^19', 'x0^20', 'x0^21', 'x0^22',\n",
       "       'x0^23', 'x0^24', 'x0^25', 'x0^26', 'x0^27', 'x0^28', 'x0^29',\n",
       "       'x0^30', 'x0^31', 'x0^32', 'x0^33', 'x0^34', 'x0^35'], dtype=object)"
      ]
     },
     "execution_count": 166,
     "metadata": {},
     "output_type": "execute_result"
    }
   ],
   "source": [
    "pn2 = PolynomialFeatures(degree = 35, include_bias = False)\n",
    "X_poly2 = pn2.fit_transform(X)\n",
    "print(X.shape, X_poly2.shape)\n",
    "pn2.get_feature_names_out()"
   ]
  },
  {
   "cell_type": "code",
   "execution_count": 167,
   "metadata": {},
   "outputs": [
    {
     "name": "stdout",
     "output_type": "stream",
     "text": [
      "[ 5.56647623e-03  1.12706637e-02  9.54082591e-03  2.22803359e-02\n",
      "  1.60661855e-02  3.46846920e-02  2.48061963e-02  4.78572098e-02\n",
      "  3.51272994e-02  5.45771045e-02  4.19331060e-02  4.20555473e-02\n",
      "  3.47827026e-02  2.62172669e-03  4.98367996e-03 -3.89565299e-02\n",
      " -3.09362094e-02 -1.99151862e-02 -1.91113982e-02  4.47646067e-02\n",
      "  3.75555918e-02 -2.57659166e-02 -2.08346394e-02  7.92305028e-03\n",
      "  6.24226401e-03 -1.49402769e-03 -1.15106964e-03  1.78860365e-04\n",
      "  1.34991054e-04 -1.33173928e-05 -9.85573738e-06  5.64360057e-07\n",
      "  4.09809128e-07 -1.04240418e-08 -7.43037573e-09]\n",
      "2.871858814697024\n"
     ]
    }
   ],
   "source": [
    "lr3 = LinearRegression()\n",
    "lr3.fit(X_poly2, y)\n",
    "print(lr3.coef_)\n",
    "print(lr3.intercept_)"
   ]
  },
  {
   "cell_type": "code",
   "execution_count": 168,
   "metadata": {},
   "outputs": [
    {
     "name": "stdout",
     "output_type": "stream",
     "text": [
      "MSE: 1.059, RMSE: 1.029, MAE: 0.791, R2: 0.889\n"
     ]
    }
   ],
   "source": [
    "pred3 = lr3.predict(X_poly2)\n",
    "pmr(y, pred3)"
   ]
  },
  {
   "cell_type": "code",
   "execution_count": 169,
   "metadata": {},
   "outputs": [
    {
     "data": {
      "image/png": "[encoded data removed]",
      "text/plain": [
       "<Figure size 640x480 with 1 Axes>"
      ]
     },
     "metadata": {},
     "output_type": "display_data"
    }
   ],
   "source": [
    "X_new = np.linspace(-4, 4, 100).reshape(-1, 1)\n",
    "X_new_poly1 = pn2.transform(X_new) # 변환처리\n",
    "y_new = lr3.predict(X_new_poly1)\n",
    "\n",
    "plt.scatter(X, y)\n",
    "plt.plot(X_new, y_new, color = 'red')\n",
    "plt.ylim(0,15)\n",
    "plt.show()"
   ]
  },
  {
   "cell_type": "markdown",
   "metadata": {
    "slideshow": {
     "slide_type": "slide"
    }
   },
   "source": [
    "###  <span style='background-color:#fff5b1'> PolynomialFeatures 예제"
   ]
  },
  {
   "cell_type": "code",
   "execution_count": 170,
   "metadata": {},
   "outputs": [
    {
     "name": "stdout",
     "output_type": "stream",
     "text": [
      "(4, 3)\n"
     ]
    },
    {
     "data": {
      "text/plain": [
       "array([[ 0,  1,  2],\n",
       "       [ 3,  4,  5],\n",
       "       [ 6,  7,  8],\n",
       "       [ 9, 10, 11]])"
      ]
     },
     "execution_count": 170,
     "metadata": {},
     "output_type": "execute_result"
    }
   ],
   "source": [
    "import numpy as np\n",
    "\n",
    "data = np.arange(12).reshape(4, 3)\n",
    "print(data.shape)\n",
    "data"
   ]
  },
  {
   "cell_type": "markdown",
   "metadata": {},
   "source": [
    "### ----------------------------------------------------------------------"
   ]
  },
  {
   "cell_type": "code",
   "execution_count": 171,
   "metadata": {},
   "outputs": [
    {
     "data": {
      "text/plain": [
       "(4, 10)"
      ]
     },
     "execution_count": 171,
     "metadata": {},
     "output_type": "execute_result"
    }
   ],
   "source": [
    "from sklearn.preprocessing import PolynomialFeatures\n",
    "pn = PolynomialFeatures(degree = 2)\n",
    "data_poly2 = pn.fit_transform(data)\n",
    "data_poly2.shape"
   ]
  },
  {
   "cell_type": "code",
   "execution_count": 172,
   "metadata": {},
   "outputs": [
    {
     "data": {
      "text/plain": [
       "array([[  1.,   0.,   1.,   2.,   0.,   0.,   0.,   1.,   2.,   4.],\n",
       "       [  1.,   3.,   4.,   5.,   9.,  12.,  15.,  16.,  20.,  25.],\n",
       "       [  1.,   6.,   7.,   8.,  36.,  42.,  48.,  49.,  56.,  64.],\n",
       "       [  1.,   9.,  10.,  11.,  81.,  90.,  99., 100., 110., 121.]])"
      ]
     },
     "execution_count": 172,
     "metadata": {},
     "output_type": "execute_result"
    }
   ],
   "source": [
    "data_poly2"
   ]
  },
  {
   "cell_type": "code",
   "execution_count": 173,
   "metadata": {},
   "outputs": [
    {
     "data": {
      "text/plain": [
       "array(['1', 'x0', 'x1', 'x2', 'x0^2', 'x0 x1', 'x0 x2', 'x1^2', 'x1 x2',\n",
       "       'x2^2'], dtype=object)"
      ]
     },
     "execution_count": 173,
     "metadata": {},
     "output_type": "execute_result"
    }
   ],
   "source": [
    "pn.get_feature_names_out()"
   ]
  },
  {
   "cell_type": "markdown",
   "metadata": {},
   "source": [
    "### ----------------------------------------------------------------------"
   ]
  },
  {
   "cell_type": "code",
   "execution_count": 174,
   "metadata": {},
   "outputs": [
    {
     "data": {
      "text/plain": [
       "(4, 20)"
      ]
     },
     "execution_count": 174,
     "metadata": {},
     "output_type": "execute_result"
    }
   ],
   "source": [
    "pn2 = PolynomialFeatures(degree = 3)\n",
    "data_poly3 = pn2.fit_transform(data)\n",
    "data_poly3.shape"
   ]
  },
  {
   "cell_type": "code",
   "execution_count": 175,
   "metadata": {},
   "outputs": [
    {
     "data": {
      "text/plain": [
       "array(['1', 'x0', 'x1', 'x2', 'x0^2', 'x0 x1', 'x0 x2', 'x1^2', 'x1 x2',\n",
       "       'x2^2', 'x0^3', 'x0^2 x1', 'x0^2 x2', 'x0 x1^2', 'x0 x1 x2',\n",
       "       'x0 x2^2', 'x1^3', 'x1^2 x2', 'x1 x2^2', 'x2^3'], dtype=object)"
      ]
     },
     "execution_count": 175,
     "metadata": {},
     "output_type": "execute_result"
    }
   ],
   "source": [
    "pn2.get_feature_names_out()"
   ]
  },
  {
   "cell_type": "markdown",
   "metadata": {
    "slideshow": {
     "slide_type": "slide"
    }
   },
   "source": [
    "### PolynomialFeatures를 Boston Dataset에 적용"
   ]
  },
  {
   "cell_type": "code",
   "execution_count": 176,
   "metadata": {},
   "outputs": [],
   "source": [
    "pn_boston = PolynomialFeatures(degree = 2, include_bias = False)\n",
    "X_train_scaled_poly = pn_boston.fit_transform(X_train_scaled)\n",
    "X_test_scaled_poly = pn_boston.transform(X_test_scaled)"
   ]
  },
  {
   "cell_type": "code",
   "execution_count": 177,
   "metadata": {},
   "outputs": [
    {
     "name": "stdout",
     "output_type": "stream",
     "text": [
      "(404, 13)\n",
      "(404, 104)\n"
     ]
    }
   ],
   "source": [
    "print(X_train_scaled.shape)\n",
    "print(X_train_scaled_poly.shape)"
   ]
  },
  {
   "cell_type": "markdown",
   "metadata": {
    "slideshow": {
     "slide_type": "slide"
    }
   },
   "source": [
    "##### 모델 생성 학습 추론 평가"
   ]
  },
  {
   "cell_type": "code",
   "execution_count": 178,
   "metadata": {},
   "outputs": [
    {
     "data": {
      "text/html": [
       "<style>#sk-container-id-10 {color: black;background-color: white;}#sk-container-id-10 pre{padding: 0;}#sk-container-id-10 div.sk-toggleable {background-color: white;}#sk-container-id-10 label.sk-toggleable__label {cursor: pointer;display: block;width: 100%;margin-bottom: 0;padding: 0.3em;box-sizing: border-box;text-align: center;}#sk-container-id-10 label.sk-toggleable__label-arrow:before {content: \"▸\";float: left;margin-right: 0.25em;color: #696969;}#sk-container-id-10 label.sk-toggleable__label-arrow:hover:before {color: black;}#sk-container-id-10 div.sk-estimator:hover label.sk-toggleable__label-arrow:before {color: black;}#sk-container-id-10 div.sk-toggleable__content {max-height: 0;max-width: 0;overflow: hidden;text-align: left;background-color: #f0f8ff;}#sk-container-id-10 div.sk-toggleable__content pre {margin: 0.2em;color: black;border-radius: 0.25em;background-color: #f0f8ff;}#sk-container-id-10 input.sk-toggleable__control:checked~div.sk-toggleable__content {max-height: 200px;max-width: 100%;overflow: auto;}#sk-container-id-10 input.sk-toggleable__control:checked~label.sk-toggleable__label-arrow:before {content: \"▾\";}#sk-container-id-10 div.sk-estimator input.sk-toggleable__control:checked~label.sk-toggleable__label {background-color: #d4ebff;}#sk-container-id-10 div.sk-label input.sk-toggleable__control:checked~label.sk-toggleable__label {background-color: #d4ebff;}#sk-container-id-10 input.sk-hidden--visually {border: 0;clip: rect(1px 1px 1px 1px);clip: rect(1px, 1px, 1px, 1px);height: 1px;margin: -1px;overflow: hidden;padding: 0;position: absolute;width: 1px;}#sk-container-id-10 div.sk-estimator {font-family: monospace;background-color: #f0f8ff;border: 1px dotted black;border-radius: 0.25em;box-sizing: border-box;margin-bottom: 0.5em;}#sk-container-id-10 div.sk-estimator:hover {background-color: #d4ebff;}#sk-container-id-10 div.sk-parallel-item::after {content: \"\";width: 100%;border-bottom: 1px solid gray;flex-grow: 1;}#sk-container-id-10 div.sk-label:hover label.sk-toggleable__label {background-color: #d4ebff;}#sk-container-id-10 div.sk-serial::before {content: \"\";position: absolute;border-left: 1px solid gray;box-sizing: border-box;top: 0;bottom: 0;left: 50%;z-index: 0;}#sk-container-id-10 div.sk-serial {display: flex;flex-direction: column;align-items: center;background-color: white;padding-right: 0.2em;padding-left: 0.2em;position: relative;}#sk-container-id-10 div.sk-item {position: relative;z-index: 1;}#sk-container-id-10 div.sk-parallel {display: flex;align-items: stretch;justify-content: center;background-color: white;position: relative;}#sk-container-id-10 div.sk-item::before, #sk-container-id-10 div.sk-parallel-item::before {content: \"\";position: absolute;border-left: 1px solid gray;box-sizing: border-box;top: 0;bottom: 0;left: 50%;z-index: -1;}#sk-container-id-10 div.sk-parallel-item {display: flex;flex-direction: column;z-index: 1;position: relative;background-color: white;}#sk-container-id-10 div.sk-parallel-item:first-child::after {align-self: flex-end;width: 50%;}#sk-container-id-10 div.sk-parallel-item:last-child::after {align-self: flex-start;width: 50%;}#sk-container-id-10 div.sk-parallel-item:only-child::after {width: 0;}#sk-container-id-10 div.sk-dashed-wrapped {border: 1px dashed gray;margin: 0 0.4em 0.5em 0.4em;box-sizing: border-box;padding-bottom: 0.4em;background-color: white;}#sk-container-id-10 div.sk-label label {font-family: monospace;font-weight: bold;display: inline-block;line-height: 1.2em;}#sk-container-id-10 div.sk-label-container {text-align: center;}#sk-container-id-10 div.sk-container {/* jupyter's `normalize.less` sets `[hidden] { display: none; }` but bootstrap.min.css set `[hidden] { display: none !important; }` so we also need the `!important` here to be able to override the default hidden behavior on the sphinx rendered scikit-learn.org. See: https://github.com/scikit-learn/scikit-learn/issues/21755 */display: inline-block !important;position: relative;}#sk-container-id-10 div.sk-text-repr-fallback {display: none;}</style><div id=\"sk-container-id-10\" class=\"sk-top-container\"><div class=\"sk-text-repr-fallback\"><pre>LinearRegression()</pre><b>In a Jupyter environment, please rerun this cell to show the HTML representation or trust the notebook. <br />On GitHub, the HTML representation is unable to render, please try loading this page with nbviewer.org.</b></div><div class=\"sk-container\" hidden><div class=\"sk-item\"><div class=\"sk-estimator sk-toggleable\"><input class=\"sk-toggleable__control sk-hidden--visually\" id=\"sk-estimator-id-10\" type=\"checkbox\" checked><label for=\"sk-estimator-id-10\" class=\"sk-toggleable__label sk-toggleable__label-arrow\">LinearRegression</label><div class=\"sk-toggleable__content\"><pre>LinearRegression()</pre></div></div></div></div></div>"
      ],
      "text/plain": [
       "LinearRegression()"
      ]
     },
     "execution_count": 178,
     "metadata": {},
     "output_type": "execute_result"
    }
   ],
   "source": [
    "from sklearn.linear_model import LinearRegression\n",
    "lr = LinearRegression()\n",
    "lr.fit(X_train_scaled_poly, y_train)"
   ]
  },
  {
   "cell_type": "code",
   "execution_count": 179,
   "metadata": {},
   "outputs": [
    {
     "name": "stdout",
     "output_type": "stream",
     "text": [
      "train set\n",
      "MSE: 19.326, RMSE: 4.396, MAE: 3.103, R2: 0.773\n",
      "==================================================\n",
      "test set\n",
      "MSE: 31.278, RMSE: 5.593, MAE: 3.328, R2: 0.616\n"
     ]
    }
   ],
   "source": [
    "from metrics import print_metrics_regression as pmr\n",
    "\n",
    "trian_pred = lr.predict(X_train_scaled_poly)\n",
    "test_pred = lr.predict(X_test_scaled_poly)\n",
    "\n",
    "pmr(y_train, train_pred, 'train set')\n",
    "print('=' * 50)\n",
    "pmr(y_test, test_pred, 'test set')"
   ]
  },
  {
   "cell_type": "code",
   "execution_count": 180,
   "metadata": {
    "collapsed": true
   },
   "outputs": [
    {
     "ename": "SyntaxError",
     "evalue": "invalid syntax (2936093619.py, line 2)",
     "output_type": "error",
     "traceback": [
      "\u001b[0;36m  Cell \u001b[0;32mIn[180], line 2\u001b[0;36m\u001b[0m\n\u001b[0;31m    Train set\u001b[0m\n\u001b[0m          ^\u001b[0m\n\u001b[0;31mSyntaxError\u001b[0m\u001b[0;31m:\u001b[0m invalid syntax\n"
     ]
    }
   ],
   "source": [
    "# polynomial 변환 전\n",
    "Train set\n",
    "MSE: 19.326, RMSE: 4.396, MAE: 3.103, R2: 0.773\n",
    "==================================================\n",
    "Test set\n",
    "MSE: 33.449, RMSE: 5.784, MAE: 3.843, R2: 0.589"
   ]
  },
  {
   "cell_type": "markdown",
   "metadata": {},
   "source": [
    "전처리 - LR\n",
    "\n",
    "featur 적다 => 늘린다.\n",
    "Underfitiin => gene~~\n",
    "\n",
    "feature 너무 많다 => 줄인다.\n",
    "overfiting = gem"
   ]
  },
  {
   "cell_type": "markdown",
   "metadata": {
    "slideshow": {
     "slide_type": "slide"
    }
   },
   "source": [
    "##  <span style='background-color:#fff5b1'>규제 (Regularization)\n",
    "- 선형 회귀 모델에서  <span style='background-color:#fff5b1'>**과대적합(Overfitting)**</span> 문제를 해결하기 위해  <span style='background-color:#fff5b1'>**가중치(회귀계수)에 페널티**</span> 값을 적용한다.\n",
    "- 입력데이터의 Feature들이 너무 많은 경우 Overfitting이 발생.\n",
    "    - Feature수에 비해 관측치 수가 적은 경우 모델이 복잡해 지면서 Overfitting이 발생한다.\n",
    "- 해결\n",
    "    - 데이터를 더 수집한다. \n",
    "    - Feature selection\n",
    "        - 불필요한 Features들을 제거한다.\n",
    "    - 규제 (Regularization) 을 통해 Feature들에 곱해지는 가중치가 커지지 않도록 제한한다.(0에 가까운 값으로 만들어 준다.)\n",
    "        - LinearRegression의 규제는 학습시 계산하는 오차를 키워서 모델이 오차를 줄이기 위해 가중치를 0에 가까운 값으로 만들도록 하는 방식을 사용한다.\n",
    "        - L1 규제 (Lasso)\n",
    "        - L2 규제 (Ridge)\n",
    "    "
   ]
  },
  {
   "cell_type": "markdown",
   "metadata": {
    "slideshow": {
     "slide_type": "slide"
    }
   },
   "source": [
    "## <span style='background-color:#fff5b1'> Ridge Regression (L2 규제)\n",
    "- 손실함수(loss function)에 규제항으로 $\\alpha \\sum_{i=1}^{n}{w_{i}^{2}}$ (L2 Norm)을 더해준다.\n",
    "- $\\alpha$는 하이퍼파라미터로 모델을 얼마나 많이 규제할지 조절한다. \n",
    "    - $\\alpha = 0$ 에 가까울수록 규제가 약해진다. (0일 경우 선형 회귀동일)\n",
    "    - $\\alpha$ 가 커질 수록 모든 가중치가 작아져 입력데이터의 Feature들 중 중요하지 않은 Feature의 예측에 대한 영향력이 작아지게 된다.\n",
    "\n",
    "$$\n",
    "\\text{손실함수}(w) = \\text{MSE}(w) + \\alpha \\cfrac{1}{2}\\sum_{i=1}^{n}{w_{i}^{2}}\n",
    "$$\n",
    "\n",
    "> **손실함수(Loss Function):** 모델의 예측한 값과 실제값 사이의 차이를 정의하는 함수로 모델이 학습할 때 사용된다."
   ]
  },
  {
   "cell_type": "markdown",
   "metadata": {},
   "source": [
    "> - **MSE** : 평가함수(모델을 평가할때) 와 손실함수 일때, mse를 사용한다.\n",
    "> - feature 가 많을때 효과적으로 사용 가능.\n",
    ">-  가중치 제곱의 합을 구한다.\n",
    "> - 성능이 제일 잘 나온다."
   ]
  },
  {
   "cell_type": "code",
   "execution_count": 249,
   "metadata": {},
   "outputs": [],
   "source": [
    "ElasticNet?"
   ]
  },
  {
   "cell_type": "code",
   "execution_count": 183,
   "metadata": {},
   "outputs": [],
   "source": [
    "from sklearn.linear_model import Ridge, Lasso, ElasticNet"
   ]
  },
  {
   "cell_type": "markdown",
   "metadata": {},
   "source": [
    "> - alpha => 규제항의 값을 조정하는 하이퍼파라미터 기본값: 1 클수록 규제가 강해진다.\n",
    "> - overfitting 발생: alpha를 늘린다.(규제를 더 크게 잡아 단순화시켜준다.)\n",
    "> - underfitting 발생: alpha 를 줄인다.(weight가 커지기 떄문에 복잡화 해준다.)"
   ]
  },
  {
   "cell_type": "code",
   "execution_count": 187,
   "metadata": {},
   "outputs": [
    {
     "name": "stdout",
     "output_type": "stream",
     "text": [
      "alpha: 1\n",
      "MSE: 19.328, RMSE: 4.396, MAE: 3.100, R2: 0.773\n",
      "MSE: 33.554, RMSE: 5.793, MAE: 3.843, R2: 0.588\n"
     ]
    }
   ],
   "source": [
    "ridge = Ridge(random_state = 0)\n",
    "ridge.fit(X_train_scaled, y_train)\n",
    "train_pred = ridge.predict(X_train_scaled)\n",
    "test_pred = ridge.predict(X_test_scaled)\n",
    "print('alpha: 1')\n",
    "pmr(y_train, train_pred)\n",
    "pmr(y_test, test_pred)"
   ]
  },
  {
   "cell_type": "code",
   "execution_count": 185,
   "metadata": {},
   "outputs": [
    {
     "name": "stdout",
     "output_type": "stream",
     "text": [
      "alpha: 10\n",
      "MSE: 19.430, RMSE: 4.408, MAE: 3.085, R2: 0.772\n",
      "MSE: 34.416, RMSE: 5.866, MAE: 3.845, R2: 0.577\n"
     ]
    }
   ],
   "source": [
    "ridge = Ridge(random_state = 0, alpha = 10)\n",
    "ridge.fit(X_train_scaled, y_train)\n",
    "train_pred = ridge.predict(X_train_scaled)\n",
    "test_pred = ridge.predict(X_test_scaled)\n",
    "print('alpha: 10')\n",
    "pmr(y_train, train_pred)\n",
    "pmr(y_test, test_pred)"
   ]
  },
  {
   "cell_type": "code",
   "execution_count": 186,
   "metadata": {},
   "outputs": [
    {
     "name": "stdout",
     "output_type": "stream",
     "text": [
      "alpha: 100\n",
      "MSE: 21.415, RMSE: 4.628, MAE: 3.168, R2: 0.748\n",
      "MSE: 39.153, RMSE: 6.257, MAE: 4.044, R2: 0.519\n"
     ]
    }
   ],
   "source": [
    "ridge = Ridge(random_state = 0, alpha = 100)\n",
    "ridge.fit(X_train_scaled, y_train)\n",
    "train_pred = ridge.predict(X_train_scaled)\n",
    "test_pred = ridge.predict(X_test_scaled)\n",
    "print('alpha: 100')\n",
    "pmr(y_train, train_pred)\n",
    "pmr(y_test, test_pred)"
   ]
  },
  {
   "cell_type": "code",
   "execution_count": null,
   "metadata": {},
   "outputs": [],
   "source": []
  },
  {
   "cell_type": "code",
   "execution_count": null,
   "metadata": {},
   "outputs": [],
   "source": []
  },
  {
   "cell_type": "code",
   "execution_count": 188,
   "metadata": {},
   "outputs": [
    {
     "data": {
      "text/plain": [
       "array([-0.96394056,  1.04091153,  0.0153278 , -1.82079564,  2.5854553 ,\n",
       "       -0.09417906, -2.84976635,  2.04317876, -1.81321265, -2.28564476,\n",
       "        0.72030284, -3.57651111,  2.27129768])"
      ]
     },
     "execution_count": 188,
     "metadata": {},
     "output_type": "execute_result"
    }
   ],
   "source": [
    "ridge.coef_"
   ]
  },
  {
   "cell_type": "markdown",
   "metadata": {
    "slideshow": {
     "slide_type": "slide"
    }
   },
   "source": [
    "## 규제 alpha 에 따른 weight 변화"
   ]
  },
  {
   "cell_type": "code",
   "execution_count": 190,
   "metadata": {},
   "outputs": [],
   "source": [
    "alpha_list = [0.001, 0.01, 1, 10, 100, 500, 1000]\n",
    "coef_df = pd.DataFrame() # alpha별 각 feature에 곱할 weight들을 저장할 DataFrame.\n",
    "for idx, alpha in enumerate(alpha_list, start = 1):\n",
    "    \n",
    "    ridge = Ridge(alpha = alpha, random_state = 0)\n",
    "    ridge.fit(X_train_scaled, y_train)\n",
    "    \n",
    "    coef_s = pd.Series(ridge.coef_)\n",
    "    coef_df[f'alpha:{alpha}'] = coef_s"
   ]
  },
  {
   "cell_type": "code",
   "execution_count": 194,
   "metadata": {},
   "outputs": [
    {
     "data": {
      "text/html": [
       "<div>\n",
       "<style scoped>\n",
       "    .dataframe tbody tr th:only-of-type {\n",
       "        vertical-align: middle;\n",
       "    }\n",
       "\n",
       "    .dataframe tbody tr th {\n",
       "        vertical-align: top;\n",
       "    }\n",
       "\n",
       "    .dataframe thead th {\n",
       "        text-align: right;\n",
       "    }\n",
       "</style>\n",
       "<table border=\"1\" class=\"dataframe\">\n",
       "  <thead>\n",
       "    <tr style=\"text-align: right;\">\n",
       "      <th></th>\n",
       "      <th>alpha:0.001</th>\n",
       "      <th>alpha:0.01</th>\n",
       "      <th>alpha:1</th>\n",
       "      <th>alpha:10</th>\n",
       "      <th>alpha:100</th>\n",
       "      <th>alpha:500</th>\n",
       "      <th>alpha:1000</th>\n",
       "    </tr>\n",
       "  </thead>\n",
       "  <tbody>\n",
       "    <tr>\n",
       "      <th>0</th>\n",
       "      <td>-0.970813</td>\n",
       "      <td>-0.970750</td>\n",
       "      <td>-0.963941</td>\n",
       "      <td>-0.913628</td>\n",
       "      <td>-0.730491</td>\n",
       "      <td>-0.553225</td>\n",
       "      <td>-0.458642</td>\n",
       "    </tr>\n",
       "    <tr>\n",
       "      <th>1</th>\n",
       "      <td>1.057132</td>\n",
       "      <td>1.056982</td>\n",
       "      <td>1.040912</td>\n",
       "      <td>0.925262</td>\n",
       "      <td>0.594454</td>\n",
       "      <td>0.470234</td>\n",
       "      <td>0.413468</td>\n",
       "    </tr>\n",
       "    <tr>\n",
       "      <th>2</th>\n",
       "      <td>0.038287</td>\n",
       "      <td>0.038073</td>\n",
       "      <td>0.015328</td>\n",
       "      <td>-0.134694</td>\n",
       "      <td>-0.455731</td>\n",
       "      <td>-0.540009</td>\n",
       "      <td>-0.500884</td>\n",
       "    </tr>\n",
       "    <tr>\n",
       "      <th>3</th>\n",
       "      <td>-1.855113</td>\n",
       "      <td>-1.854797</td>\n",
       "      <td>-1.820796</td>\n",
       "      <td>-1.563287</td>\n",
       "      <td>-0.695337</td>\n",
       "      <td>-0.398986</td>\n",
       "      <td>-0.371470</td>\n",
       "    </tr>\n",
       "    <tr>\n",
       "      <th>4</th>\n",
       "      <td>2.573232</td>\n",
       "      <td>2.573346</td>\n",
       "      <td>2.585455</td>\n",
       "      <td>2.667242</td>\n",
       "      <td>2.679309</td>\n",
       "      <td>1.832447</td>\n",
       "      <td>1.304384</td>\n",
       "    </tr>\n",
       "    <tr>\n",
       "      <th>5</th>\n",
       "      <td>-0.087622</td>\n",
       "      <td>-0.087683</td>\n",
       "      <td>-0.094179</td>\n",
       "      <td>-0.139421</td>\n",
       "      <td>-0.246254</td>\n",
       "      <td>-0.307986</td>\n",
       "      <td>-0.317122</td>\n",
       "    </tr>\n",
       "    <tr>\n",
       "      <th>6</th>\n",
       "      <td>-2.880911</td>\n",
       "      <td>-2.880627</td>\n",
       "      <td>-2.849766</td>\n",
       "      <td>-2.599335</td>\n",
       "      <td>-1.420874</td>\n",
       "      <td>-0.373000</td>\n",
       "      <td>-0.085435</td>\n",
       "    </tr>\n",
       "    <tr>\n",
       "      <th>7</th>\n",
       "      <td>2.112174</td>\n",
       "      <td>2.111532</td>\n",
       "      <td>2.043179</td>\n",
       "      <td>1.574239</td>\n",
       "      <td>0.355633</td>\n",
       "      <td>-0.205155</td>\n",
       "      <td>-0.289031</td>\n",
       "    </tr>\n",
       "    <tr>\n",
       "      <th>8</th>\n",
       "      <td>-1.875267</td>\n",
       "      <td>-1.874687</td>\n",
       "      <td>-1.813213</td>\n",
       "      <td>-1.411243</td>\n",
       "      <td>-0.646447</td>\n",
       "      <td>-0.528550</td>\n",
       "      <td>-0.482927</td>\n",
       "    </tr>\n",
       "    <tr>\n",
       "      <th>9</th>\n",
       "      <td>-2.292760</td>\n",
       "      <td>-2.292695</td>\n",
       "      <td>-2.285645</td>\n",
       "      <td>-2.227769</td>\n",
       "      <td>-1.884899</td>\n",
       "      <td>-1.257527</td>\n",
       "      <td>-0.921966</td>\n",
       "    </tr>\n",
       "    <tr>\n",
       "      <th>10</th>\n",
       "      <td>0.718182</td>\n",
       "      <td>0.718201</td>\n",
       "      <td>0.720303</td>\n",
       "      <td>0.734618</td>\n",
       "      <td>0.727736</td>\n",
       "      <td>0.550035</td>\n",
       "      <td>0.436310</td>\n",
       "    </tr>\n",
       "    <tr>\n",
       "      <th>11</th>\n",
       "      <td>-3.592439</td>\n",
       "      <td>-3.592293</td>\n",
       "      <td>-3.576511</td>\n",
       "      <td>-3.447747</td>\n",
       "      <td>-2.723282</td>\n",
       "      <td>-1.666148</td>\n",
       "      <td>-1.200447</td>\n",
       "    </tr>\n",
       "    <tr>\n",
       "      <th>12</th>\n",
       "      <td>2.340732</td>\n",
       "      <td>2.340086</td>\n",
       "      <td>2.271298</td>\n",
       "      <td>1.800857</td>\n",
       "      <td>0.658395</td>\n",
       "      <td>0.219213</td>\n",
       "      <td>0.127925</td>\n",
       "    </tr>\n",
       "  </tbody>\n",
       "</table>\n",
       "</div>"
      ],
      "text/plain": [
       "    alpha:0.001  alpha:0.01   alpha:1  alpha:10  alpha:100  alpha:500  \\\n",
       "0     -0.970813   -0.970750 -0.963941 -0.913628  -0.730491  -0.553225   \n",
       "1      1.057132    1.056982  1.040912  0.925262   0.594454   0.470234   \n",
       "2      0.038287    0.038073  0.015328 -0.134694  -0.455731  -0.540009   \n",
       "3     -1.855113   -1.854797 -1.820796 -1.563287  -0.695337  -0.398986   \n",
       "4      2.573232    2.573346  2.585455  2.667242   2.679309   1.832447   \n",
       "5     -0.087622   -0.087683 -0.094179 -0.139421  -0.246254  -0.307986   \n",
       "6     -2.880911   -2.880627 -2.849766 -2.599335  -1.420874  -0.373000   \n",
       "7      2.112174    2.111532  2.043179  1.574239   0.355633  -0.205155   \n",
       "8     -1.875267   -1.874687 -1.813213 -1.411243  -0.646447  -0.528550   \n",
       "9     -2.292760   -2.292695 -2.285645 -2.227769  -1.884899  -1.257527   \n",
       "10     0.718182    0.718201  0.720303  0.734618   0.727736   0.550035   \n",
       "11    -3.592439   -3.592293 -3.576511 -3.447747  -2.723282  -1.666148   \n",
       "12     2.340732    2.340086  2.271298  1.800857   0.658395   0.219213   \n",
       "\n",
       "    alpha:1000  \n",
       "0    -0.458642  \n",
       "1     0.413468  \n",
       "2    -0.500884  \n",
       "3    -0.371470  \n",
       "4     1.304384  \n",
       "5    -0.317122  \n",
       "6    -0.085435  \n",
       "7    -0.289031  \n",
       "8    -0.482927  \n",
       "9    -0.921966  \n",
       "10    0.436310  \n",
       "11   -1.200447  \n",
       "12    0.127925  "
      ]
     },
     "execution_count": 194,
     "metadata": {},
     "output_type": "execute_result"
    }
   ],
   "source": [
    "coef_df"
   ]
  },
  {
   "cell_type": "code",
   "execution_count": null,
   "metadata": {},
   "outputs": [],
   "source": []
  },
  {
   "cell_type": "code",
   "execution_count": null,
   "metadata": {},
   "outputs": [],
   "source": []
  },
  {
   "cell_type": "code",
   "execution_count": null,
   "metadata": {},
   "outputs": [],
   "source": []
  },
  {
   "cell_type": "markdown",
   "metadata": {
    "slideshow": {
     "slide_type": "slide"
    }
   },
   "source": [
    "## <span style='background-color:#fff5b1'>Lasso(Least Absolut Shrinkage and Selection Operator) Regression (L1 규제)\n",
    "\n",
    "- 손실함수에 규제항으로 $\\alpha \\sum_{i=1}^{n}{\\left| w_i \\right|}$ (L1 Norm)더한다.\n",
    "- Lasso 회귀의 상대적으로 덜 중요한 특성의 가중치를 0으로 만들어 자동으로 Feature Selection이 된다.\n",
    "\n",
    "$$\n",
    "\\text{손실함수}(w) = \\text{MSE}(w) + \\alpha \\sum_{i=1}^{n}{\\left| w_i \\right|}\n",
    "$$"
   ]
  },
  {
   "cell_type": "markdown",
   "metadata": {},
   "source": [
    "> - 절댓값의 합을 구한다.\n",
    "> - a(알파)는 규제항(Hyper Parameter) 이다.\n",
    "> - overfiting 이 발생했다. => <span style='background-color:#fff5b1'>**알파 값을 더 크게 잡는다.**</span>\n",
    "> - 반대로 underfiting 이 발생했다. => <span style='background-color:#fff5b1'>**알파 값을 더 작게 잡는다.**(규제 값을 작게 잡아준다.)</span>"
   ]
  },
  {
   "cell_type": "code",
   "execution_count": 198,
   "metadata": {},
   "outputs": [
    {
     "data": {
      "text/plain": [
       "array([-0.,  0., -0., -0.,  0., -0.,  0., -0., -0., -0.,  0., -0.,  0.])"
      ]
     },
     "execution_count": 198,
     "metadata": {},
     "output_type": "execute_result"
    }
   ],
   "source": [
    "lasso.coef_"
   ]
  },
  {
   "cell_type": "code",
   "execution_count": 197,
   "metadata": {},
   "outputs": [],
   "source": [
    "alpha_list = [0.001, 0.01, 0.1, 1, 5, 10]\n",
    "coef_df2 = pd.DataFrame()\n",
    "for alpha in alpha_list:\n",
    "    \n",
    "    lasso = Lasso(alpha = alpha, random_state= 0)\n",
    "    lasso.fit(X_train_scaled, y_train)\n",
    "    \n",
    "    coef_df2[f'alpha:{alpha}'] = lasso.coef_"
   ]
  },
  {
   "cell_type": "code",
   "execution_count": 200,
   "metadata": {},
   "outputs": [
    {
     "data": {
      "text/html": [
       "<div>\n",
       "<style scoped>\n",
       "    .dataframe tbody tr th:only-of-type {\n",
       "        vertical-align: middle;\n",
       "    }\n",
       "\n",
       "    .dataframe tbody tr th {\n",
       "        vertical-align: top;\n",
       "    }\n",
       "\n",
       "    .dataframe thead th {\n",
       "        text-align: right;\n",
       "    }\n",
       "</style>\n",
       "<table border=\"1\" class=\"dataframe\">\n",
       "  <thead>\n",
       "    <tr style=\"text-align: right;\">\n",
       "      <th></th>\n",
       "      <th>alpha:0.001</th>\n",
       "      <th>alpha:0.01</th>\n",
       "      <th>alpha:0.1</th>\n",
       "      <th>alpha:1</th>\n",
       "      <th>alpha:5</th>\n",
       "      <th>alpha:10</th>\n",
       "    </tr>\n",
       "  </thead>\n",
       "  <tbody>\n",
       "    <tr>\n",
       "      <th>0</th>\n",
       "      <td>-0.968120</td>\n",
       "      <td>-0.943088</td>\n",
       "      <td>-0.688115</td>\n",
       "      <td>-0.000000</td>\n",
       "      <td>-0.000000</td>\n",
       "      <td>-0.0</td>\n",
       "    </tr>\n",
       "    <tr>\n",
       "      <th>1</th>\n",
       "      <td>1.053243</td>\n",
       "      <td>1.021554</td>\n",
       "      <td>0.700532</td>\n",
       "      <td>0.000000</td>\n",
       "      <td>0.000000</td>\n",
       "      <td>0.0</td>\n",
       "    </tr>\n",
       "    <tr>\n",
       "      <th>2</th>\n",
       "      <td>0.029105</td>\n",
       "      <td>-0.000000</td>\n",
       "      <td>-0.077649</td>\n",
       "      <td>-0.000000</td>\n",
       "      <td>-0.000000</td>\n",
       "      <td>-0.0</td>\n",
       "    </tr>\n",
       "    <tr>\n",
       "      <th>3</th>\n",
       "      <td>-1.848308</td>\n",
       "      <td>-1.803915</td>\n",
       "      <td>-1.363690</td>\n",
       "      <td>-0.000000</td>\n",
       "      <td>-0.000000</td>\n",
       "      <td>-0.0</td>\n",
       "    </tr>\n",
       "    <tr>\n",
       "      <th>4</th>\n",
       "      <td>2.574250</td>\n",
       "      <td>2.587199</td>\n",
       "      <td>2.748663</td>\n",
       "      <td>2.540098</td>\n",
       "      <td>0.458712</td>\n",
       "      <td>0.0</td>\n",
       "    </tr>\n",
       "    <tr>\n",
       "      <th>5</th>\n",
       "      <td>-0.085672</td>\n",
       "      <td>-0.067933</td>\n",
       "      <td>-0.000000</td>\n",
       "      <td>-0.000000</td>\n",
       "      <td>-0.000000</td>\n",
       "      <td>-0.0</td>\n",
       "    </tr>\n",
       "    <tr>\n",
       "      <th>6</th>\n",
       "      <td>-2.875215</td>\n",
       "      <td>-2.812970</td>\n",
       "      <td>-2.166935</td>\n",
       "      <td>-0.000000</td>\n",
       "      <td>0.000000</td>\n",
       "      <td>0.0</td>\n",
       "    </tr>\n",
       "    <tr>\n",
       "      <th>7</th>\n",
       "      <td>2.094988</td>\n",
       "      <td>1.965025</td>\n",
       "      <td>0.741474</td>\n",
       "      <td>-0.000000</td>\n",
       "      <td>-0.000000</td>\n",
       "      <td>-0.0</td>\n",
       "    </tr>\n",
       "    <tr>\n",
       "      <th>8</th>\n",
       "      <td>-1.858605</td>\n",
       "      <td>-1.745788</td>\n",
       "      <td>-0.763099</td>\n",
       "      <td>-0.171527</td>\n",
       "      <td>-0.000000</td>\n",
       "      <td>-0.0</td>\n",
       "    </tr>\n",
       "    <tr>\n",
       "      <th>9</th>\n",
       "      <td>-2.291054</td>\n",
       "      <td>-2.281845</td>\n",
       "      <td>-2.206804</td>\n",
       "      <td>-1.784796</td>\n",
       "      <td>-0.000000</td>\n",
       "      <td>-0.0</td>\n",
       "    </tr>\n",
       "    <tr>\n",
       "      <th>10</th>\n",
       "      <td>0.717081</td>\n",
       "      <td>0.708242</td>\n",
       "      <td>0.632133</td>\n",
       "      <td>0.110959</td>\n",
       "      <td>0.000000</td>\n",
       "      <td>0.0</td>\n",
       "    </tr>\n",
       "    <tr>\n",
       "      <th>11</th>\n",
       "      <td>-3.592605</td>\n",
       "      <td>-3.596720</td>\n",
       "      <td>-3.616856</td>\n",
       "      <td>-3.585325</td>\n",
       "      <td>-1.688331</td>\n",
       "      <td>-0.0</td>\n",
       "    </tr>\n",
       "    <tr>\n",
       "      <th>12</th>\n",
       "      <td>2.329756</td>\n",
       "      <td>2.220402</td>\n",
       "      <td>1.094486</td>\n",
       "      <td>0.000000</td>\n",
       "      <td>0.000000</td>\n",
       "      <td>0.0</td>\n",
       "    </tr>\n",
       "  </tbody>\n",
       "</table>\n",
       "</div>"
      ],
      "text/plain": [
       "    alpha:0.001  alpha:0.01  alpha:0.1   alpha:1   alpha:5  alpha:10\n",
       "0     -0.968120   -0.943088  -0.688115 -0.000000 -0.000000      -0.0\n",
       "1      1.053243    1.021554   0.700532  0.000000  0.000000       0.0\n",
       "2      0.029105   -0.000000  -0.077649 -0.000000 -0.000000      -0.0\n",
       "3     -1.848308   -1.803915  -1.363690 -0.000000 -0.000000      -0.0\n",
       "4      2.574250    2.587199   2.748663  2.540098  0.458712       0.0\n",
       "5     -0.085672   -0.067933  -0.000000 -0.000000 -0.000000      -0.0\n",
       "6     -2.875215   -2.812970  -2.166935 -0.000000  0.000000       0.0\n",
       "7      2.094988    1.965025   0.741474 -0.000000 -0.000000      -0.0\n",
       "8     -1.858605   -1.745788  -0.763099 -0.171527 -0.000000      -0.0\n",
       "9     -2.291054   -2.281845  -2.206804 -1.784796 -0.000000      -0.0\n",
       "10     0.717081    0.708242   0.632133  0.110959  0.000000       0.0\n",
       "11    -3.592605   -3.596720  -3.616856 -3.585325 -1.688331      -0.0\n",
       "12     2.329756    2.220402   1.094486  0.000000  0.000000       0.0"
      ]
     },
     "execution_count": 200,
     "metadata": {},
     "output_type": "execute_result"
    }
   ],
   "source": [
    "coef_df2"
   ]
  },
  {
   "cell_type": "markdown",
   "metadata": {},
   "source": [
    "### PolynormialFeatures로 전처리한 Boston Dataset 에 Ridge, Lasso 규제 적용"
   ]
  },
  {
   "cell_type": "code",
   "execution_count": 201,
   "metadata": {},
   "outputs": [
    {
     "data": {
      "text/plain": [
       "(404, 104)"
      ]
     },
     "execution_count": 201,
     "metadata": {},
     "output_type": "execute_result"
    }
   ],
   "source": [
    "X_train_scaled_poly.shape"
   ]
  },
  {
   "cell_type": "markdown",
   "metadata": {
    "slideshow": {
     "slide_type": "fragment"
    }
   },
   "source": [
    "##### LinearRegression으로 평가"
   ]
  },
  {
   "cell_type": "code",
   "execution_count": 233,
   "metadata": {},
   "outputs": [
    {
     "name": "stdout",
     "output_type": "stream",
     "text": [
      "LinearRegressor: Train set\n",
      "MSE: 4.340, RMSE: 2.083, MAE: 1.617, R2: 0.949\n",
      "LinearRegressor: Test set\n",
      "MSE: 31.278, RMSE: 5.593, MAE: 3.328, R2: 0.616\n"
     ]
    }
   ],
   "source": [
    "from sklearn.linear_model import LinearRegression, Ridge, Lasso\n",
    "lr = LinearRegression()\n",
    "lr.fit(X_train_scaled_poly, y_train)\n",
    "pmr(y_train, lr.predict(X_train_scaled_poly), 'LinearRegressor: Train set')\n",
    "pmr(y_test, lr.predict(X_test_scaled_poly), 'LinearRegressor: Test set')"
   ]
  },
  {
   "cell_type": "markdown",
   "metadata": {
    "slideshow": {
     "slide_type": "fragment"
    }
   },
   "source": [
    "##### Ridge 의 alpha값 변화에 따른 R square 확인"
   ]
  },
  {
   "cell_type": "code",
   "execution_count": 234,
   "metadata": {},
   "outputs": [
    {
     "name": "stdout",
     "output_type": "stream",
     "text": [
      "-------------------(alpha: 0.001)------------------\n",
      "MSE: 4.346, RMSE: 2.085, MAE: 1.618, R2: 0.949\n",
      "MSE: 30.982, RMSE: 5.566, MAE: 3.316, R2: 0.620\n",
      "-------------------(alpha: 0.01)------------------\n",
      "MSE: 4.365, RMSE: 2.089, MAE: 1.622, R2: 0.949\n",
      "MSE: 30.209, RMSE: 5.496, MAE: 3.292, R2: 0.629\n",
      "-------------------(alpha: 1)------------------\n",
      "MSE: 4.785, RMSE: 2.187, MAE: 1.674, R2: 0.944\n",
      "MSE: 19.273, RMSE: 4.390, MAE: 3.004, R2: 0.763\n",
      "-------------------(alpha: 10)------------------\n",
      "MSE: 5.738, RMSE: 2.395, MAE: 1.775, R2: 0.933\n",
      "MSE: 19.074, RMSE: 4.367, MAE: 2.880, R2: 0.766\n",
      "-------------------(alpha: 100)------------------\n",
      "MSE: 8.970, RMSE: 2.995, MAE: 2.070, R2: 0.895\n",
      "MSE: 23.437, RMSE: 4.841, MAE: 2.929, R2: 0.712\n",
      "-------------------(alpha: 500)------------------\n",
      "MSE: 16.921, RMSE: 4.113, MAE: 2.765, R2: 0.801\n",
      "MSE: 32.884, RMSE: 5.734, MAE: 3.641, R2: 0.596\n",
      "-------------------(alpha: 1000)------------------\n",
      "MSE: 22.867, RMSE: 4.782, MAE: 3.293, R2: 0.731\n",
      "MSE: 38.877, RMSE: 6.235, MAE: 4.106, R2: 0.523\n"
     ]
    }
   ],
   "source": [
    "from sklearn.metrics import r2_score\n",
    "alpha_list = [0.001, 0.01, 1, 10, 100, 500, 1000]\n",
    "train_r2_list = []\n",
    "test_r2_list = []\n",
    "for alpha in alpha_list:\n",
    "    \n",
    "    ridge = Ridge(alpha = alpha, random_state = 0)\n",
    "    ridge.fit(X_train_scaled_poly, y_train)\n",
    "    train_pred3 = ridge.predict(X_train_scaled_poly)\n",
    "    test_pred3 = ridge.predict(X_test_scaled_poly)\n",
    "    print(f'-------------------(alpha: {alpha})------------------')\n",
    "    pmr(y_train, train_pred3)\n",
    "    pmr(y_test, test_pred3)\n",
    "    train_r2_list.append(r2_score(y_train, train_pred3))\n",
    "    test_r2_list.append(r2_score(y_test, test_pred3))"
   ]
  },
  {
   "cell_type": "code",
   "execution_count": 235,
   "metadata": {},
   "outputs": [
    {
     "data": {
      "text/html": [
       "<div>\n",
       "<style scoped>\n",
       "    .dataframe tbody tr th:only-of-type {\n",
       "        vertical-align: middle;\n",
       "    }\n",
       "\n",
       "    .dataframe tbody tr th {\n",
       "        vertical-align: top;\n",
       "    }\n",
       "\n",
       "    .dataframe thead th {\n",
       "        text-align: right;\n",
       "    }\n",
       "</style>\n",
       "<table border=\"1\" class=\"dataframe\">\n",
       "  <thead>\n",
       "    <tr style=\"text-align: right;\">\n",
       "      <th></th>\n",
       "      <th>train</th>\n",
       "      <th>test</th>\n",
       "    </tr>\n",
       "  </thead>\n",
       "  <tbody>\n",
       "    <tr>\n",
       "      <th>0.001</th>\n",
       "      <td>0.948953</td>\n",
       "      <td>0.619516</td>\n",
       "    </tr>\n",
       "    <tr>\n",
       "      <th>0.010</th>\n",
       "      <td>0.948736</td>\n",
       "      <td>0.629007</td>\n",
       "    </tr>\n",
       "    <tr>\n",
       "      <th>1.000</th>\n",
       "      <td>0.943805</td>\n",
       "      <td>0.763316</td>\n",
       "    </tr>\n",
       "    <tr>\n",
       "      <th>10.000</th>\n",
       "      <td>0.932608</td>\n",
       "      <td>0.765755</td>\n",
       "    </tr>\n",
       "    <tr>\n",
       "      <th>100.000</th>\n",
       "      <td>0.894646</td>\n",
       "      <td>0.712174</td>\n",
       "    </tr>\n",
       "    <tr>\n",
       "      <th>500.000</th>\n",
       "      <td>0.801270</td>\n",
       "      <td>0.596159</td>\n",
       "    </tr>\n",
       "    <tr>\n",
       "      <th>1000.000</th>\n",
       "      <td>0.731429</td>\n",
       "      <td>0.522564</td>\n",
       "    </tr>\n",
       "  </tbody>\n",
       "</table>\n",
       "</div>"
      ],
      "text/plain": [
       "             train      test\n",
       "0.001     0.948953  0.619516\n",
       "0.010     0.948736  0.629007\n",
       "1.000     0.943805  0.763316\n",
       "10.000    0.932608  0.765755\n",
       "100.000   0.894646  0.712174\n",
       "500.000   0.801270  0.596159\n",
       "1000.000  0.731429  0.522564"
      ]
     },
     "execution_count": 235,
     "metadata": {},
     "output_type": "execute_result"
    }
   ],
   "source": [
    "result = pd.DataFrame({'train': train_r2_list, 'test': test_r2_list}, index = alpha_list)\n",
    "result"
   ]
  },
  {
   "cell_type": "code",
   "execution_count": 236,
   "metadata": {},
   "outputs": [
    {
     "data": {
      "image/png": "[encoded data removed]",
      "text/plain": [
       "<Figure size 640x480 with 1 Axes>"
      ]
     },
     "metadata": {},
     "output_type": "display_data"
    }
   ],
   "source": [
    "plt.plot(np.log(result.index), result.train, label = 'train')\n",
    "plt.plot(np.log(result.index), result.test, label = 'test')\n",
    "plt.legend()\n",
    "plt.show()"
   ]
  },
  {
   "cell_type": "markdown",
   "metadata": {
    "slideshow": {
     "slide_type": "slide"
    }
   },
   "source": [
    "##### lasso 의 alpha값 변화에 따른 R square 확인"
   ]
  },
  {
   "cell_type": "code",
   "execution_count": 237,
   "metadata": {},
   "outputs": [
    {
     "name": "stdout",
     "output_type": "stream",
     "text": [
      "-------------------------alpha: 0.001-------------------\n",
      "MSE: 4.460, RMSE: 2.112, MAE: 1.636, R2: 0.948\n",
      "MSE: 27.735, RMSE: 5.266, MAE: 3.199, R2: 0.659\n",
      "-------------------------alpha: 0.01-------------------\n",
      "MSE: 5.150, RMSE: 2.269, MAE: 1.722, R2: 0.940\n",
      "MSE: 19.058, RMSE: 4.366, MAE: 2.961, R2: 0.766\n",
      "-------------------------alpha: 0.1-------------------\n",
      "MSE: 8.302, RMSE: 2.881, MAE: 2.078, R2: 0.902\n",
      "MSE: 22.393, RMSE: 4.732, MAE: 2.827, R2: 0.725\n",
      "-------------------------alpha: 1-------------------\n",
      "MSE: 17.228, RMSE: 4.151, MAE: 2.876, R2: 0.798\n",
      "MSE: 28.936, RMSE: 5.379, MAE: 3.394, R2: 0.645\n",
      "-------------------------alpha: 5-------------------\n",
      "MSE: 54.732, RMSE: 7.398, MAE: 5.382, R2: 0.357\n",
      "MSE: 55.210, RMSE: 7.430, MAE: 5.009, R2: 0.322\n",
      "-------------------------alpha: 10-------------------\n",
      "MSE: 84.427, RMSE: 9.188, MAE: 6.742, R2: 0.008\n",
      "MSE: 80.566, RMSE: 8.976, MAE: 6.212, R2: 0.011\n"
     ]
    },
    {
     "name": "stderr",
     "output_type": "stream",
     "text": [
      "/Users/seokminlee/opt/anaconda3/envs/ml/lib/python3.9/site-packages/sklearn/linear_model/_coordinate_descent.py:631: ConvergenceWarning: Objective did not converge. You might want to increase the number of iterations, check the scale of the features or consider increasing regularisation. Duality gap: 7.014e+02, tolerance: 3.440e+00\n",
      "  model = cd_fast.enet_coordinate_descent(\n",
      "/Users/seokminlee/opt/anaconda3/envs/ml/lib/python3.9/site-packages/sklearn/linear_model/_coordinate_descent.py:631: ConvergenceWarning: Objective did not converge. You might want to increase the number of iterations, check the scale of the features or consider increasing regularisation. Duality gap: 7.323e+00, tolerance: 3.440e+00\n",
      "  model = cd_fast.enet_coordinate_descent(\n"
     ]
    }
   ],
   "source": [
    "alpha_list = [0.001, 0.01, 0.1, 1, 5, 10]\n",
    "\n",
    "train_r2_list_lasso = []\n",
    "test_r2_list_lasso = []\n",
    "\n",
    "for alpha in alpha_list:\n",
    "    lasso = Lasso(alpha = alpha, random_state= 0)\n",
    "    lasso.fit(X_train_scaled_poly, y_train)\n",
    "    \n",
    "    train_pred4 = lasso.predict(X_train_scaled_poly)\n",
    "    test_pred4 = lasso.predict(X_test_scaled_poly)\n",
    "    \n",
    "    print(f'-------------------------alpha: {alpha}-------------------')\n",
    "    pmr(y_train, train_pred4)\n",
    "    pmr(y_test, test_pred4)\n",
    "    \n",
    "    train_r2_list_lasso.append(r2_score(y_train, train_pred4))\n",
    "    test_r2_list_lasso.append(r2_score(y_test, test_pred4))"
   ]
  },
  {
   "cell_type": "code",
   "execution_count": 238,
   "metadata": {},
   "outputs": [
    {
     "data": {
      "text/html": [
       "<div>\n",
       "<style scoped>\n",
       "    .dataframe tbody tr th:only-of-type {\n",
       "        vertical-align: middle;\n",
       "    }\n",
       "\n",
       "    .dataframe tbody tr th {\n",
       "        vertical-align: top;\n",
       "    }\n",
       "\n",
       "    .dataframe thead th {\n",
       "        text-align: right;\n",
       "    }\n",
       "</style>\n",
       "<table border=\"1\" class=\"dataframe\">\n",
       "  <thead>\n",
       "    <tr style=\"text-align: right;\">\n",
       "      <th></th>\n",
       "      <th>train</th>\n",
       "      <th>test</th>\n",
       "    </tr>\n",
       "  </thead>\n",
       "  <tbody>\n",
       "    <tr>\n",
       "      <th>0.001</th>\n",
       "      <td>0.947619</td>\n",
       "      <td>0.659395</td>\n",
       "    </tr>\n",
       "    <tr>\n",
       "      <th>0.010</th>\n",
       "      <td>0.939512</td>\n",
       "      <td>0.765954</td>\n",
       "    </tr>\n",
       "    <tr>\n",
       "      <th>0.100</th>\n",
       "      <td>0.902491</td>\n",
       "      <td>0.724998</td>\n",
       "    </tr>\n",
       "    <tr>\n",
       "      <th>1.000</th>\n",
       "      <td>0.797664</td>\n",
       "      <td>0.644639</td>\n",
       "    </tr>\n",
       "    <tr>\n",
       "      <th>5.000</th>\n",
       "      <td>0.357183</td>\n",
       "      <td>0.321981</td>\n",
       "    </tr>\n",
       "    <tr>\n",
       "      <th>10.000</th>\n",
       "      <td>0.008417</td>\n",
       "      <td>0.010590</td>\n",
       "    </tr>\n",
       "  </tbody>\n",
       "</table>\n",
       "</div>"
      ],
      "text/plain": [
       "           train      test\n",
       "0.001   0.947619  0.659395\n",
       "0.010   0.939512  0.765954\n",
       "0.100   0.902491  0.724998\n",
       "1.000   0.797664  0.644639\n",
       "5.000   0.357183  0.321981\n",
       "10.000  0.008417  0.010590"
      ]
     },
     "execution_count": 238,
     "metadata": {},
     "output_type": "execute_result"
    }
   ],
   "source": [
    "result = pd.DataFrame({'train': train_r2_list_lasso, 'test': test_r2_list_lasso}, index = alpha_list)\n",
    "result"
   ]
  },
  {
   "cell_type": "code",
   "execution_count": 239,
   "metadata": {},
   "outputs": [
    {
     "data": {
      "image/png": "[encoded data removed]",
      "text/plain": [
       "<Figure size 640x480 with 1 Axes>"
      ]
     },
     "metadata": {},
     "output_type": "display_data"
    }
   ],
   "source": [
    "plt.plot(np.log(result.index), result.train, label = 'train')\n",
    "plt.plot(np.log(result.index), result.test, label = 'test')\n",
    "plt.legend()\n",
    "plt.show()"
   ]
  },
  {
   "cell_type": "markdown",
   "metadata": {
    "slideshow": {
     "slide_type": "slide"
    }
   },
   "source": [
    "## <span style='background-color:#fff5b1'>ElasticNet(엘라스틱넷)\n",
    "- <span style='background-color:#fff5b1'>릿지와 라쏘를 절충한 모델.</span>\n",
    "- 규제항에 릿지, 라쏘 규제항을 더해서 추가한다. \n",
    "- <span style='background-color:#fff5b1'>혼합비율 $r$을 사용해 혼합정도를 조절</span>\n",
    "- <span style='background-color:#fff5b1'>**$r=0$이면 릿지**</span>와 같고 <span style='background-color:#fff5b1'>**$r=1$이면 라쏘**</span>와 같다.\n",
    "\n",
    "$$\n",
    "\\text{손실함수}(w) = \\text{MSE}(w) + r\\alpha \\sum_{i=1}^{n}{\\left| w_i \\right|}  + \\cfrac{1-r}{2}\\alpha\\sum_{i=1}^{n}{w_{i}^{2}}\n",
    "$$"
   ]
  },
  {
   "cell_type": "code",
   "execution_count": 242,
   "metadata": {},
   "outputs": [
    {
     "data": {
      "text/html": [
       "<style>#sk-container-id-13 {color: black;background-color: white;}#sk-container-id-13 pre{padding: 0;}#sk-container-id-13 div.sk-toggleable {background-color: white;}#sk-container-id-13 label.sk-toggleable__label {cursor: pointer;display: block;width: 100%;margin-bottom: 0;padding: 0.3em;box-sizing: border-box;text-align: center;}#sk-container-id-13 label.sk-toggleable__label-arrow:before {content: \"▸\";float: left;margin-right: 0.25em;color: #696969;}#sk-container-id-13 label.sk-toggleable__label-arrow:hover:before {color: black;}#sk-container-id-13 div.sk-estimator:hover label.sk-toggleable__label-arrow:before {color: black;}#sk-container-id-13 div.sk-toggleable__content {max-height: 0;max-width: 0;overflow: hidden;text-align: left;background-color: #f0f8ff;}#sk-container-id-13 div.sk-toggleable__content pre {margin: 0.2em;color: black;border-radius: 0.25em;background-color: #f0f8ff;}#sk-container-id-13 input.sk-toggleable__control:checked~div.sk-toggleable__content {max-height: 200px;max-width: 100%;overflow: auto;}#sk-container-id-13 input.sk-toggleable__control:checked~label.sk-toggleable__label-arrow:before {content: \"▾\";}#sk-container-id-13 div.sk-estimator input.sk-toggleable__control:checked~label.sk-toggleable__label {background-color: #d4ebff;}#sk-container-id-13 div.sk-label input.sk-toggleable__control:checked~label.sk-toggleable__label {background-color: #d4ebff;}#sk-container-id-13 input.sk-hidden--visually {border: 0;clip: rect(1px 1px 1px 1px);clip: rect(1px, 1px, 1px, 1px);height: 1px;margin: -1px;overflow: hidden;padding: 0;position: absolute;width: 1px;}#sk-container-id-13 div.sk-estimator {font-family: monospace;background-color: #f0f8ff;border: 1px dotted black;border-radius: 0.25em;box-sizing: border-box;margin-bottom: 0.5em;}#sk-container-id-13 div.sk-estimator:hover {background-color: #d4ebff;}#sk-container-id-13 div.sk-parallel-item::after {content: \"\";width: 100%;border-bottom: 1px solid gray;flex-grow: 1;}#sk-container-id-13 div.sk-label:hover label.sk-toggleable__label {background-color: #d4ebff;}#sk-container-id-13 div.sk-serial::before {content: \"\";position: absolute;border-left: 1px solid gray;box-sizing: border-box;top: 0;bottom: 0;left: 50%;z-index: 0;}#sk-container-id-13 div.sk-serial {display: flex;flex-direction: column;align-items: center;background-color: white;padding-right: 0.2em;padding-left: 0.2em;position: relative;}#sk-container-id-13 div.sk-item {position: relative;z-index: 1;}#sk-container-id-13 div.sk-parallel {display: flex;align-items: stretch;justify-content: center;background-color: white;position: relative;}#sk-container-id-13 div.sk-item::before, #sk-container-id-13 div.sk-parallel-item::before {content: \"\";position: absolute;border-left: 1px solid gray;box-sizing: border-box;top: 0;bottom: 0;left: 50%;z-index: -1;}#sk-container-id-13 div.sk-parallel-item {display: flex;flex-direction: column;z-index: 1;position: relative;background-color: white;}#sk-container-id-13 div.sk-parallel-item:first-child::after {align-self: flex-end;width: 50%;}#sk-container-id-13 div.sk-parallel-item:last-child::after {align-self: flex-start;width: 50%;}#sk-container-id-13 div.sk-parallel-item:only-child::after {width: 0;}#sk-container-id-13 div.sk-dashed-wrapped {border: 1px dashed gray;margin: 0 0.4em 0.5em 0.4em;box-sizing: border-box;padding-bottom: 0.4em;background-color: white;}#sk-container-id-13 div.sk-label label {font-family: monospace;font-weight: bold;display: inline-block;line-height: 1.2em;}#sk-container-id-13 div.sk-label-container {text-align: center;}#sk-container-id-13 div.sk-container {/* jupyter's `normalize.less` sets `[hidden] { display: none; }` but bootstrap.min.css set `[hidden] { display: none !important; }` so we also need the `!important` here to be able to override the default hidden behavior on the sphinx rendered scikit-learn.org. See: https://github.com/scikit-learn/scikit-learn/issues/21755 */display: inline-block !important;position: relative;}#sk-container-id-13 div.sk-text-repr-fallback {display: none;}</style><div id=\"sk-container-id-13\" class=\"sk-top-container\"><div class=\"sk-text-repr-fallback\"><pre>GridSearchCV(cv=4, estimator=ElasticNet(random_state=0), n_jobs=-1,\n",
       "             param_grid={&#x27;alpha&#x27;: [0.1, 1, 10, 50, 100, 500],\n",
       "                         &#x27;l1_ratio&#x27;: [0.1, 0.2, 0.3, 0.4, 0.5, 0.6, 0.7, 0.8,\n",
       "                                      0.9]},\n",
       "             scoring=&#x27;r2&#x27;)</pre><b>In a Jupyter environment, please rerun this cell to show the HTML representation or trust the notebook. <br />On GitHub, the HTML representation is unable to render, please try loading this page with nbviewer.org.</b></div><div class=\"sk-container\" hidden><div class=\"sk-item sk-dashed-wrapped\"><div class=\"sk-label-container\"><div class=\"sk-label sk-toggleable\"><input class=\"sk-toggleable__control sk-hidden--visually\" id=\"sk-estimator-id-15\" type=\"checkbox\" ><label for=\"sk-estimator-id-15\" class=\"sk-toggleable__label sk-toggleable__label-arrow\">GridSearchCV</label><div class=\"sk-toggleable__content\"><pre>GridSearchCV(cv=4, estimator=ElasticNet(random_state=0), n_jobs=-1,\n",
       "             param_grid={&#x27;alpha&#x27;: [0.1, 1, 10, 50, 100, 500],\n",
       "                         &#x27;l1_ratio&#x27;: [0.1, 0.2, 0.3, 0.4, 0.5, 0.6, 0.7, 0.8,\n",
       "                                      0.9]},\n",
       "             scoring=&#x27;r2&#x27;)</pre></div></div></div><div class=\"sk-parallel\"><div class=\"sk-parallel-item\"><div class=\"sk-item\"><div class=\"sk-label-container\"><div class=\"sk-label sk-toggleable\"><input class=\"sk-toggleable__control sk-hidden--visually\" id=\"sk-estimator-id-16\" type=\"checkbox\" ><label for=\"sk-estimator-id-16\" class=\"sk-toggleable__label sk-toggleable__label-arrow\">estimator: ElasticNet</label><div class=\"sk-toggleable__content\"><pre>ElasticNet(random_state=0)</pre></div></div></div><div class=\"sk-serial\"><div class=\"sk-item\"><div class=\"sk-estimator sk-toggleable\"><input class=\"sk-toggleable__control sk-hidden--visually\" id=\"sk-estimator-id-17\" type=\"checkbox\" ><label for=\"sk-estimator-id-17\" class=\"sk-toggleable__label sk-toggleable__label-arrow\">ElasticNet</label><div class=\"sk-toggleable__content\"><pre>ElasticNet(random_state=0)</pre></div></div></div></div></div></div></div></div></div></div>"
      ],
      "text/plain": [
       "GridSearchCV(cv=4, estimator=ElasticNet(random_state=0), n_jobs=-1,\n",
       "             param_grid={'alpha': [0.1, 1, 10, 50, 100, 500],\n",
       "                         'l1_ratio': [0.1, 0.2, 0.3, 0.4, 0.5, 0.6, 0.7, 0.8,\n",
       "                                      0.9]},\n",
       "             scoring='r2')"
      ]
     },
     "execution_count": 242,
     "metadata": {},
     "output_type": "execute_result"
    }
   ],
   "source": [
    "from sklearn.linear_model import ElasticNet\n",
    "from sklearn.model_selection import GridSearchCV\n",
    "\n",
    "r_list = [0.1, 0.2, 0.3, 0.4, 0.5, 0.6, 0.7, 0.8, 0.9]\n",
    "alpha_list = [0.1, 1, 10, 50, 100, 500]\n",
    "\n",
    "e_net = ElasticNet(random_state = 0)\n",
    "params = {\n",
    "    'l1_ratio': r_list,\n",
    "    'alpha': alpha_list\n",
    "}\n",
    "\n",
    "gs = GridSearchCV(e_net,\n",
    "                 params,\n",
    "                 scoring = 'r2',\n",
    "                 cv = 4,\n",
    "                 n_jobs = -1)\n",
    "\n",
    "gs.fit(X_train_scaled_poly, y_train)"
   ]
  },
  {
   "cell_type": "code",
   "execution_count": 243,
   "metadata": {},
   "outputs": [
    {
     "data": {
      "text/plain": [
       "{'alpha': 0.1, 'l1_ratio': 0.2}"
      ]
     },
     "execution_count": 243,
     "metadata": {},
     "output_type": "execute_result"
    }
   ],
   "source": [
    "gs.best_params_"
   ]
  },
  {
   "cell_type": "code",
   "execution_count": 244,
   "metadata": {},
   "outputs": [
    {
     "data": {
      "text/plain": [
       "0.8565972907373957"
      ]
     },
     "execution_count": 244,
     "metadata": {},
     "output_type": "execute_result"
    }
   ],
   "source": [
    "gs.best_score_"
   ]
  },
  {
   "cell_type": "code",
   "execution_count": 245,
   "metadata": {},
   "outputs": [
    {
     "data": {
      "text/html": [
       "<div>\n",
       "<style scoped>\n",
       "    .dataframe tbody tr th:only-of-type {\n",
       "        vertical-align: middle;\n",
       "    }\n",
       "\n",
       "    .dataframe tbody tr th {\n",
       "        vertical-align: top;\n",
       "    }\n",
       "\n",
       "    .dataframe thead th {\n",
       "        text-align: right;\n",
       "    }\n",
       "</style>\n",
       "<table border=\"1\" class=\"dataframe\">\n",
       "  <thead>\n",
       "    <tr style=\"text-align: right;\">\n",
       "      <th></th>\n",
       "      <th>mean_fit_time</th>\n",
       "      <th>std_fit_time</th>\n",
       "      <th>mean_score_time</th>\n",
       "      <th>std_score_time</th>\n",
       "      <th>param_alpha</th>\n",
       "      <th>param_l1_ratio</th>\n",
       "      <th>params</th>\n",
       "      <th>split0_test_score</th>\n",
       "      <th>split1_test_score</th>\n",
       "      <th>split2_test_score</th>\n",
       "      <th>split3_test_score</th>\n",
       "      <th>mean_test_score</th>\n",
       "      <th>std_test_score</th>\n",
       "      <th>rank_test_score</th>\n",
       "    </tr>\n",
       "  </thead>\n",
       "  <tbody>\n",
       "    <tr>\n",
       "      <th>1</th>\n",
       "      <td>0.005501</td>\n",
       "      <td>0.000906</td>\n",
       "      <td>0.000274</td>\n",
       "      <td>0.000078</td>\n",
       "      <td>0.1</td>\n",
       "      <td>0.2</td>\n",
       "      <td>{'alpha': 0.1, 'l1_ratio': 0.2}</td>\n",
       "      <td>0.899531</td>\n",
       "      <td>0.787799</td>\n",
       "      <td>0.830967</td>\n",
       "      <td>0.908093</td>\n",
       "      <td>0.856597</td>\n",
       "      <td>0.049712</td>\n",
       "      <td>1</td>\n",
       "    </tr>\n",
       "    <tr>\n",
       "      <th>0</th>\n",
       "      <td>0.006177</td>\n",
       "      <td>0.000921</td>\n",
       "      <td>0.000305</td>\n",
       "      <td>0.000053</td>\n",
       "      <td>0.1</td>\n",
       "      <td>0.1</td>\n",
       "      <td>{'alpha': 0.1, 'l1_ratio': 0.1}</td>\n",
       "      <td>0.899079</td>\n",
       "      <td>0.790348</td>\n",
       "      <td>0.825952</td>\n",
       "      <td>0.909039</td>\n",
       "      <td>0.856105</td>\n",
       "      <td>0.049704</td>\n",
       "      <td>2</td>\n",
       "    </tr>\n",
       "    <tr>\n",
       "      <th>2</th>\n",
       "      <td>0.004375</td>\n",
       "      <td>0.000357</td>\n",
       "      <td>0.000251</td>\n",
       "      <td>0.000023</td>\n",
       "      <td>0.1</td>\n",
       "      <td>0.3</td>\n",
       "      <td>{'alpha': 0.1, 'l1_ratio': 0.3}</td>\n",
       "      <td>0.899428</td>\n",
       "      <td>0.785110</td>\n",
       "      <td>0.831945</td>\n",
       "      <td>0.906495</td>\n",
       "      <td>0.855744</td>\n",
       "      <td>0.050099</td>\n",
       "      <td>3</td>\n",
       "    </tr>\n",
       "    <tr>\n",
       "      <th>3</th>\n",
       "      <td>0.003886</td>\n",
       "      <td>0.000734</td>\n",
       "      <td>0.000293</td>\n",
       "      <td>0.000086</td>\n",
       "      <td>0.1</td>\n",
       "      <td>0.4</td>\n",
       "      <td>{'alpha': 0.1, 'l1_ratio': 0.4}</td>\n",
       "      <td>0.899368</td>\n",
       "      <td>0.782194</td>\n",
       "      <td>0.830459</td>\n",
       "      <td>0.904659</td>\n",
       "      <td>0.854170</td>\n",
       "      <td>0.050830</td>\n",
       "      <td>4</td>\n",
       "    </tr>\n",
       "    <tr>\n",
       "      <th>4</th>\n",
       "      <td>0.003743</td>\n",
       "      <td>0.000604</td>\n",
       "      <td>0.000292</td>\n",
       "      <td>0.000043</td>\n",
       "      <td>0.1</td>\n",
       "      <td>0.5</td>\n",
       "      <td>{'alpha': 0.1, 'l1_ratio': 0.5}</td>\n",
       "      <td>0.898742</td>\n",
       "      <td>0.778316</td>\n",
       "      <td>0.829445</td>\n",
       "      <td>0.902813</td>\n",
       "      <td>0.852329</td>\n",
       "      <td>0.051731</td>\n",
       "      <td>5</td>\n",
       "    </tr>\n",
       "  </tbody>\n",
       "</table>\n",
       "</div>"
      ],
      "text/plain": [
       "   mean_fit_time  std_fit_time  mean_score_time  std_score_time param_alpha  \\\n",
       "1       0.005501      0.000906         0.000274        0.000078         0.1   \n",
       "0       0.006177      0.000921         0.000305        0.000053         0.1   \n",
       "2       0.004375      0.000357         0.000251        0.000023         0.1   \n",
       "3       0.003886      0.000734         0.000293        0.000086         0.1   \n",
       "4       0.003743      0.000604         0.000292        0.000043         0.1   \n",
       "\n",
       "  param_l1_ratio                           params  split0_test_score  \\\n",
       "1            0.2  {'alpha': 0.1, 'l1_ratio': 0.2}           0.899531   \n",
       "0            0.1  {'alpha': 0.1, 'l1_ratio': 0.1}           0.899079   \n",
       "2            0.3  {'alpha': 0.1, 'l1_ratio': 0.3}           0.899428   \n",
       "3            0.4  {'alpha': 0.1, 'l1_ratio': 0.4}           0.899368   \n",
       "4            0.5  {'alpha': 0.1, 'l1_ratio': 0.5}           0.898742   \n",
       "\n",
       "   split1_test_score  split2_test_score  split3_test_score  mean_test_score  \\\n",
       "1           0.787799           0.830967           0.908093         0.856597   \n",
       "0           0.790348           0.825952           0.909039         0.856105   \n",
       "2           0.785110           0.831945           0.906495         0.855744   \n",
       "3           0.782194           0.830459           0.904659         0.854170   \n",
       "4           0.778316           0.829445           0.902813         0.852329   \n",
       "\n",
       "   std_test_score  rank_test_score  \n",
       "1        0.049712                1  \n",
       "0        0.049704                2  \n",
       "2        0.050099                3  \n",
       "3        0.050830                4  \n",
       "4        0.051731                5  "
      ]
     },
     "execution_count": 245,
     "metadata": {},
     "output_type": "execute_result"
    }
   ],
   "source": [
    "result_df = pd.DataFrame(gs.cv_results_)\n",
    "result_df.sort_values('rank_test_score').head()"
   ]
  },
  {
   "cell_type": "code",
   "execution_count": 246,
   "metadata": {},
   "outputs": [
    {
     "data": {
      "text/plain": [
       "0.7425220273454195"
      ]
     },
     "execution_count": 246,
     "metadata": {},
     "output_type": "execute_result"
    }
   ],
   "source": [
    "r2_score(y_test, gs.predict(X_test_scaled_poly))"
   ]
  },
  {
   "cell_type": "markdown",
   "metadata": {
    "slideshow": {
     "slide_type": "slide"
    }
   },
   "source": [
    "# 정리\n",
    "- 일반적으로 선형회귀의 경우 어느정도 규제가 있는 경우가 성능이 좋다.\n",
    "- <span style='background-color:#fff5b1'>기본적으로 **Ridge**를 사용한다.</span>\n",
    "- Target에 영향을 주는 <span style='background-color:#fff5b1'>**Feature가 몇 개뿐일 경우**</span> 특성의 가중치를 0으로 만들어 주는 <span style='background-color:#fff5b1'>**Lasso** 사용한다. </span>\n",
    "- 특성 수가 학습 샘플 수 보다 많거나 feature간에 연관성이 높을 때는 **ElasticNet**을 사용한다."
   ]
  }
 ],
 "metadata": {
  "kernelspec": {
   "display_name": "Python 3 (ipykernel)",
   "language": "python",
   "name": "python3"
  },
  "language_info": {
   "codemirror_mode": {
    "name": "ipython",
    "version": 3
   },
   "file_extension": ".py",
   "mimetype": "text/x-python",
   "name": "python",
   "nbconvert_exporter": "python",
   "pygments_lexer": "ipython3",
   "version": "3.9.15"
  },
  "toc": {
   "base_numbering": 1,
   "nav_menu": {},
   "number_sections": false,
   "sideBar": true,
   "skip_h1_title": false,
   "title_cell": "Table of Contents",
   "title_sidebar": "Contents",
   "toc_cell": false,
   "toc_position": {},
   "toc_section_display": true,
   "toc_window_display": false
  },
  "varInspector": {
   "cols": {
    "lenName": 16,
    "lenType": 16,
    "lenVar": 40
   },
   "kernels_config": {
    "python": {
     "delete_cmd_postfix": "",
     "delete_cmd_prefix": "del ",
     "library": "var_list.py",
     "varRefreshCmd": "print(var_dic_list())"
    },
    "r": {
     "delete_cmd_postfix": ") ",
     "delete_cmd_prefix": "rm(",
     "library": "var_list.r",
     "varRefreshCmd": "cat(var_dic_list()) "
    }
   },
   "types_to_exclude": [
    "module",
    "function",
    "builtin_function_or_method",
    "instance",
    "_Feature"
   ],
   "window_display": false
  }
 },
 "nbformat": 4,
 "nbformat_minor": 4
}
