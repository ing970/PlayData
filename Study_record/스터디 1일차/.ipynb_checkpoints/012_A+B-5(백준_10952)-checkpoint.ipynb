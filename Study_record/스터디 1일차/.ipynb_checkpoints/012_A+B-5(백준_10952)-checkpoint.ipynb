{
 "cells": [
  {
   "cell_type": "markdown",
   "id": "7ca39a81",
   "metadata": {},
   "source": [
    "# 012. A+B-5 (10952번)\n"
   ]
  },
  {
   "cell_type": "markdown",
   "id": "ff7dfb58",
   "metadata": {},
   "source": [
    "- 백준 \n",
    "\n",
    "https://www.acmicpc.net/problem/10952\n"
   ]
  },
  {
   "cell_type": "markdown",
   "id": "5c1a0e47",
   "metadata": {},
   "source": [
    "# 문제\n",
    "- 두 정수 A와 B를 입력받은 다음, A+B를 출력하는 프로그램을 작성하시오.\n",
    "\n"
   ]
  },
  {
   "cell_type": "markdown",
   "id": "22792698",
   "metadata": {},
   "source": [
    "# 입력\n",
    "- 입력은 여러 개의 테스트 케이스로 이루어져 있다. 각 테스트 케이스는 한 줄로 이루어져 있으며, 각 줄에 A와 B가 주어진다. (0 < A, B < 10) 입력의 마지막에는 0 두 개가 들어온다."
   ]
  },
  {
   "cell_type": "markdown",
   "id": "f5dd69ff",
   "metadata": {},
   "source": [
    "# 출력\n",
    "- 각 테스트 케이스마다 A+B를 출력한다.\n",
    "\n",
    "\n",
    "\n"
   ]
  },
  {
   "cell_type": "markdown",
   "id": "1d6cb0c5",
   "metadata": {},
   "source": [
    "## solution 1."
   ]
  },
  {
   "cell_type": "code",
   "execution_count": 1,
   "id": "ed0663da",
   "metadata": {
    "scrolled": true
   },
   "outputs": [
    {
     "name": "stdout",
     "output_type": "stream",
     "text": [
      "1 1\n",
      "2\n",
      "2 3\n",
      "5\n",
      "3 4\n",
      "7\n",
      "9 8\n",
      "17\n",
      "5 2\n",
      "7\n",
      "0 0\n"
     ]
    }
   ],
   "source": [
    "while True:\n",
    "    a, b = map(int, input().split())\n",
    "    if a == 0 and b == 0:\n",
    "        break\n",
    "    else:\n",
    "        print(a + b)"
   ]
  },
  {
   "cell_type": "markdown",
   "id": "6fc92635",
   "metadata": {},
   "source": [
    "## solution 2."
   ]
  },
  {
   "cell_type": "code",
   "execution_count": null,
   "id": "e4ae1813",
   "metadata": {},
   "outputs": [],
   "source": []
  }
 ],
 "metadata": {
  "kernelspec": {
   "display_name": "Python 3 (ipykernel)",
   "language": "python",
   "name": "python3"
  },
  "language_info": {
   "codemirror_mode": {
    "name": "ipython",
    "version": 3
   },
   "file_extension": ".py",
   "mimetype": "text/x-python",
   "name": "python",
   "nbconvert_exporter": "python",
   "pygments_lexer": "ipython3",
   "version": "3.9.13"
  }
 },
 "nbformat": 4,
 "nbformat_minor": 5
}
