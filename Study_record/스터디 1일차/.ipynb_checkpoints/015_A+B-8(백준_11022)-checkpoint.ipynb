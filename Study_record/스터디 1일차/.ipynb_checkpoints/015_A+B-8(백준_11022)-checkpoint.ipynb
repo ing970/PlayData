{
 "cells": [
  {
   "cell_type": "markdown",
   "id": "7ca39a81",
   "metadata": {},
   "source": [
    "# 015. A+B-8 (11022번)\n"
   ]
  },
  {
   "cell_type": "markdown",
   "id": "ff7dfb58",
   "metadata": {},
   "source": [
    "- 백준 \n",
    "\n",
    "https://www.acmicpc.net/problem/11022\n"
   ]
  },
  {
   "cell_type": "markdown",
   "id": "5c1a0e47",
   "metadata": {},
   "source": [
    "# 문제\n",
    "-두 정수 A와 B를 입력받은 다음, A+B를 출력하는 프로그램을 작성하시오.\n",
    "\n",
    "\n"
   ]
  },
  {
   "cell_type": "markdown",
   "id": "22792698",
   "metadata": {},
   "source": [
    "# 입력\n",
    "-첫째 줄에 테스트 케이스의 개수 T가 주어진다.\n",
    "\n",
    "각 테스트 케이스는 한 줄로 이루어져 있으며, 각 줄에 A와 B가 주어진다. A와 B는 콤마(,)로 구분되어 있다. (0 < A, B < 10)."
   ]
  },
  {
   "cell_type": "markdown",
   "id": "f5dd69ff",
   "metadata": {},
   "source": [
    "# 출력\n",
    "- 각 테스트 케이스마다 \"Case #x: A + B = C\" 형식으로 출력한다. x는 테스트 케이스 번호이고 1부터 시작하며, C는 A+B이다."
   ]
  },
  {
   "cell_type": "markdown",
   "id": "1d6cb0c5",
   "metadata": {},
   "source": [
    "## solution 1."
   ]
  },
  {
   "cell_type": "code",
   "execution_count": 6,
   "id": "69d2db07",
   "metadata": {
    "scrolled": true
   },
   "outputs": [
    {
     "name": "stdout",
     "output_type": "stream",
     "text": [
      "5\n",
      "1 1\n",
      "Case #1: 1 + 1 = 2\n",
      "2 3\n",
      "Case #2: 2 + 3 = 5\n",
      "3 4\n",
      "Case #3: 3 + 4 = 7\n",
      "9 8\n",
      "Case #4: 9 + 8 = 17\n",
      "5 2\n",
      "Case #5: 5 + 2 = 7\n"
     ]
    }
   ],
   "source": [
    "## solution 1.i = int(input())\n",
    "\n",
    "for x in range(1,i+1):\n",
    "    a, b = map(int, input().split())\n",
    "    print(f'Case #{x}: {a} + {b} = {a+b}')"
   ]
  },
  {
   "cell_type": "markdown",
   "id": "efc8c587",
   "metadata": {},
   "source": [
    "## solution 2."
   ]
  },
  {
   "cell_type": "code",
   "execution_count": null,
   "id": "99270c9e",
   "metadata": {},
   "outputs": [],
   "source": []
  }
 ],
 "metadata": {
  "kernelspec": {
   "display_name": "Python 3 (ipykernel)",
   "language": "python",
   "name": "python3"
  },
  "language_info": {
   "codemirror_mode": {
    "name": "ipython",
    "version": 3
   },
   "file_extension": ".py",
   "mimetype": "text/x-python",
   "name": "python",
   "nbconvert_exporter": "python",
   "pygments_lexer": "ipython3",
   "version": "3.9.13"
  }
 },
 "nbformat": 4,
 "nbformat_minor": 5
}
