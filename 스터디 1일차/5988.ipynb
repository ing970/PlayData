{
 "cells": [
  {
   "cell_type": "code",
   "execution_count": 1,
   "id": "2f042081",
   "metadata": {},
   "outputs": [
    {
     "name": "stdout",
     "output_type": "stream",
     "text": [
      "2\n",
      "1024\n",
      "even\n",
      "5931\n",
      "odd\n"
     ]
    }
   ],
   "source": [
    "n = int(input())\n",
    "for x in range(n):\n",
    "    k = int(input())\n",
    "    if k%2 == 0:\n",
    "        print(\"even\")\n",
    "\n",
    "    else:\n",
    "        print(\"odd\")"
   ]
  }
 ],
 "metadata": {
  "kernelspec": {
   "display_name": "Python 3 (ipykernel)",
   "language": "python",
   "name": "python3"
  },
  "language_info": {
   "codemirror_mode": {
    "name": "ipython",
    "version": 3
   },
   "file_extension": ".py",
   "mimetype": "text/x-python",
   "name": "python",
   "nbconvert_exporter": "python",
   "pygments_lexer": "ipython3",
   "version": "3.9.15"
  }
 },
 "nbformat": 4,
 "nbformat_minor": 5
}
