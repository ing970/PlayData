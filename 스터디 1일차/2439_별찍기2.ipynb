{
 "cells": [
  {
   "cell_type": "markdown",
   "id": "5c1a0e47",
   "metadata": {},
   "source": [
    "# 문제\n",
    "- 첫째 줄에는 별 1개, 둘째 줄에는 별 2개, N번째 줄에는 별 N개를 찍는 문제\n",
    "\n",
    "하지만, 오른쪽을 기준으로 정렬한 별(예제 참고)을 출력하시오."
   ]
  },
  {
   "cell_type": "markdown",
   "id": "22792698",
   "metadata": {},
   "source": [
    "# 입력\n",
    "- 첫째 줄에 N(1 ≤ N ≤ 100)이 주어진다."
   ]
  },
  {
   "cell_type": "markdown",
   "id": "f5dd69ff",
   "metadata": {},
   "source": [
    "# 출력\n",
    "- 첫째 줄부터 N번째 줄까지 차례대로 별을 출력한다."
   ]
  },
  {
   "cell_type": "code",
   "execution_count": null,
   "id": "34a7bace",
   "metadata": {},
   "outputs": [],
   "source": [
    " N = int(input())\n",
    "for i in range(1,N+1):\n",
    "    print(\" \"*(N-i)+\"*\"*i)"
   ]
  }
 ],
 "metadata": {
  "kernelspec": {
   "display_name": "Python 3 (ipykernel)",
   "language": "python",
   "name": "python3"
  },
  "language_info": {
   "codemirror_mode": {
    "name": "ipython",
    "version": 3
   },
   "file_extension": ".py",
   "mimetype": "text/x-python",
   "name": "python",
   "nbconvert_exporter": "python",
   "pygments_lexer": "ipython3",
   "version": "3.9.15"
  }
 },
 "nbformat": 4,
 "nbformat_minor": 5
}
